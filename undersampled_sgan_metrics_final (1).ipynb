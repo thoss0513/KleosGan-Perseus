{
 "cells": [
  {
   "cell_type": "markdown",
   "id": "b26b6e1b-a96d-4b8f-b69c-97caad5edb75",
   "metadata": {},
   "source": [
    "# Training a Simple GAN Model for Sentence Embeddings"
   ]
  },
  {
   "cell_type": "code",
   "execution_count": 1,
   "id": "9f13714e-a0d7-40f6-adce-bbdc125592ac",
   "metadata": {},
   "outputs": [
    {
     "name": "stderr",
     "output_type": "stream",
     "text": [
      "2024-04-14 18:26:59.843505: I tensorflow/core/platform/cpu_feature_guard.cc:210] This TensorFlow binary is optimized to use available CPU instructions in performance-critical operations.\n",
      "To enable the following instructions: AVX2 FMA, in other operations, rebuild TensorFlow with the appropriate compiler flags.\n"
     ]
    }
   ],
   "source": [
    "import torch\n",
    "import torch.nn as nn\n",
    "import torch.optim as optim\n",
    "import torchvision\n",
    "import torchvision.datasets as datasets\n",
    "from torch.utils.data import DataLoader, Dataset\n",
    "import torchvision.transforms as transforms\n",
    "from torch.utils.tensorboard import SummaryWriter  # to print to tensorboard\n",
    "import pandas as pd\n",
    "import ast\n",
    "import numpy as np\n",
    "from numpy import expand_dims\n",
    "from numpy import zeros\n",
    "from numpy import ones\n",
    "from numpy import asarray\n",
    "from numpy.random import randn\n",
    "from numpy.random import randint\n",
    "from keras.optimizers import Adam\n",
    "from keras.models import Model\n",
    "from keras.layers import Input\n",
    "from keras.layers import Dense\n",
    "from keras.layers import Reshape\n",
    "from keras.layers import Flatten\n",
    "from keras.layers import Conv2D\n",
    "from keras.layers import Conv1D\n",
    "from keras.layers import Conv2DTranspose\n",
    "from keras.layers import LeakyReLU\n",
    "from keras.layers import Dropout\n",
    "from keras.layers import Lambda\n",
    "from keras.layers import Activation\n",
    "from matplotlib import pyplot as plt\n",
    "from keras import backend\n",
    "from keras.models import Sequential\n",
    "from sklearn.model_selection import train_test_split\n",
    "import matplotlib.pyplot as plt\n",
    "from sklearn.metrics import classification_report\n",
    "import tensorflow as tf\n",
    "\n",
    "np.random.seed(42)\n",
    "\n",
    "\n",
    "MAX_LENGTH = 768\n"
   ]
  },
  {
   "cell_type": "markdown",
   "id": "0f5696eb-9815-4a42-a1cd-85ed58a42387",
   "metadata": {},
   "source": [
    "# Preprocessing Data"
   ]
  },
  {
   "cell_type": "code",
   "execution_count": 2,
   "id": "c1cc60b7-a136-4ea6-9575-1c1f96f65ab4",
   "metadata": {},
   "outputs": [
    {
     "data": {
      "text/html": [
       "<div>\n",
       "<style scoped>\n",
       "    .dataframe tbody tr th:only-of-type {\n",
       "        vertical-align: middle;\n",
       "    }\n",
       "\n",
       "    .dataframe tbody tr th {\n",
       "        vertical-align: top;\n",
       "    }\n",
       "\n",
       "    .dataframe thead th {\n",
       "        text-align: right;\n",
       "    }\n",
       "</style>\n",
       "<table border=\"1\" class=\"dataframe\">\n",
       "  <thead>\n",
       "    <tr style=\"text-align: right;\">\n",
       "      <th></th>\n",
       "      <th>Unnamed: 0</th>\n",
       "      <th>author_labels</th>\n",
       "      <th>cls_tokens</th>\n",
       "    </tr>\n",
       "  </thead>\n",
       "  <tbody>\n",
       "    <tr>\n",
       "      <th>0</th>\n",
       "      <td>0</td>\n",
       "      <td>1</td>\n",
       "      <td>[0.278237104415893, -0.33750003576278603, 0.84...</td>\n",
       "    </tr>\n",
       "    <tr>\n",
       "      <th>1</th>\n",
       "      <td>1</td>\n",
       "      <td>1</td>\n",
       "      <td>[-0.13946822285652102, 0.093057677149772, 0.73...</td>\n",
       "    </tr>\n",
       "    <tr>\n",
       "      <th>2</th>\n",
       "      <td>2</td>\n",
       "      <td>1</td>\n",
       "      <td>[-1.493581295013427, 0.748962104320526, 1.0086...</td>\n",
       "    </tr>\n",
       "    <tr>\n",
       "      <th>3</th>\n",
       "      <td>3</td>\n",
       "      <td>1</td>\n",
       "      <td>[-0.9141901135444641, 0.6804959774017331, 0.90...</td>\n",
       "    </tr>\n",
       "    <tr>\n",
       "      <th>4</th>\n",
       "      <td>4</td>\n",
       "      <td>1</td>\n",
       "      <td>[0.040547348558902005, 0.08085644245147701, 1....</td>\n",
       "    </tr>\n",
       "    <tr>\n",
       "      <th>...</th>\n",
       "      <td>...</td>\n",
       "      <td>...</td>\n",
       "      <td>...</td>\n",
       "    </tr>\n",
       "    <tr>\n",
       "      <th>32592</th>\n",
       "      <td>32592</td>\n",
       "      <td>0</td>\n",
       "      <td>[0.036508537828922, -0.9830706119537351, 0.194...</td>\n",
       "    </tr>\n",
       "    <tr>\n",
       "      <th>32593</th>\n",
       "      <td>32593</td>\n",
       "      <td>0</td>\n",
       "      <td>[-0.49513417482376104, -0.42453348636627203, 0...</td>\n",
       "    </tr>\n",
       "    <tr>\n",
       "      <th>32594</th>\n",
       "      <td>32594</td>\n",
       "      <td>0</td>\n",
       "      <td>[-0.6720252633094781, -0.37544131278991705, 2....</td>\n",
       "    </tr>\n",
       "    <tr>\n",
       "      <th>32595</th>\n",
       "      <td>32595</td>\n",
       "      <td>0</td>\n",
       "      <td>[0.153745874762535, -0.533583104610443, -0.371...</td>\n",
       "    </tr>\n",
       "    <tr>\n",
       "      <th>32596</th>\n",
       "      <td>32596</td>\n",
       "      <td>0</td>\n",
       "      <td>[-0.7284083962440491, -0.38280051946640004, -0...</td>\n",
       "    </tr>\n",
       "  </tbody>\n",
       "</table>\n",
       "<p>32597 rows × 3 columns</p>\n",
       "</div>"
      ],
      "text/plain": [
       "       Unnamed: 0  author_labels  \\\n",
       "0               0              1   \n",
       "1               1              1   \n",
       "2               2              1   \n",
       "3               3              1   \n",
       "4               4              1   \n",
       "...           ...            ...   \n",
       "32592       32592              0   \n",
       "32593       32593              0   \n",
       "32594       32594              0   \n",
       "32595       32595              0   \n",
       "32596       32596              0   \n",
       "\n",
       "                                              cls_tokens  \n",
       "0      [0.278237104415893, -0.33750003576278603, 0.84...  \n",
       "1      [-0.13946822285652102, 0.093057677149772, 0.73...  \n",
       "2      [-1.493581295013427, 0.748962104320526, 1.0086...  \n",
       "3      [-0.9141901135444641, 0.6804959774017331, 0.90...  \n",
       "4      [0.040547348558902005, 0.08085644245147701, 1....  \n",
       "...                                                  ...  \n",
       "32592  [0.036508537828922, -0.9830706119537351, 0.194...  \n",
       "32593  [-0.49513417482376104, -0.42453348636627203, 0...  \n",
       "32594  [-0.6720252633094781, -0.37544131278991705, 2....  \n",
       "32595  [0.153745874762535, -0.533583104610443, -0.371...  \n",
       "32596  [-0.7284083962440491, -0.38280051946640004, -0...  \n",
       "\n",
       "[32597 rows x 3 columns]"
      ]
     },
     "execution_count": 2,
     "metadata": {},
     "output_type": "execute_result"
    }
   ],
   "source": [
    "#Limit number of rows for experimentation\n",
    "df = pd.read_csv('../data/author_csv.csv')\n",
    "num_rows = len(df)\n",
    "df = df[:num_rows]\n",
    "df"
   ]
  },
  {
   "cell_type": "code",
   "execution_count": 3,
   "id": "6fbd792d-6676-4c01-8841-dbbff92f6ff6",
   "metadata": {},
   "outputs": [
    {
     "data": {
      "text/plain": [
       "author_labels\n",
       "1    27903\n",
       "0     2352\n",
       "2     2342\n",
       "Name: count, dtype: int64"
      ]
     },
     "execution_count": 3,
     "metadata": {},
     "output_type": "execute_result"
    }
   ],
   "source": [
    "df['author_labels'].value_counts()"
   ]
  },
  {
   "cell_type": "code",
   "execution_count": 4,
   "id": "bab501a5-f34e-46e9-ba16-b1dfa185bfa0",
   "metadata": {},
   "outputs": [
    {
     "data": {
      "text/plain": [
       "tensor([[ 0.2782, -0.3375,  0.8478,  ..., -0.7637, -0.5338,  0.3607],\n",
       "        [-0.1395,  0.0931,  0.7390,  ...,  0.8308, -0.3973,  1.1339],\n",
       "        [-1.4936,  0.7490,  1.0087,  ...,  1.5033, -1.2829, -0.5658],\n",
       "        ...,\n",
       "        [-0.6720, -0.3754,  2.1211,  ...,  1.0377, -0.6048, -0.7254],\n",
       "        [ 0.1537, -0.5336, -0.3715,  ...,  1.6371,  0.6499, -0.5228],\n",
       "        [-0.7284, -0.3828, -0.2024,  ...,  1.4613,  0.1921,  1.5803]])"
      ]
     },
     "execution_count": 4,
     "metadata": {},
     "output_type": "execute_result"
    }
   ],
   "source": [
    "# Load the text lines\n",
    "n_classes = df['author_labels'].nunique()\n",
    "\n",
    "embeddings = df['cls_tokens']\n",
    "\n",
    "#Turn EagerTensors list to Normal Tensors list\n",
    "embeddings_pytorch = [torch.tensor(np.array(ast.literal_eval(e)), dtype=torch.float32) for e in embeddings]\n",
    "\n",
    "# Convert list of tensors to a single tensor\n",
    "embeddings_tensor = torch.stack(embeddings_pytorch).squeeze(1)  # Adjust dimensions as needed\n",
    "\n",
    "embeddings_tensor"
   ]
  },
  {
   "cell_type": "code",
   "execution_count": 5,
   "id": "6bd18ba9-ad03-441b-ae16-6c57b6299035",
   "metadata": {},
   "outputs": [
    {
     "data": {
      "text/plain": [
       "torch.Size([32597, 768])"
      ]
     },
     "execution_count": 5,
     "metadata": {},
     "output_type": "execute_result"
    }
   ],
   "source": [
    "embeddings_tensor.shape"
   ]
  },
  {
   "cell_type": "code",
   "execution_count": 6,
   "id": "794028ae-f73a-4a32-ac2f-a684d6aa1979",
   "metadata": {},
   "outputs": [],
   "source": [
    "embeddings = embeddings_tensor\n"
   ]
  },
  {
   "cell_type": "code",
   "execution_count": 7,
   "id": "9ffebf5c-56d3-4a3b-85d9-2f8d7609f250",
   "metadata": {},
   "outputs": [],
   "source": [
    "#Initialize Dataset\n",
    "embeddings = embeddings_tensor \n",
    "\n",
    "# Instantiate the custom dataset"
   ]
  },
  {
   "cell_type": "markdown",
   "id": "8a466ebf-7433-4603-ab37-84204a728102",
   "metadata": {},
   "source": [
    "# Training the SGAN Model"
   ]
  },
  {
   "cell_type": "code",
   "execution_count": 8,
   "id": "77893c09-9853-4b6d-9f70-a404daeba950",
   "metadata": {},
   "outputs": [
    {
     "name": "stdout",
     "output_type": "stream",
     "text": [
      "(400, 768)\n",
      "(400,)\n"
     ]
    }
   ],
   "source": [
    "X = embeddings_tensor\n",
    "y = df['author_labels'].to_numpy()\n",
    "\n",
    "lr = 3e-4\n",
    "n_samples = 2000\n",
    "n_epochs = 2\n",
    "loss_var_threshold = 0.01\n",
    "\n",
    "# select a supervised subset of the dataset, ensures classes are balanced\n",
    "def select_supervised_samples(dataset, n_samples=n_samples, n_classes=df['author_labels'].nunique()):\n",
    "    X, y = dataset\n",
    "    n_per_class = int(n_samples / n_classes)\n",
    "    X_samples = []\n",
    "    y_samples = []\n",
    "\n",
    "    \n",
    "    for class_index in range(n_classes):\n",
    "        \n",
    "        # Find the indices of all samples belonging to the current class\n",
    "        class_indices = np.where(y == class_index)[0]\n",
    "        \n",
    "        # Randomly choose n_per_class indices for this class\n",
    "        selected_indices = np.random.choice(class_indices, n_per_class, replace=False)\n",
    "        # Append the selected samples to the lists\n",
    "        X_samples.append(X[selected_indices])\n",
    "        y_samples.append(y[selected_indices])\n",
    "    \n",
    "    # Concatenate all selected samples\n",
    "    X_samples = np.concatenate(X_samples, axis=0)\n",
    "    y_samples = np.concatenate(y_samples, axis=0)\n",
    "    return X_samples, y_samples\n",
    "X, y = select_supervised_samples([X, y], n_samples = 2000)\n",
    "X_train, X_test, y_train, y_test = train_test_split(X, y, test_size=0.2, random_state=6)\n",
    "print(X_test.shape)\n",
    "print(y_test.shape)"
   ]
  },
  {
   "cell_type": "markdown",
   "id": "6a7e334f-ae89-444d-a951-7fc68392ec8b",
   "metadata": {},
   "source": [
    "The next code block contains all the helper functions and the training script. The main functions to look at are the \n",
    "define_discriminator, define_generator, and define_gan functions. They contain the model architecture for the discriminator and generator functions."
   ]
  },
  {
   "cell_type": "code",
   "execution_count": 9,
   "id": "ab96ffce-c405-4993-afac-b5322c7f30d6",
   "metadata": {},
   "outputs": [],
   "source": [
    "latent_dim  = 500 \n",
    "\n",
    "# define the standalone supervised and unsupervised discriminator models\n",
    "def define_discriminator(in_shape=(MAX_LENGTH,), n_classes=df['author_labels'].nunique()):\n",
    "    \n",
    "  # Embedding input\n",
    "  in_image = Input(shape=in_shape)\n",
    "\n",
    "  # downsample\n",
    "  fe = Dense(units=100, activation='sigmoid')(in_image)\n",
    "  fe = LeakyReLU(negative_slope=0.2)(fe)\n",
    "\n",
    "  # downsample\n",
    "  fe = Dense(units=100, activation='sigmoid')(in_image)\n",
    "  fe = LeakyReLU(negative_slope=0.2)(fe)\n",
    "    \n",
    "  # dropout\n",
    "  fe = Dropout(0.2)(fe)\n",
    "\n",
    "  # output layer nodes\n",
    "  fe = Dense(n_classes)(fe)\n",
    "    \n",
    "  # supervised output\n",
    "  c_out_layer = Activation('softmax')(fe)\n",
    "    \n",
    "  # define and compile supervised discriminator model\n",
    "  c_model = Model(in_image, c_out_layer)\n",
    "  c_model.compile(loss='sparse_categorical_crossentropy', optimizer=Adam(learning_rate=lr, beta_1=0.5), metrics=['accuracy'])\n",
    "    \n",
    "  # unsupervised output\n",
    "  d_out_layer = Dense(units = n_classes + 1, activation = 'softmax')(fe)\n",
    "    \n",
    "  # define and compile unsupervised discriminator model\n",
    "  d_model = Model(in_image, d_out_layer)\n",
    "  d_model.compile(loss='sparse_categorical_crossentropy', optimizer=Adam(learning_rate=lr, beta_1=0.5), metrics = ['accuracy'])\n",
    "  d_model.trainable = True\n",
    "  c_model.trainable = True\n",
    "    \n",
    "  return d_model, c_model\n",
    "\n",
    "# define the standalone generator model\n",
    "def define_generator(latent_dim, n_outputs=MAX_LENGTH):\n",
    "\tmodel = Sequential()\n",
    "\tmodel.add(Dense(200, activation='sigmoid', kernel_initializer='he_uniform', input_dim=latent_dim))\n",
    "\tmodel.add(Dense(100, activation='sigmoid'))\n",
    "\tmodel.add(Dense(n_outputs, activation='tanh'))\n",
    "\treturn model\n",
    "\n",
    "# define the combined generator and discriminator model, for updating the generator\n",
    "def define_gan(generator, discriminator):\n",
    "    # Ensure the discriminator's parameters are not trainable in the combined model\n",
    "    discriminator.trainable = False\n",
    "    \n",
    "    # Create a new input layer for the GAN (noise sample)\n",
    "    gan_input = Input(shape=(latent_dim,))\n",
    "    \n",
    "    # Output of the generator\n",
    "    generator_output = generator(gan_input)\n",
    "    \n",
    "    # Output of the discriminator (takes generator's output as input)\n",
    "    gan_output = discriminator(generator_output)\n",
    "    \n",
    "    # Define the GAN model\n",
    "    gan = Model(gan_input, gan_output)\n",
    "    \n",
    "    # Compile the GAN model\n",
    "    optimizer = Adam(learning_rate=lr)\n",
    "    gan.compile(optimizer=optimizer, loss='sparse_categorical_crossentropy')\n",
    "    \n",
    "    return gan\n",
    "\n",
    "\n",
    "# load the embeddings and classifications\n",
    "def load_real_samples(X,y):\n",
    "\tprint(X.shape, y.shape)\n",
    "\treturn [X, y]\n",
    "\n",
    "# select a supervised subset of the dataset, ensures classes are balanced\n",
    "def select_supervised_samples(dataset, n_samples=n_samples, n_classes=df['author_labels'].nunique()):\n",
    "    X, y = dataset\n",
    "    n_per_class = int(n_samples / n_classes)\n",
    "    X_samples = []\n",
    "    y_samples = []\n",
    "\n",
    "    \n",
    "    for class_index in range(n_classes):\n",
    "        \n",
    "        # Find the indices of all samples belonging to the current class\n",
    "        class_indices = np.where(y == class_index)[0]\n",
    "        \n",
    "        # Randomly choose n_per_class indices for this class\n",
    "        selected_indices = np.random.choice(class_indices, n_per_class, replace=False)\n",
    "        # Append the selected samples to the lists\n",
    "        X_samples.append(X[selected_indices])\n",
    "        y_samples.append(y[selected_indices])\n",
    "    \n",
    "    # Concatenate all selected samples\n",
    "    X_samples = np.concatenate(X_samples, axis=0)\n",
    "    y_samples = np.concatenate(y_samples, axis=0)\n",
    "    return X_samples, y_samples\n",
    "\n",
    "    \n",
    "def generate_real_samples(dataset, n_samples = n_samples):\n",
    "    features, labels = dataset\n",
    "    # Generate random indices\n",
    "    indices = np.random.choice(features.shape[0], n_samples, replace=False)\n",
    "    # Select a random subset of features and labels using the indices\n",
    "    X = features[indices]\n",
    "    labels = labels[indices]\n",
    "    return X, labels\n",
    "\n",
    "def generate_real_samples_multiclass(dataset, n_samples = n_samples):\n",
    "    features, labels = dataset\n",
    "    # Generate random indices\n",
    "    indices = np.random.choice(features.shape[0], n_samples, replace=False)\n",
    "    # Select a random subset of features and labels using the indices\n",
    "    X = features[indices]\n",
    "    labels = labels[indices]\n",
    "    # Generate class labels (assuming you want all ones for real samples)\n",
    "    y = np.ones((n_samples, 1))\n",
    "    return [X, labels], y\n",
    "\n",
    "\n",
    "# generate points in latent space as input for the generator\n",
    "def generate_latent_points(latent_dim, n_samples):\n",
    "\t# generate points in the latent space\n",
    "\tz_input = randn(latent_dim * n_samples)\n",
    "\t# reshape into a batch of inputs for the network\n",
    "\tz_input = z_input.reshape(n_samples, latent_dim)\n",
    "\treturn z_input\n",
    "\n",
    "# use the generator to generate n fake examples, with class labels\n",
    "def generate_fake_samples(generator, latent_dim, n_samples):\n",
    "\t# generate points in latent space\n",
    "\tz_input = generate_latent_points(latent_dim, n_samples)\n",
    "\t# predict outputs\n",
    "\timages = generator.predict(z_input)\n",
    "\t# create class labels\n",
    "\ty = ones((n_samples, 1)) * n_classes\n",
    "\treturn images, y\n",
    "\n",
    "# generate samples and save as a plot and save the model\n",
    "def summarize_performance(step, g_model, c_model, latent_dim, dataset, acc_list, n_samples=100):\n",
    "    \n",
    "\t# prepare fake examples\n",
    "\tX, _ = generate_fake_samples(g_model, latent_dim, n_samples)\n",
    "    \n",
    "\t# scale from [-1,1] to [0,1]\n",
    "\tX = (X + 1) / 2.0\n",
    "    \n",
    "\t# evaluate the classifier model\n",
    "\tX, y = dataset\n",
    "\t_, acc = c_model.evaluate(X, y, verbose=0)\n",
    "\tacc_list.append(acc)\n",
    "\tprint('Classifier Accuracy: %.3f%%' % (acc * 100))\n",
    "    \n",
    "\n",
    "# train the generator and discriminator\n",
    "def train(g_model, d_model, c_model, gan_model, dataset, latent_dim, acc_list, n_epochs=n_epochs, n_batch=100):\n",
    "    print(f'Latent dimensions: {latent_dim}\\n-------------')\n",
    "    # Initialize lists to track losses\n",
    "    c_losses, d_losses, g_losses = [], [], []\n",
    "    loss_variance_threshold = loss_var_threshold  # Set a threshold for the variance\n",
    "    min_epochs = 5  # Set a minimum number of epochs to prevent stopping too early\n",
    "    \n",
    "    # select supervised dataset\n",
    "    X_sup, y_sup = X_train, y_train\n",
    "    print(X_sup.shape, y_sup.shape)\n",
    "    \n",
    "    # calculate the number of batches per training epoch\n",
    "    bat_per_epo = int(dataset[0].shape[0] / n_batch)\n",
    "    \n",
    "    # calculate the number of training iterations\n",
    "    n_steps = bat_per_epo * n_epochs\n",
    "    \n",
    "    # calculate the size of half a batch of samples\n",
    "    half_batch = int(n_batch / 2)\n",
    "    print('n_epochs=%d, n_batch=%d, 1/2=%d, b/e=%d, steps=%d' % (n_epochs, n_batch, half_batch, bat_per_epo, n_steps))\n",
    "    \n",
    "    # manually enumerate epochs\n",
    "    for i in range(n_steps):\n",
    "        \n",
    "        # update supervised discriminator (c)\n",
    "        Xsup_real, ysup_real = generate_real_samples([X_sup, y_sup], n_batch)\n",
    "        c_loss, c_acc = c_model.train_on_batch(Xsup_real, ysup_real)\n",
    "        \n",
    "        # update discriminator (d) on real samples\n",
    "        X_real, y_real = generate_real_samples(dataset, n_batch)\n",
    "        d_loss1, d_acc1 = d_model.train_on_batch(X_real, y_real)  # Capture loss and accuracy\n",
    "        \n",
    "        # update unsupervised discriminator (d) on fake samples\n",
    "        X_fake, y_fake = generate_fake_samples(g_model, latent_dim, n_batch)\n",
    "        d_loss2, d_acc2 = d_model.train_on_batch(X_fake, y_fake)  # Capture loss and accuracy\n",
    "\n",
    "        \n",
    "        # update generator (g)\n",
    "        X_gan, y_gan = generate_latent_points(latent_dim, n_batch), ones((n_batch, 1))\n",
    "        g_loss = gan_model.train_on_batch(X_gan, y_gan)\n",
    "        \n",
    "        # summarize loss on this batch\n",
    "        print('>%d, c(loss and accuracy)[%.3f,%.0f], d(loss on real and fake)[%.3f,%.3f], d(acc on real and fake)[%.3f,%.3f], g(loss)[%.3f]' % (i+1, c_loss, c_acc*100, d_loss1, d_loss2, d_acc1 * 100, d_acc2 * 100, g_loss))\n",
    "        \n",
    "        # evaluate the model performance every so often\n",
    "        if (i+1) % (100) == 0:\n",
    "            summarize_performance(i, g_model, c_model, latent_dim, dataset, acc_list)\n",
    "    \n",
    "        # At the end of each epoch (or defined interval) in training loop:\n",
    "        c_losses.append(c_loss)\n",
    "        d_losses.append((d_loss1 + d_loss2) / 2)\n",
    "        g_losses.append(g_loss)\n",
    "        \n",
    "        # Calculate the variance of the last N losses to check for stability\n",
    "        if len(c_losses) > min_epochs * (i + 1):  # Ensure we have enough data to make a meaningful decision\n",
    "            recent_c_var = np.var(c_losses[-min_epochs:])\n",
    "            recent_d_var = np.var(d_losses[-min_epochs:])\n",
    "            recent_g_var = np.var(g_losses[-min_epochs:])\n",
    "            \n",
    "            # Check if all losses have stabilized\n",
    "            if recent_c_var < loss_variance_threshold and recent_d_var < loss_variance_threshold and recent_g_var < loss_variance_threshold:\n",
    "                print(f\"Stopping training at epoch {i+1} due to stabilized losses.\")\n",
    "                break\n",
    "\n"
   ]
  },
  {
   "cell_type": "code",
   "execution_count": 10,
   "id": "bc0360e4-9037-4078-8f13-180764bf15c5",
   "metadata": {},
   "outputs": [],
   "source": [
    "def def_models(latent_dim):\n",
    "    d_model, c_model = define_discriminator()\n",
    "    g_model = define_generator(latent_dim)\n",
    "    gan_model = define_gan(g_model, d_model)\n",
    "    d_model.trainable = True\n",
    "    c_model.trainable = True\n",
    "    gan_model.trainable = True\n",
    "    g_model.trainable = True\n",
    "    return d_model, c_model, g_model, gan_model\n",
    "\n",
    "def train_script(latent_dim, dataset):\n",
    "    d_model, c_model, g_model, gan_model = def_models(latent_dim)\n",
    "\n",
    "    train(g_model, d_model, c_model, gan_model, dataset, latent_dim, acc_list=[])\n",
    "    return c_model, d_model, g_model, gan_model\n"
   ]
  },
  {
   "cell_type": "code",
   "execution_count": 11,
   "id": "cbd33dca",
   "metadata": {},
   "outputs": [
    {
     "name": "stdout",
     "output_type": "stream",
     "text": [
      "(1598, 768) (1598,)\n",
      "Latent dimensions: 500\n",
      "-------------\n",
      "(1598, 768) (1598,)\n",
      "n_epochs=2, n_batch=100, 1/2=50, b/e=15, steps=30\n"
     ]
    },
    {
     "name": "stderr",
     "output_type": "stream",
     "text": [
      "/Users/thossain64/anaconda3/lib/python3.11/site-packages/keras/src/layers/core/dense.py:88: UserWarning: Do not pass an `input_shape`/`input_dim` argument to a layer. When using Sequential models, prefer using an `Input(shape)` object as the first layer in the model instead.\n",
      "  super().__init__(activity_regularizer=activity_regularizer, **kwargs)\n"
     ]
    },
    {
     "name": "stdout",
     "output_type": "stream",
     "text": [
      "\u001b[1m4/4\u001b[0m \u001b[32m━━━━━━━━━━━━━━━━━━━━\u001b[0m\u001b[37m\u001b[0m \u001b[1m0s\u001b[0m 16ms/step\n",
      ">1, c(loss and accuracy)[1.341,26], d(loss on real and fake)[1.499,1.454], d(acc on real and fake)[25.000,16.500], g(loss)[1.272]\n",
      "WARNING:tensorflow:5 out of the last 5 calls to <function TensorFlowTrainer.make_train_function.<locals>.one_step_on_iterator at 0x1aebe0220> triggered tf.function retracing. Tracing is expensive and the excessive number of tracings could be due to (1) creating @tf.function repeatedly in a loop, (2) passing tensors with different shapes, (3) passing Python objects instead of tensors. For (1), please define your @tf.function outside of the loop. For (2), @tf.function has reduce_retracing=True option that can avoid unnecessary retracing. For (3), please refer to https://www.tensorflow.org/guide/function#controlling_retracing and https://www.tensorflow.org/api_docs/python/tf/function for  more details.\n",
      "WARNING:tensorflow:6 out of the last 6 calls to <function TensorFlowTrainer.make_train_function.<locals>.one_step_on_iterator at 0x1aef09d00> triggered tf.function retracing. Tracing is expensive and the excessive number of tracings could be due to (1) creating @tf.function repeatedly in a loop, (2) passing tensors with different shapes, (3) passing Python objects instead of tensors. For (1), please define your @tf.function outside of the loop. For (2), @tf.function has reduce_retracing=True option that can avoid unnecessary retracing. For (3), please refer to https://www.tensorflow.org/guide/function#controlling_retracing and https://www.tensorflow.org/api_docs/python/tf/function for  more details.\n",
      "\u001b[1m4/4\u001b[0m \u001b[32m━━━━━━━━━━━━━━━━━━━━\u001b[0m\u001b[37m\u001b[0m \u001b[1m0s\u001b[0m 2ms/step \n",
      ">2, c(loss and accuracy)[1.246,29], d(loss on real and fake)[1.423,1.397], d(acc on real and fake)[22.000,20.250], g(loss)[1.204]\n",
      "\u001b[1m4/4\u001b[0m \u001b[32m━━━━━━━━━━━━━━━━━━━━\u001b[0m\u001b[37m\u001b[0m \u001b[1m0s\u001b[0m 2ms/step \n",
      ">3, c(loss and accuracy)[1.213,32], d(loss on real and fake)[1.387,1.355], d(acc on real and fake)[23.200,22.167], g(loss)[1.154]\n",
      "\u001b[1m4/4\u001b[0m \u001b[32m━━━━━━━━━━━━━━━━━━━━\u001b[0m\u001b[37m\u001b[0m \u001b[1m0s\u001b[0m 2ms/step \n",
      ">4, c(loss and accuracy)[1.224,31], d(loss on real and fake)[1.350,1.327], d(acc on real and fake)[23.571,22.625], g(loss)[1.106]\n",
      "\u001b[1m4/4\u001b[0m \u001b[32m━━━━━━━━━━━━━━━━━━━━\u001b[0m\u001b[37m\u001b[0m \u001b[1m0s\u001b[0m 2ms/step \n",
      ">5, c(loss and accuracy)[1.223,32], d(loss on real and fake)[1.323,1.298], d(acc on real and fake)[25.444,24.500], g(loss)[1.068]\n",
      "\u001b[1m4/4\u001b[0m \u001b[32m━━━━━━━━━━━━━━━━━━━━\u001b[0m\u001b[37m\u001b[0m \u001b[1m0s\u001b[0m 2ms/step \n",
      ">6, c(loss and accuracy)[1.212,32], d(loss on real and fake)[1.303,1.281], d(acc on real and fake)[25.182,24.667], g(loss)[1.035]\n",
      "\u001b[1m4/4\u001b[0m \u001b[32m━━━━━━━━━━━━━━━━━━━━\u001b[0m\u001b[37m\u001b[0m \u001b[1m0s\u001b[0m 2ms/step \n",
      ">7, c(loss and accuracy)[1.216,32], d(loss on real and fake)[1.292,1.272], d(acc on real and fake)[24.615,23.857], g(loss)[1.005]\n",
      "\u001b[1m4/4\u001b[0m \u001b[32m━━━━━━━━━━━━━━━━━━━━\u001b[0m\u001b[37m\u001b[0m \u001b[1m0s\u001b[0m 2ms/step \n",
      ">8, c(loss and accuracy)[1.213,32], d(loss on real and fake)[1.284,1.267], d(acc on real and fake)[24.067,23.313], g(loss)[0.977]\n",
      "\u001b[1m4/4\u001b[0m \u001b[32m━━━━━━━━━━━━━━━━━━━━\u001b[0m\u001b[37m\u001b[0m \u001b[1m0s\u001b[0m 2ms/step \n",
      ">9, c(loss and accuracy)[1.217,31], d(loss on real and fake)[1.275,1.259], d(acc on real and fake)[23.882,23.056], g(loss)[0.953]\n",
      "\u001b[1m4/4\u001b[0m \u001b[32m━━━━━━━━━━━━━━━━━━━━\u001b[0m\u001b[37m\u001b[0m \u001b[1m0s\u001b[0m 2ms/step \n",
      ">10, c(loss and accuracy)[1.216,31], d(loss on real and fake)[1.264,1.251], d(acc on real and fake)[23.789,22.900], g(loss)[0.932]\n",
      "\u001b[1m4/4\u001b[0m \u001b[32m━━━━━━━━━━━━━━━━━━━━\u001b[0m\u001b[37m\u001b[0m \u001b[1m0s\u001b[0m 2ms/step \n",
      ">11, c(loss and accuracy)[1.208,32], d(loss on real and fake)[1.259,1.247], d(acc on real and fake)[23.333,22.591], g(loss)[0.913]\n",
      "\u001b[1m4/4\u001b[0m \u001b[32m━━━━━━━━━━━━━━━━━━━━\u001b[0m\u001b[37m\u001b[0m \u001b[1m0s\u001b[0m 2ms/step \n",
      ">12, c(loss and accuracy)[1.205,32], d(loss on real and fake)[1.251,1.240], d(acc on real and fake)[23.000,22.333], g(loss)[0.895]\n",
      "\u001b[1m4/4\u001b[0m \u001b[32m━━━━━━━━━━━━━━━━━━━━\u001b[0m\u001b[37m\u001b[0m \u001b[1m0s\u001b[0m 2ms/step \n",
      ">13, c(loss and accuracy)[1.202,33], d(loss on real and fake)[1.249,1.239], d(acc on real and fake)[22.440,21.654], g(loss)[0.878]\n",
      "\u001b[1m4/4\u001b[0m \u001b[32m━━━━━━━━━━━━━━━━━━━━\u001b[0m\u001b[37m\u001b[0m \u001b[1m0s\u001b[0m 2ms/step \n",
      ">14, c(loss and accuracy)[1.194,34], d(loss on real and fake)[1.242,1.232], d(acc on real and fake)[22.481,21.893], g(loss)[0.862]\n",
      "\u001b[1m4/4\u001b[0m \u001b[32m━━━━━━━━━━━━━━━━━━━━\u001b[0m\u001b[37m\u001b[0m \u001b[1m0s\u001b[0m 2ms/step \n",
      ">15, c(loss and accuracy)[1.188,34], d(loss on real and fake)[1.236,1.228], d(acc on real and fake)[22.379,21.733], g(loss)[0.848]\n",
      "\u001b[1m4/4\u001b[0m \u001b[32m━━━━━━━━━━━━━━━━━━━━\u001b[0m\u001b[37m\u001b[0m \u001b[1m0s\u001b[0m 2ms/step \n",
      ">16, c(loss and accuracy)[1.185,34], d(loss on real and fake)[1.232,1.225], d(acc on real and fake)[21.903,21.281], g(loss)[0.835]\n",
      "\u001b[1m4/4\u001b[0m \u001b[32m━━━━━━━━━━━━━━━━━━━━\u001b[0m\u001b[37m\u001b[0m \u001b[1m0s\u001b[0m 2ms/step \n",
      ">17, c(loss and accuracy)[1.183,34], d(loss on real and fake)[1.229,1.222], d(acc on real and fake)[21.636,21.176], g(loss)[0.823]\n",
      "\u001b[1m4/4\u001b[0m \u001b[32m━━━━━━━━━━━━━━━━━━━━\u001b[0m\u001b[37m\u001b[0m \u001b[1m0s\u001b[0m 2ms/step \n",
      ">18, c(loss and accuracy)[1.180,34], d(loss on real and fake)[1.226,1.220], d(acc on real and fake)[21.829,21.278], g(loss)[0.811]\n",
      "\u001b[1m4/4\u001b[0m \u001b[32m━━━━━━━━━━━━━━━━━━━━\u001b[0m\u001b[37m\u001b[0m \u001b[1m0s\u001b[0m 2ms/step \n",
      ">19, c(loss and accuracy)[1.175,35], d(loss on real and fake)[1.224,1.219], d(acc on real and fake)[21.405,20.868], g(loss)[0.800]\n",
      "\u001b[1m4/4\u001b[0m \u001b[32m━━━━━━━━━━━━━━━━━━━━\u001b[0m\u001b[37m\u001b[0m \u001b[1m0s\u001b[0m 2ms/step \n",
      ">20, c(loss and accuracy)[1.175,35], d(loss on real and fake)[1.223,1.219], d(acc on real and fake)[21.205,20.700], g(loss)[0.789]\n",
      "\u001b[1m4/4\u001b[0m \u001b[32m━━━━━━━━━━━━━━━━━━━━\u001b[0m\u001b[37m\u001b[0m \u001b[1m0s\u001b[0m 2ms/step \n",
      ">21, c(loss and accuracy)[1.175,35], d(loss on real and fake)[1.221,1.217], d(acc on real and fake)[20.951,20.476], g(loss)[0.780]\n",
      "\u001b[1m4/4\u001b[0m \u001b[32m━━━━━━━━━━━━━━━━━━━━\u001b[0m\u001b[37m\u001b[0m \u001b[1m0s\u001b[0m 2ms/step \n",
      ">22, c(loss and accuracy)[1.174,35], d(loss on real and fake)[1.220,1.217], d(acc on real and fake)[20.837,20.364], g(loss)[0.770]\n",
      "\u001b[1m4/4\u001b[0m \u001b[32m━━━━━━━━━━━━━━━━━━━━\u001b[0m\u001b[37m\u001b[0m \u001b[1m0s\u001b[0m 2ms/step \n",
      ">23, c(loss and accuracy)[1.172,35], d(loss on real and fake)[1.220,1.216], d(acc on real and fake)[20.711,20.304], g(loss)[0.762]\n",
      "\u001b[1m4/4\u001b[0m \u001b[32m━━━━━━━━━━━━━━━━━━━━\u001b[0m\u001b[37m\u001b[0m \u001b[1m0s\u001b[0m 7ms/step \n",
      ">24, c(loss and accuracy)[1.168,35], d(loss on real and fake)[1.218,1.215], d(acc on real and fake)[20.702,20.271], g(loss)[0.754]\n",
      "\u001b[1m4/4\u001b[0m \u001b[32m━━━━━━━━━━━━━━━━━━━━\u001b[0m\u001b[37m\u001b[0m \u001b[1m0s\u001b[0m 2ms/step \n",
      ">25, c(loss and accuracy)[1.168,35], d(loss on real and fake)[1.217,1.214], d(acc on real and fake)[20.531,20.140], g(loss)[0.747]\n",
      "\u001b[1m4/4\u001b[0m \u001b[32m━━━━━━━━━━━━━━━━━━━━\u001b[0m\u001b[37m\u001b[0m \u001b[1m0s\u001b[0m 2ms/step \n",
      ">26, c(loss and accuracy)[1.168,35], d(loss on real and fake)[1.215,1.212], d(acc on real and fake)[20.529,20.154], g(loss)[0.740]\n",
      "\u001b[1m4/4\u001b[0m \u001b[32m━━━━━━━━━━━━━━━━━━━━\u001b[0m\u001b[37m\u001b[0m \u001b[1m0s\u001b[0m 2ms/step \n",
      ">27, c(loss and accuracy)[1.166,35], d(loss on real and fake)[1.215,1.212], d(acc on real and fake)[20.377,20.000], g(loss)[0.734]\n",
      "\u001b[1m4/4\u001b[0m \u001b[32m━━━━━━━━━━━━━━━━━━━━\u001b[0m\u001b[37m\u001b[0m \u001b[1m0s\u001b[0m 3ms/step \n",
      ">28, c(loss and accuracy)[1.164,35], d(loss on real and fake)[1.214,1.210], d(acc on real and fake)[20.382,20.089], g(loss)[0.727]\n",
      "\u001b[1m4/4\u001b[0m \u001b[32m━━━━━━━━━━━━━━━━━━━━\u001b[0m\u001b[37m\u001b[0m \u001b[1m0s\u001b[0m 2ms/step \n",
      ">29, c(loss and accuracy)[1.162,36], d(loss on real and fake)[1.212,1.209], d(acc on real and fake)[20.386,20.034], g(loss)[0.722]\n",
      "\u001b[1m4/4\u001b[0m \u001b[32m━━━━━━━━━━━━━━━━━━━━\u001b[0m\u001b[37m\u001b[0m \u001b[1m0s\u001b[0m 3ms/step \n",
      ">30, c(loss and accuracy)[1.161,36], d(loss on real and fake)[1.211,1.208], d(acc on real and fake)[20.271,19.967], g(loss)[0.716]\n"
     ]
    }
   ],
   "source": [
    "train_dataset = load_real_samples(X_train,y_train)\n",
    "\n",
    "best_c_model, best_d_model, best_g_model, best_gan = train_script(latent_dim=500, dataset=train_dataset)"
   ]
  },
  {
   "cell_type": "code",
   "execution_count": 12,
   "id": "9b8f07af",
   "metadata": {},
   "outputs": [
    {
     "data": {
      "text/html": [
       "<pre style=\"white-space:pre;overflow-x:auto;line-height:normal;font-family:Menlo,'DejaVu Sans Mono',consolas,'Courier New',monospace\"><span style=\"font-weight: bold\">Model: \"functional_1\"</span>\n",
       "</pre>\n"
      ],
      "text/plain": [
       "\u001b[1mModel: \"functional_1\"\u001b[0m\n"
      ]
     },
     "metadata": {},
     "output_type": "display_data"
    },
    {
     "data": {
      "text/html": [
       "<pre style=\"white-space:pre;overflow-x:auto;line-height:normal;font-family:Menlo,'DejaVu Sans Mono',consolas,'Courier New',monospace\">┏━━━━━━━━━━━━━━━━━━━━━━━━━━━━━━━━━┳━━━━━━━━━━━━━━━━━━━━━━━━┳━━━━━━━━━━━━━━━┓\n",
       "┃<span style=\"font-weight: bold\"> Layer (type)                    </span>┃<span style=\"font-weight: bold\"> Output Shape           </span>┃<span style=\"font-weight: bold\">       Param # </span>┃\n",
       "┡━━━━━━━━━━━━━━━━━━━━━━━━━━━━━━━━━╇━━━━━━━━━━━━━━━━━━━━━━━━╇━━━━━━━━━━━━━━━┩\n",
       "│ input_layer (<span style=\"color: #0087ff; text-decoration-color: #0087ff\">InputLayer</span>)        │ (<span style=\"color: #00d7ff; text-decoration-color: #00d7ff\">None</span>, <span style=\"color: #00af00; text-decoration-color: #00af00\">768</span>)            │             <span style=\"color: #00af00; text-decoration-color: #00af00\">0</span> │\n",
       "├─────────────────────────────────┼────────────────────────┼───────────────┤\n",
       "│ dense_1 (<span style=\"color: #0087ff; text-decoration-color: #0087ff\">Dense</span>)                 │ (<span style=\"color: #00d7ff; text-decoration-color: #00d7ff\">None</span>, <span style=\"color: #00af00; text-decoration-color: #00af00\">100</span>)            │        <span style=\"color: #00af00; text-decoration-color: #00af00\">76,900</span> │\n",
       "├─────────────────────────────────┼────────────────────────┼───────────────┤\n",
       "│ leaky_re_lu_1 (<span style=\"color: #0087ff; text-decoration-color: #0087ff\">LeakyReLU</span>)       │ (<span style=\"color: #00d7ff; text-decoration-color: #00d7ff\">None</span>, <span style=\"color: #00af00; text-decoration-color: #00af00\">100</span>)            │             <span style=\"color: #00af00; text-decoration-color: #00af00\">0</span> │\n",
       "├─────────────────────────────────┼────────────────────────┼───────────────┤\n",
       "│ dropout (<span style=\"color: #0087ff; text-decoration-color: #0087ff\">Dropout</span>)               │ (<span style=\"color: #00d7ff; text-decoration-color: #00d7ff\">None</span>, <span style=\"color: #00af00; text-decoration-color: #00af00\">100</span>)            │             <span style=\"color: #00af00; text-decoration-color: #00af00\">0</span> │\n",
       "├─────────────────────────────────┼────────────────────────┼───────────────┤\n",
       "│ dense_2 (<span style=\"color: #0087ff; text-decoration-color: #0087ff\">Dense</span>)                 │ (<span style=\"color: #00d7ff; text-decoration-color: #00d7ff\">None</span>, <span style=\"color: #00af00; text-decoration-color: #00af00\">3</span>)              │           <span style=\"color: #00af00; text-decoration-color: #00af00\">303</span> │\n",
       "├─────────────────────────────────┼────────────────────────┼───────────────┤\n",
       "│ activation (<span style=\"color: #0087ff; text-decoration-color: #0087ff\">Activation</span>)         │ (<span style=\"color: #00d7ff; text-decoration-color: #00d7ff\">None</span>, <span style=\"color: #00af00; text-decoration-color: #00af00\">3</span>)              │             <span style=\"color: #00af00; text-decoration-color: #00af00\">0</span> │\n",
       "└─────────────────────────────────┴────────────────────────┴───────────────┘\n",
       "</pre>\n"
      ],
      "text/plain": [
       "┏━━━━━━━━━━━━━━━━━━━━━━━━━━━━━━━━━┳━━━━━━━━━━━━━━━━━━━━━━━━┳━━━━━━━━━━━━━━━┓\n",
       "┃\u001b[1m \u001b[0m\u001b[1mLayer (type)                   \u001b[0m\u001b[1m \u001b[0m┃\u001b[1m \u001b[0m\u001b[1mOutput Shape          \u001b[0m\u001b[1m \u001b[0m┃\u001b[1m \u001b[0m\u001b[1m      Param #\u001b[0m\u001b[1m \u001b[0m┃\n",
       "┡━━━━━━━━━━━━━━━━━━━━━━━━━━━━━━━━━╇━━━━━━━━━━━━━━━━━━━━━━━━╇━━━━━━━━━━━━━━━┩\n",
       "│ input_layer (\u001b[38;5;33mInputLayer\u001b[0m)        │ (\u001b[38;5;45mNone\u001b[0m, \u001b[38;5;34m768\u001b[0m)            │             \u001b[38;5;34m0\u001b[0m │\n",
       "├─────────────────────────────────┼────────────────────────┼───────────────┤\n",
       "│ dense_1 (\u001b[38;5;33mDense\u001b[0m)                 │ (\u001b[38;5;45mNone\u001b[0m, \u001b[38;5;34m100\u001b[0m)            │        \u001b[38;5;34m76,900\u001b[0m │\n",
       "├─────────────────────────────────┼────────────────────────┼───────────────┤\n",
       "│ leaky_re_lu_1 (\u001b[38;5;33mLeakyReLU\u001b[0m)       │ (\u001b[38;5;45mNone\u001b[0m, \u001b[38;5;34m100\u001b[0m)            │             \u001b[38;5;34m0\u001b[0m │\n",
       "├─────────────────────────────────┼────────────────────────┼───────────────┤\n",
       "│ dropout (\u001b[38;5;33mDropout\u001b[0m)               │ (\u001b[38;5;45mNone\u001b[0m, \u001b[38;5;34m100\u001b[0m)            │             \u001b[38;5;34m0\u001b[0m │\n",
       "├─────────────────────────────────┼────────────────────────┼───────────────┤\n",
       "│ dense_2 (\u001b[38;5;33mDense\u001b[0m)                 │ (\u001b[38;5;45mNone\u001b[0m, \u001b[38;5;34m3\u001b[0m)              │           \u001b[38;5;34m303\u001b[0m │\n",
       "├─────────────────────────────────┼────────────────────────┼───────────────┤\n",
       "│ activation (\u001b[38;5;33mActivation\u001b[0m)         │ (\u001b[38;5;45mNone\u001b[0m, \u001b[38;5;34m3\u001b[0m)              │             \u001b[38;5;34m0\u001b[0m │\n",
       "└─────────────────────────────────┴────────────────────────┴───────────────┘\n"
      ]
     },
     "metadata": {},
     "output_type": "display_data"
    },
    {
     "data": {
      "text/html": [
       "<pre style=\"white-space:pre;overflow-x:auto;line-height:normal;font-family:Menlo,'DejaVu Sans Mono',consolas,'Courier New',monospace\"><span style=\"font-weight: bold\"> Total params: </span><span style=\"color: #00af00; text-decoration-color: #00af00\">231,611</span> (904.73 KB)\n",
       "</pre>\n"
      ],
      "text/plain": [
       "\u001b[1m Total params: \u001b[0m\u001b[38;5;34m231,611\u001b[0m (904.73 KB)\n"
      ]
     },
     "metadata": {},
     "output_type": "display_data"
    },
    {
     "data": {
      "text/html": [
       "<pre style=\"white-space:pre;overflow-x:auto;line-height:normal;font-family:Menlo,'DejaVu Sans Mono',consolas,'Courier New',monospace\"><span style=\"font-weight: bold\"> Trainable params: </span><span style=\"color: #00af00; text-decoration-color: #00af00\">77,203</span> (301.57 KB)\n",
       "</pre>\n"
      ],
      "text/plain": [
       "\u001b[1m Trainable params: \u001b[0m\u001b[38;5;34m77,203\u001b[0m (301.57 KB)\n"
      ]
     },
     "metadata": {},
     "output_type": "display_data"
    },
    {
     "data": {
      "text/html": [
       "<pre style=\"white-space:pre;overflow-x:auto;line-height:normal;font-family:Menlo,'DejaVu Sans Mono',consolas,'Courier New',monospace\"><span style=\"font-weight: bold\"> Non-trainable params: </span><span style=\"color: #00af00; text-decoration-color: #00af00\">0</span> (0.00 B)\n",
       "</pre>\n"
      ],
      "text/plain": [
       "\u001b[1m Non-trainable params: \u001b[0m\u001b[38;5;34m0\u001b[0m (0.00 B)\n"
      ]
     },
     "metadata": {},
     "output_type": "display_data"
    },
    {
     "data": {
      "text/html": [
       "<pre style=\"white-space:pre;overflow-x:auto;line-height:normal;font-family:Menlo,'DejaVu Sans Mono',consolas,'Courier New',monospace\"><span style=\"font-weight: bold\"> Optimizer params: </span><span style=\"color: #00af00; text-decoration-color: #00af00\">154,408</span> (603.16 KB)\n",
       "</pre>\n"
      ],
      "text/plain": [
       "\u001b[1m Optimizer params: \u001b[0m\u001b[38;5;34m154,408\u001b[0m (603.16 KB)\n"
      ]
     },
     "metadata": {},
     "output_type": "display_data"
    }
   ],
   "source": [
    "best_c_model.summary()"
   ]
  },
  {
   "cell_type": "code",
   "execution_count": 13,
   "id": "14e7fbe1",
   "metadata": {},
   "outputs": [
    {
     "data": {
      "text/html": [
       "<pre style=\"white-space:pre;overflow-x:auto;line-height:normal;font-family:Menlo,'DejaVu Sans Mono',consolas,'Courier New',monospace\"><span style=\"font-weight: bold\">Model: \"functional_3\"</span>\n",
       "</pre>\n"
      ],
      "text/plain": [
       "\u001b[1mModel: \"functional_3\"\u001b[0m\n"
      ]
     },
     "metadata": {},
     "output_type": "display_data"
    },
    {
     "data": {
      "text/html": [
       "<pre style=\"white-space:pre;overflow-x:auto;line-height:normal;font-family:Menlo,'DejaVu Sans Mono',consolas,'Courier New',monospace\">┏━━━━━━━━━━━━━━━━━━━━━━━━━━━━━━━━━┳━━━━━━━━━━━━━━━━━━━━━━━━┳━━━━━━━━━━━━━━━┓\n",
       "┃<span style=\"font-weight: bold\"> Layer (type)                    </span>┃<span style=\"font-weight: bold\"> Output Shape           </span>┃<span style=\"font-weight: bold\">       Param # </span>┃\n",
       "┡━━━━━━━━━━━━━━━━━━━━━━━━━━━━━━━━━╇━━━━━━━━━━━━━━━━━━━━━━━━╇━━━━━━━━━━━━━━━┩\n",
       "│ input_layer (<span style=\"color: #0087ff; text-decoration-color: #0087ff\">InputLayer</span>)        │ (<span style=\"color: #00d7ff; text-decoration-color: #00d7ff\">None</span>, <span style=\"color: #00af00; text-decoration-color: #00af00\">768</span>)            │             <span style=\"color: #00af00; text-decoration-color: #00af00\">0</span> │\n",
       "├─────────────────────────────────┼────────────────────────┼───────────────┤\n",
       "│ dense_1 (<span style=\"color: #0087ff; text-decoration-color: #0087ff\">Dense</span>)                 │ (<span style=\"color: #00d7ff; text-decoration-color: #00d7ff\">None</span>, <span style=\"color: #00af00; text-decoration-color: #00af00\">100</span>)            │        <span style=\"color: #00af00; text-decoration-color: #00af00\">76,900</span> │\n",
       "├─────────────────────────────────┼────────────────────────┼───────────────┤\n",
       "│ leaky_re_lu_1 (<span style=\"color: #0087ff; text-decoration-color: #0087ff\">LeakyReLU</span>)       │ (<span style=\"color: #00d7ff; text-decoration-color: #00d7ff\">None</span>, <span style=\"color: #00af00; text-decoration-color: #00af00\">100</span>)            │             <span style=\"color: #00af00; text-decoration-color: #00af00\">0</span> │\n",
       "├─────────────────────────────────┼────────────────────────┼───────────────┤\n",
       "│ dropout (<span style=\"color: #0087ff; text-decoration-color: #0087ff\">Dropout</span>)               │ (<span style=\"color: #00d7ff; text-decoration-color: #00d7ff\">None</span>, <span style=\"color: #00af00; text-decoration-color: #00af00\">100</span>)            │             <span style=\"color: #00af00; text-decoration-color: #00af00\">0</span> │\n",
       "├─────────────────────────────────┼────────────────────────┼───────────────┤\n",
       "│ dense_2 (<span style=\"color: #0087ff; text-decoration-color: #0087ff\">Dense</span>)                 │ (<span style=\"color: #00d7ff; text-decoration-color: #00d7ff\">None</span>, <span style=\"color: #00af00; text-decoration-color: #00af00\">3</span>)              │           <span style=\"color: #00af00; text-decoration-color: #00af00\">303</span> │\n",
       "├─────────────────────────────────┼────────────────────────┼───────────────┤\n",
       "│ dense_3 (<span style=\"color: #0087ff; text-decoration-color: #0087ff\">Dense</span>)                 │ (<span style=\"color: #00d7ff; text-decoration-color: #00d7ff\">None</span>, <span style=\"color: #00af00; text-decoration-color: #00af00\">4</span>)              │            <span style=\"color: #00af00; text-decoration-color: #00af00\">16</span> │\n",
       "└─────────────────────────────────┴────────────────────────┴───────────────┘\n",
       "</pre>\n"
      ],
      "text/plain": [
       "┏━━━━━━━━━━━━━━━━━━━━━━━━━━━━━━━━━┳━━━━━━━━━━━━━━━━━━━━━━━━┳━━━━━━━━━━━━━━━┓\n",
       "┃\u001b[1m \u001b[0m\u001b[1mLayer (type)                   \u001b[0m\u001b[1m \u001b[0m┃\u001b[1m \u001b[0m\u001b[1mOutput Shape          \u001b[0m\u001b[1m \u001b[0m┃\u001b[1m \u001b[0m\u001b[1m      Param #\u001b[0m\u001b[1m \u001b[0m┃\n",
       "┡━━━━━━━━━━━━━━━━━━━━━━━━━━━━━━━━━╇━━━━━━━━━━━━━━━━━━━━━━━━╇━━━━━━━━━━━━━━━┩\n",
       "│ input_layer (\u001b[38;5;33mInputLayer\u001b[0m)        │ (\u001b[38;5;45mNone\u001b[0m, \u001b[38;5;34m768\u001b[0m)            │             \u001b[38;5;34m0\u001b[0m │\n",
       "├─────────────────────────────────┼────────────────────────┼───────────────┤\n",
       "│ dense_1 (\u001b[38;5;33mDense\u001b[0m)                 │ (\u001b[38;5;45mNone\u001b[0m, \u001b[38;5;34m100\u001b[0m)            │        \u001b[38;5;34m76,900\u001b[0m │\n",
       "├─────────────────────────────────┼────────────────────────┼───────────────┤\n",
       "│ leaky_re_lu_1 (\u001b[38;5;33mLeakyReLU\u001b[0m)       │ (\u001b[38;5;45mNone\u001b[0m, \u001b[38;5;34m100\u001b[0m)            │             \u001b[38;5;34m0\u001b[0m │\n",
       "├─────────────────────────────────┼────────────────────────┼───────────────┤\n",
       "│ dropout (\u001b[38;5;33mDropout\u001b[0m)               │ (\u001b[38;5;45mNone\u001b[0m, \u001b[38;5;34m100\u001b[0m)            │             \u001b[38;5;34m0\u001b[0m │\n",
       "├─────────────────────────────────┼────────────────────────┼───────────────┤\n",
       "│ dense_2 (\u001b[38;5;33mDense\u001b[0m)                 │ (\u001b[38;5;45mNone\u001b[0m, \u001b[38;5;34m3\u001b[0m)              │           \u001b[38;5;34m303\u001b[0m │\n",
       "├─────────────────────────────────┼────────────────────────┼───────────────┤\n",
       "│ dense_3 (\u001b[38;5;33mDense\u001b[0m)                 │ (\u001b[38;5;45mNone\u001b[0m, \u001b[38;5;34m4\u001b[0m)              │            \u001b[38;5;34m16\u001b[0m │\n",
       "└─────────────────────────────────┴────────────────────────┴───────────────┘\n"
      ]
     },
     "metadata": {},
     "output_type": "display_data"
    },
    {
     "data": {
      "text/html": [
       "<pre style=\"white-space:pre;overflow-x:auto;line-height:normal;font-family:Menlo,'DejaVu Sans Mono',consolas,'Courier New',monospace\"><span style=\"font-weight: bold\"> Total params: </span><span style=\"color: #00af00; text-decoration-color: #00af00\">231,659</span> (904.92 KB)\n",
       "</pre>\n"
      ],
      "text/plain": [
       "\u001b[1m Total params: \u001b[0m\u001b[38;5;34m231,659\u001b[0m (904.92 KB)\n"
      ]
     },
     "metadata": {},
     "output_type": "display_data"
    },
    {
     "data": {
      "text/html": [
       "<pre style=\"white-space:pre;overflow-x:auto;line-height:normal;font-family:Menlo,'DejaVu Sans Mono',consolas,'Courier New',monospace\"><span style=\"font-weight: bold\"> Trainable params: </span><span style=\"color: #00af00; text-decoration-color: #00af00\">77,219</span> (301.64 KB)\n",
       "</pre>\n"
      ],
      "text/plain": [
       "\u001b[1m Trainable params: \u001b[0m\u001b[38;5;34m77,219\u001b[0m (301.64 KB)\n"
      ]
     },
     "metadata": {},
     "output_type": "display_data"
    },
    {
     "data": {
      "text/html": [
       "<pre style=\"white-space:pre;overflow-x:auto;line-height:normal;font-family:Menlo,'DejaVu Sans Mono',consolas,'Courier New',monospace\"><span style=\"font-weight: bold\"> Non-trainable params: </span><span style=\"color: #00af00; text-decoration-color: #00af00\">0</span> (0.00 B)\n",
       "</pre>\n"
      ],
      "text/plain": [
       "\u001b[1m Non-trainable params: \u001b[0m\u001b[38;5;34m0\u001b[0m (0.00 B)\n"
      ]
     },
     "metadata": {},
     "output_type": "display_data"
    },
    {
     "data": {
      "text/html": [
       "<pre style=\"white-space:pre;overflow-x:auto;line-height:normal;font-family:Menlo,'DejaVu Sans Mono',consolas,'Courier New',monospace\"><span style=\"font-weight: bold\"> Optimizer params: </span><span style=\"color: #00af00; text-decoration-color: #00af00\">154,440</span> (603.29 KB)\n",
       "</pre>\n"
      ],
      "text/plain": [
       "\u001b[1m Optimizer params: \u001b[0m\u001b[38;5;34m154,440\u001b[0m (603.29 KB)\n"
      ]
     },
     "metadata": {},
     "output_type": "display_data"
    }
   ],
   "source": [
    "best_d_model.summary()"
   ]
  },
  {
   "cell_type": "markdown",
   "id": "cdbdd35a",
   "metadata": {},
   "source": [
    "Generating Fake Data for Model Evaluation"
   ]
  },
  {
   "cell_type": "code",
   "execution_count": 14,
   "id": "2df3be7b",
   "metadata": {},
   "outputs": [
    {
     "name": "stdout",
     "output_type": "stream",
     "text": [
      "\u001b[1m5/5\u001b[0m \u001b[32m━━━━━━━━━━━━━━━━━━━━\u001b[0m\u001b[37m\u001b[0m \u001b[1m0s\u001b[0m 4ms/step \n",
      "\u001b[1m17/17\u001b[0m \u001b[32m━━━━━━━━━━━━━━━━━━━━\u001b[0m\u001b[37m\u001b[0m \u001b[1m0s\u001b[0m 4ms/step\n"
     ]
    }
   ],
   "source": [
    "## Creating Fake Data\n",
    "\n",
    "n_classes = 3\n",
    "\n",
    "# Augmenting Test Data\n",
    "fake_test_tokens, fake_test_labels = generate_fake_samples(best_g_model, latent_dim=500, n_samples=int(X_test.shape[0] / n_classes))\n",
    "\n",
    "X_test_with_fakes = np.concatenate((X_test, fake_test_tokens), axis = 0)\n",
    "y_test_with_fakes = np.concatenate((y_test, fake_test_labels.flatten()), axis = 0)\n",
    "\n",
    "indices = tf.range(start=0, limit=tf.shape(X_test_with_fakes)[0], dtype=tf.int32)\n",
    "shuffled_indices = tf.random.shuffle(indices)\n",
    "\n",
    "X_test_with_fakes = tf.gather(X_test_with_fakes, shuffled_indices)\n",
    "y_test_with_fakes = tf.gather(y_test_with_fakes, shuffled_indices)\n",
    "\n",
    "\n",
    "#Augmenting Train Data\n",
    "fake_train_tokens, fake_train_labels = generate_fake_samples(best_g_model, latent_dim=500, n_samples=int(X_train.shape[0] / n_classes))\n",
    "\n",
    "X_train_with_fakes = np.concatenate((X_train, fake_train_tokens), axis=0)\n",
    "y_train_with_fakes = np.concatenate((y_train, fake_train_labels.flatten()), axis=0)\n",
    "\n",
    "indices = tf.range(start=0, limit=tf.shape(X_train_with_fakes)[0], dtype=tf.int32)\n",
    "shuffled_indices = tf.random.shuffle(indices)\n",
    "\n",
    "X_train_with_fakes = tf.gather(X_train_with_fakes, shuffled_indices)\n",
    "y_train_with_fakes = tf.gather(y_train_with_fakes, shuffled_indices)"
   ]
  },
  {
   "cell_type": "code",
   "execution_count": 15,
   "id": "74cba746",
   "metadata": {},
   "outputs": [
    {
     "data": {
      "text/plain": [
       "Text(0.5, 1.0, 'Class distribution in Balanced (Undersampled) Test Dataset')"
      ]
     },
     "execution_count": 15,
     "metadata": {},
     "output_type": "execute_result"
    },
    {
     "data": {
      "image/png": "[encoded data removed]",
      "text/plain": [
       "<Figure size 640x480 with 1 Axes>"
      ]
     },
     "metadata": {},
     "output_type": "display_data"
    }
   ],
   "source": [
    "plt.hist(y_test_with_fakes)\n",
    "plt.title(\"Class distribution in Balanced (Undersampled) Test Dataset\")"
   ]
  },
  {
   "cell_type": "code",
   "execution_count": 16,
   "id": "4ebcebfe",
   "metadata": {},
   "outputs": [
    {
     "data": {
      "text/plain": [
       "Text(0.5, 1.0, 'Class distribution in Balanced (Undersampled) Train Dataset')"
      ]
     },
     "execution_count": 16,
     "metadata": {},
     "output_type": "execute_result"
    },
    {
     "data": {
      "image/png": "[encoded data removed]",
      "text/plain": [
       "<Figure size 640x480 with 1 Axes>"
      ]
     },
     "metadata": {},
     "output_type": "display_data"
    }
   ],
   "source": [
    "plt.hist(y_train_with_fakes)\n",
    "plt.title(\"Class distribution in Balanced (Undersampled) Train Dataset\")"
   ]
  },
  {
   "cell_type": "markdown",
   "id": "9e57171d",
   "metadata": {},
   "source": [
    "Generate Predictions from the Discriminator Classifier"
   ]
  },
  {
   "cell_type": "code",
   "execution_count": 17,
   "id": "0df7210a",
   "metadata": {},
   "outputs": [
    {
     "name": "stdout",
     "output_type": "stream",
     "text": [
      "\u001b[1m17/17\u001b[0m \u001b[32m━━━━━━━━━━━━━━━━━━━━\u001b[0m\u001b[37m\u001b[0m \u001b[1m0s\u001b[0m 5ms/step\n",
      "\u001b[1m17/17\u001b[0m \u001b[32m━━━━━━━━━━━━━━━━━━━━\u001b[0m\u001b[37m\u001b[0m \u001b[1m0s\u001b[0m 2ms/step - accuracy: 0.2487 - loss: 1.2671  \n",
      "\u001b[1m67/67\u001b[0m \u001b[32m━━━━━━━━━━━━━━━━━━━━\u001b[0m\u001b[37m\u001b[0m \u001b[1m0s\u001b[0m 2ms/step\n",
      "\u001b[1m67/67\u001b[0m \u001b[32m━━━━━━━━━━━━━━━━━━━━\u001b[0m\u001b[37m\u001b[0m \u001b[1m0s\u001b[0m 2ms/step - accuracy: 0.3005 - loss: 1.2350\n"
     ]
    }
   ],
   "source": [
    "# Test Set Predictions \n",
    "d_test_predictions = best_d_model.predict(X_test_with_fakes)\n",
    "d_test_predicted_labels = d_test_predictions.argmax(axis=1)\n",
    "d_test_loss, d_test_accuracy = best_d_model.evaluate(X_test_with_fakes, y_test_with_fakes)\n",
    "\n",
    "test_discriminator_classification_report = classification_report(y_test_with_fakes, d_test_predicted_labels, target_names=['Hesiod', 'Homer', 'Homeric Hymns', 'Generated CLS'])\n",
    "\n",
    "# Train Set Predictions\n",
    "d_train_preds = best_d_model.predict(X_train_with_fakes) \n",
    "d_train_predicted_labels = d_train_preds.argmax(axis=1)\n",
    "d_train_loss, d_train_acc = best_d_model.evaluate(X_train_with_fakes, y_train_with_fakes) \n",
    "\n",
    "train_discriminator_classification_report = classification_report(y_train_with_fakes, d_train_predicted_labels, target_names=['Hesiod', 'Homer', 'Homeric Hymns', 'Generated CLS'])\n"
   ]
  },
  {
   "cell_type": "markdown",
   "id": "958c4be1",
   "metadata": {},
   "source": [
    "Generate Predictions from the Baseline Classifier"
   ]
  },
  {
   "cell_type": "code",
   "execution_count": 18,
   "id": "c0ac8266",
   "metadata": {},
   "outputs": [
    {
     "name": "stdout",
     "output_type": "stream",
     "text": [
      "\u001b[1m13/13\u001b[0m \u001b[32m━━━━━━━━━━━━━━━━━━━━\u001b[0m\u001b[37m\u001b[0m \u001b[1m0s\u001b[0m 6ms/step\n",
      "\u001b[1m13/13\u001b[0m \u001b[32m━━━━━━━━━━━━━━━━━━━━\u001b[0m\u001b[37m\u001b[0m \u001b[1m0s\u001b[0m 11ms/step - accuracy: 0.3742 - loss: 1.1066\n",
      "\u001b[1m50/50\u001b[0m \u001b[32m━━━━━━━━━━━━━━━━━━━━\u001b[0m\u001b[37m\u001b[0m \u001b[1m0s\u001b[0m 2ms/step\n",
      "\u001b[1m50/50\u001b[0m \u001b[32m━━━━━━━━━━━━━━━━━━━━\u001b[0m\u001b[37m\u001b[0m \u001b[1m0s\u001b[0m 2ms/step - accuracy: 0.3944 - loss: 1.0951\n"
     ]
    }
   ],
   "source": [
    "#Test Set Predictions\n",
    "c_test_predictions = best_c_model.predict(X_test)\n",
    "c_test_predicted_labels = c_test_predictions.argmax(axis=1)\n",
    "c_test_loss, c_test_accuracy = best_c_model.evaluate(X_test, y_test)\n",
    "\n",
    "test_baseline_classification_report = classification_report(y_test, c_test_predicted_labels, target_names=['Hesiod', 'Homer', 'Homeric Hymns'])\n",
    "\n",
    "# Train Set Predictions\n",
    "c_train_predictions = best_c_model.predict(X_train)\n",
    "c_train_predicted_labels = c_train_predictions.argmax(axis=1)\n",
    "c_train_loss, c_train_accuracy = best_c_model.evaluate(X_train, y_train)\n",
    "\n",
    "train_baseline_classification_report = classification_report(y_train, c_train_predicted_labels, target_names=['Hesiod', 'Homer', 'Homeric Hymns'])\n"
   ]
  },
  {
   "cell_type": "code",
   "execution_count": 19,
   "id": "0490a22d",
   "metadata": {},
   "outputs": [
    {
     "name": "stdout",
     "output_type": "stream",
     "text": [
      "Discriminator Testing Set Performance: Undersampled Balanced Dataset\n",
      "               precision    recall  f1-score   support\n",
      "\n",
      "       Hesiod       0.34      0.73      0.46       119\n",
      "        Homer       0.04      0.03      0.03       147\n",
      "Homeric Hymns       0.37      0.37      0.37       134\n",
      "Generated CLS       0.00      0.00      0.00       133\n",
      "\n",
      "     accuracy                           0.26       533\n",
      "    macro avg       0.19      0.28      0.22       533\n",
      " weighted avg       0.18      0.26      0.21       533\n",
      "\n",
      "\n",
      "discriminator test loss:  1.251749873161316\n",
      "discriminator test accuracy:  0.26454034447669983\n"
     ]
    }
   ],
   "source": [
    "print(\"Discriminator Testing Set Performance: Undersampled Balanced Dataset\")\n",
    "print(test_discriminator_classification_report)\n",
    "print(\"\")\n",
    "print(\"discriminator test loss: \", d_test_loss)\n",
    "print(\"discriminator test accuracy: \", d_test_accuracy)"
   ]
  },
  {
   "cell_type": "code",
   "execution_count": 20,
   "id": "460e7b14",
   "metadata": {},
   "outputs": [
    {
     "name": "stdout",
     "output_type": "stream",
     "text": [
      "Discriminator Training Set Performance: Undersampled Balanced Dataset\n",
      "               precision    recall  f1-score   support\n",
      "\n",
      "       Hesiod       0.41      0.77      0.54       547\n",
      "        Homer       0.03      0.03      0.03       519\n",
      "Homeric Hymns       0.42      0.42      0.42       532\n",
      "Generated CLS       0.00      0.00      0.00       532\n",
      "\n",
      "     accuracy                           0.31      2130\n",
      "    macro avg       0.22      0.30      0.25      2130\n",
      " weighted avg       0.22      0.31      0.25      2130\n",
      "\n",
      "\n",
      "discriminator train loss:  1.2317248582839966\n",
      "discriminator train accuracy:  0.30985915660858154\n"
     ]
    }
   ],
   "source": [
    "print(\"Discriminator Training Set Performance: Undersampled Balanced Dataset\")\n",
    "print(train_discriminator_classification_report)\n",
    "print(\"\")\n",
    "print(\"discriminator train loss: \", d_train_loss)\n",
    "print(\"discriminator train accuracy: \", d_train_acc)"
   ]
  },
  {
   "cell_type": "code",
   "execution_count": 21,
   "id": "40b958e8",
   "metadata": {},
   "outputs": [
    {
     "name": "stdout",
     "output_type": "stream",
     "text": [
      "Baseline Testing Set Performance: Undersampled Balanced Dataset\n",
      "               precision    recall  f1-score   support\n",
      "\n",
      "       Hesiod       0.33      0.23      0.27       119\n",
      "        Homer       0.38      0.76      0.50       147\n",
      "Homeric Hymns       0.14      0.02      0.04       134\n",
      "\n",
      "     accuracy                           0.36       400\n",
      "    macro avg       0.28      0.34      0.27       400\n",
      " weighted avg       0.28      0.35      0.28       400\n",
      "\n",
      "\n",
      "baseline test loss:  1.1286239624023438\n",
      "baseline test accuracy:  0.35499998927116394\n"
     ]
    }
   ],
   "source": [
    "print(\"Baseline Testing Set Performance: Undersampled Balanced Dataset\")\n",
    "print(test_baseline_classification_report)\n",
    "print(\"\")\n",
    "print(\"baseline test loss: \", c_test_loss)\n",
    "print(\"baseline test accuracy: \", c_test_accuracy)"
   ]
  },
  {
   "cell_type": "code",
   "execution_count": 22,
   "id": "98610767",
   "metadata": {},
   "outputs": [
    {
     "name": "stdout",
     "output_type": "stream",
     "text": [
      "Baseline Training Set Performance: Undersampled Balanced Dataset\n",
      "               precision    recall  f1-score   support\n",
      "\n",
      "       Hesiod       0.48      0.35      0.41       547\n",
      "        Homer       0.39      0.85      0.53       519\n",
      "Homeric Hymns       0.57      0.07      0.13       532\n",
      "\n",
      "     accuracy                           0.42      1598\n",
      "    macro avg       0.48      0.42      0.36      1598\n",
      " weighted avg       0.48      0.42      0.36      1598\n",
      "\n",
      "\n",
      "baseline train loss:  1.083097219467163\n",
      "baseline train accuracy:  0.41927409172058105\n"
     ]
    }
   ],
   "source": [
    "print(\"Baseline Training Set Performance: Undersampled Balanced Dataset\")\n",
    "print(train_baseline_classification_report)\n",
    "print(\"\")\n",
    "print(\"baseline train loss: \", c_train_loss)\n",
    "print(\"baseline train accuracy: \", c_train_accuracy)"
   ]
  },
  {
   "cell_type": "markdown",
   "id": "96d03948",
   "metadata": {},
   "source": [
    "Data Export for Further Analysis"
   ]
  },
  {
   "cell_type": "code",
   "execution_count": 23,
   "id": "d38db532",
   "metadata": {},
   "outputs": [],
   "source": [
    "## Baseline Data Export \n",
    "\n",
    "baseline_test_predictions = pd.DataFrame({\"baseline_test_labels\": y_test, \n",
    "                                          \"baseline_test_preds\": c_test_predicted_labels})\n",
    "\n",
    "baseline_train_predictions = pd.DataFrame({\"baseline_train_labels\": y_train, \n",
    "                                          \"baseline_train_preds\": c_train_predicted_labels})\n",
    "\n",
    "baseline_train_predictions.to_csv(\"undersampled_baseline_train_predictions.csv\", index=True)\n",
    "baseline_test_predictions.to_csv(\"undersampled_baseline_test_predictions.csv\", index=True)\n",
    "\n",
    "X_test_numpy = X_test\n",
    "X_train_numpy = X_train\n",
    "\n",
    "# Convert numpy array to DataFrame\n",
    "X_test_df = pd.DataFrame(X_test_numpy)\n",
    "X_train_df = pd.DataFrame(X_train_numpy)\n",
    "\n",
    "# Save the DataFrame to a CSV file\n",
    "X_test_df.to_csv('undersampled_baseline_X_test.csv', index=True)\n",
    "X_train_df.to_csv('undersampled_baseline_X_train.csv', index=True)"
   ]
  },
  {
   "cell_type": "code",
   "execution_count": 24,
   "id": "4edc83ee",
   "metadata": {},
   "outputs": [],
   "source": [
    "## Discriminator Data Export \n",
    "\n",
    "discrim_test_predictions = pd.DataFrame({\"discrim_test_labels\": y_test_with_fakes, \n",
    "                                         \"discrim_test_preds\": d_test_predicted_labels})\n",
    "\n",
    "discrim_train_predictions = pd.DataFrame({\"discrim_train_labels\": y_train_with_fakes, \n",
    "                                          \"discrim_train_preds\": d_train_predicted_labels})\n",
    "\n",
    "discrim_test_predictions.to_csv(\"undersampled_discrim_test_predictions.csv\", index=True)\n",
    "discrim_train_predictions.to_csv(\"undersampled_discrim_train_predictions.csv\", index=True)\n",
    "\n",
    "discrim_X_test_numpy = X_test_with_fakes.numpy()\n",
    "discrim_X_train_numpy = X_train_with_fakes.numpy()\n",
    "\n",
    "discrim_X_test_df = pd.DataFrame(discrim_X_test_numpy)\n",
    "discrim_X_train_df = pd.DataFrame(discrim_X_train_numpy)\n",
    "\n",
    "discrim_X_test_df.to_csv('undersampled_discrim_X_test.csv', index=True)\n",
    "discrim_X_train_df.to_csv('undersampled_discrim_X_train.csv', index=True)"
   ]
  },
  {
   "cell_type": "code",
   "execution_count": null,
   "id": "07b291e9",
   "metadata": {},
   "outputs": [],
   "source": []
  }
 ],
 "metadata": {
  "kernelspec": {
   "display_name": "Python 3 (ipykernel)",
   "language": "python",
   "name": "python3"
  },
  "language_info": {
   "codemirror_mode": {
    "name": "ipython",
    "version": 3
   },
   "file_extension": ".py",
   "mimetype": "text/x-python",
   "name": "python",
   "nbconvert_exporter": "python",
   "pygments_lexer": "ipython3",
   "version": "3.11.8"
  }
 },
 "nbformat": 4,
 "nbformat_minor": 5
}
