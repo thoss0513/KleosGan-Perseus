{
 "cells": [
  {
   "cell_type": "markdown",
   "id": "b26b6e1b-a96d-4b8f-b69c-97caad5edb75",
   "metadata": {},
   "source": [
    "# Training a Simple GAN Model for Sentence Embeddings"
   ]
  },
  {
   "cell_type": "code",
   "execution_count": 1,
   "id": "6c9df33c",
   "metadata": {},
   "outputs": [],
   "source": [
    "latent_dim = 400"
   ]
  },
  {
   "cell_type": "code",
   "execution_count": 2,
   "id": "fc3e430a",
   "metadata": {},
   "outputs": [
    {
     "name": "stdout",
     "output_type": "stream",
     "text": [
      "Requirement already satisfied: tensorflow in /Users/thossain64/anaconda3/lib/python3.11/site-packages (2.16.1)\n",
      "Requirement already satisfied: absl-py>=1.0.0 in /Users/thossain64/anaconda3/lib/python3.11/site-packages (from tensorflow) (1.4.0)\n",
      "Requirement already satisfied: astunparse>=1.6.0 in /Users/thossain64/anaconda3/lib/python3.11/site-packages (from tensorflow) (1.6.3)\n",
      "Requirement already satisfied: flatbuffers>=23.5.26 in /Users/thossain64/anaconda3/lib/python3.11/site-packages (from tensorflow) (23.5.26)\n",
      "Requirement already satisfied: gast!=0.5.0,!=0.5.1,!=0.5.2,>=0.2.1 in /Users/thossain64/anaconda3/lib/python3.11/site-packages (from tensorflow) (0.4.0)\n",
      "Requirement already satisfied: google-pasta>=0.1.1 in /Users/thossain64/anaconda3/lib/python3.11/site-packages (from tensorflow) (0.2.0)\n",
      "Requirement already satisfied: h5py>=3.10.0 in /Users/thossain64/anaconda3/lib/python3.11/site-packages (from tensorflow) (3.10.0)\n",
      "Requirement already satisfied: libclang>=13.0.0 in /Users/thossain64/anaconda3/lib/python3.11/site-packages (from tensorflow) (16.0.6)\n",
      "Requirement already satisfied: ml-dtypes~=0.3.1 in /Users/thossain64/anaconda3/lib/python3.11/site-packages (from tensorflow) (0.3.2)\n",
      "Requirement already satisfied: opt-einsum>=2.3.2 in /Users/thossain64/anaconda3/lib/python3.11/site-packages (from tensorflow) (3.3.0)\n",
      "Requirement already satisfied: packaging in /Users/thossain64/anaconda3/lib/python3.11/site-packages (from tensorflow) (23.1)\n",
      "Requirement already satisfied: protobuf!=4.21.0,!=4.21.1,!=4.21.2,!=4.21.3,!=4.21.4,!=4.21.5,<5.0.0dev,>=3.20.3 in /Users/thossain64/anaconda3/lib/python3.11/site-packages (from tensorflow) (3.20.3)\n",
      "Requirement already satisfied: requests<3,>=2.21.0 in /Users/thossain64/anaconda3/lib/python3.11/site-packages (from tensorflow) (2.31.0)\n",
      "Requirement already satisfied: setuptools in /Users/thossain64/anaconda3/lib/python3.11/site-packages (from tensorflow) (68.0.0)\n",
      "Requirement already satisfied: six>=1.12.0 in /Users/thossain64/anaconda3/lib/python3.11/site-packages (from tensorflow) (1.16.0)\n",
      "Requirement already satisfied: termcolor>=1.1.0 in /Users/thossain64/anaconda3/lib/python3.11/site-packages (from tensorflow) (2.4.0)\n",
      "Requirement already satisfied: typing-extensions>=3.6.6 in /Users/thossain64/anaconda3/lib/python3.11/site-packages (from tensorflow) (4.9.0)\n",
      "Requirement already satisfied: wrapt>=1.11.0 in /Users/thossain64/anaconda3/lib/python3.11/site-packages (from tensorflow) (1.14.1)\n",
      "Requirement already satisfied: grpcio<2.0,>=1.24.3 in /Users/thossain64/anaconda3/lib/python3.11/site-packages (from tensorflow) (1.60.0)\n",
      "Requirement already satisfied: tensorboard<2.17,>=2.16 in /Users/thossain64/anaconda3/lib/python3.11/site-packages (from tensorflow) (2.16.2)\n",
      "Requirement already satisfied: keras>=3.0.0 in /Users/thossain64/anaconda3/lib/python3.11/site-packages (from tensorflow) (3.1.0)\n",
      "Requirement already satisfied: tensorflow-io-gcs-filesystem>=0.23.1 in /Users/thossain64/anaconda3/lib/python3.11/site-packages (from tensorflow) (0.35.0)\n",
      "Requirement already satisfied: numpy<2.0.0,>=1.23.5 in /Users/thossain64/anaconda3/lib/python3.11/site-packages (from tensorflow) (1.23.5)\n",
      "Requirement already satisfied: wheel<1.0,>=0.23.0 in /Users/thossain64/anaconda3/lib/python3.11/site-packages (from astunparse>=1.6.0->tensorflow) (0.38.4)\n",
      "Requirement already satisfied: rich in /Users/thossain64/anaconda3/lib/python3.11/site-packages (from keras>=3.0.0->tensorflow) (13.7.1)\n",
      "Requirement already satisfied: namex in /Users/thossain64/anaconda3/lib/python3.11/site-packages (from keras>=3.0.0->tensorflow) (0.0.7)\n",
      "Requirement already satisfied: optree in /Users/thossain64/anaconda3/lib/python3.11/site-packages (from keras>=3.0.0->tensorflow) (0.10.0)\n",
      "Requirement already satisfied: charset-normalizer<4,>=2 in /Users/thossain64/anaconda3/lib/python3.11/site-packages (from requests<3,>=2.21.0->tensorflow) (2.0.4)\n",
      "Requirement already satisfied: idna<4,>=2.5 in /Users/thossain64/anaconda3/lib/python3.11/site-packages (from requests<3,>=2.21.0->tensorflow) (3.4)\n",
      "Requirement already satisfied: urllib3<3,>=1.21.1 in /Users/thossain64/anaconda3/lib/python3.11/site-packages (from requests<3,>=2.21.0->tensorflow) (2.0.7)\n",
      "Requirement already satisfied: certifi>=2017.4.17 in /Users/thossain64/anaconda3/lib/python3.11/site-packages (from requests<3,>=2.21.0->tensorflow) (2024.2.2)\n",
      "Requirement already satisfied: markdown>=2.6.8 in /Users/thossain64/anaconda3/lib/python3.11/site-packages (from tensorboard<2.17,>=2.16->tensorflow) (3.4.1)\n",
      "Requirement already satisfied: tensorboard-data-server<0.8.0,>=0.7.0 in /Users/thossain64/anaconda3/lib/python3.11/site-packages (from tensorboard<2.17,>=2.16->tensorflow) (0.7.2)\n",
      "Requirement already satisfied: werkzeug>=1.0.1 in /Users/thossain64/anaconda3/lib/python3.11/site-packages (from tensorboard<2.17,>=2.16->tensorflow) (2.2.3)\n",
      "Requirement already satisfied: MarkupSafe>=2.1.1 in /Users/thossain64/anaconda3/lib/python3.11/site-packages (from werkzeug>=1.0.1->tensorboard<2.17,>=2.16->tensorflow) (2.1.3)\n",
      "Requirement already satisfied: markdown-it-py>=2.2.0 in /Users/thossain64/anaconda3/lib/python3.11/site-packages (from rich->keras>=3.0.0->tensorflow) (2.2.0)\n",
      "Requirement already satisfied: pygments<3.0.0,>=2.13.0 in /Users/thossain64/anaconda3/lib/python3.11/site-packages (from rich->keras>=3.0.0->tensorflow) (2.15.1)\n",
      "Requirement already satisfied: mdurl~=0.1 in /Users/thossain64/anaconda3/lib/python3.11/site-packages (from markdown-it-py>=2.2.0->rich->keras>=3.0.0->tensorflow) (0.1.0)\n",
      "Note: you may need to restart the kernel to use updated packages.\n"
     ]
    }
   ],
   "source": [
    "pip install tensorflow --upgrade"
   ]
  },
  {
   "cell_type": "code",
   "execution_count": 3,
   "id": "9f13714e-a0d7-40f6-adce-bbdc125592ac",
   "metadata": {},
   "outputs": [
    {
     "name": "stderr",
     "output_type": "stream",
     "text": [
      "2024-04-14 02:20:00.512445: I tensorflow/core/platform/cpu_feature_guard.cc:210] This TensorFlow binary is optimized to use available CPU instructions in performance-critical operations.\n",
      "To enable the following instructions: AVX2 FMA, in other operations, rebuild TensorFlow with the appropriate compiler flags.\n"
     ]
    }
   ],
   "source": [
    "import torch\n",
    "import torch.nn as nn\n",
    "import torch.optim as optim\n",
    "import torchvision\n",
    "import torchvision.datasets as datasets\n",
    "from torch.utils.data import DataLoader, Dataset\n",
    "import torchvision.transforms as transforms\n",
    "from torch.utils.tensorboard import SummaryWriter  # to print to tensorboard\n",
    "import pandas as pd\n",
    "import ast\n",
    "import numpy as np\n",
    "from numpy import expand_dims\n",
    "from numpy import zeros\n",
    "from numpy import ones\n",
    "from numpy import asarray\n",
    "from numpy.random import randn\n",
    "from numpy.random import randint\n",
    "from keras.optimizers import Adam\n",
    "from keras.models import Model\n",
    "from keras.layers import Input\n",
    "from keras.layers import Dense\n",
    "from keras.layers import Reshape\n",
    "from keras.layers import Flatten\n",
    "from keras.layers import Conv2D\n",
    "from keras.layers import Conv1D\n",
    "from keras.layers import Conv2DTranspose\n",
    "from keras.layers import LeakyReLU\n",
    "from keras.layers import Dropout\n",
    "from keras.layers import Lambda\n",
    "from keras.layers import Activation\n",
    "from matplotlib import pyplot as plt\n",
    "from keras import backend\n",
    "from keras.models import Sequential\n",
    "from sklearn.model_selection import train_test_split\n",
    "import matplotlib.pyplot as plt\n",
    "import re\n",
    "import tensorflow as tf\n",
    "\n",
    "from sklearn.metrics import classification_report\n",
    "from sklearn.metrics import confusion_matrix\n",
    "from sklearn.metrics import ConfusionMatrixDisplay\n",
    "\n",
    "\n",
    "MAX_LENGTH = 768\n",
    "\n",
    "\n",
    "class CustomDataset(Dataset):\n",
    "    def __init__(self, embeddings):\n",
    "        self.embeddings = embeddings\n",
    "\n",
    "    def __len__(self):\n",
    "        return len(self.embeddings)\n",
    "\n",
    "    def __getitem__(self, idx):\n",
    "        return self.embeddings[idx]\n"
   ]
  },
  {
   "cell_type": "markdown",
   "id": "0f5696eb-9815-4a42-a1cd-85ed58a42387",
   "metadata": {},
   "source": [
    "# Preprocessing Data"
   ]
  },
  {
   "cell_type": "code",
   "execution_count": 4,
   "id": "c1cc60b7-a136-4ea6-9575-1c1f96f65ab4",
   "metadata": {},
   "outputs": [
    {
     "data": {
      "text/html": [
       "<div>\n",
       "<style scoped>\n",
       "    .dataframe tbody tr th:only-of-type {\n",
       "        vertical-align: middle;\n",
       "    }\n",
       "\n",
       "    .dataframe tbody tr th {\n",
       "        vertical-align: top;\n",
       "    }\n",
       "\n",
       "    .dataframe thead th {\n",
       "        text-align: right;\n",
       "    }\n",
       "</style>\n",
       "<table border=\"1\" class=\"dataframe\">\n",
       "  <thead>\n",
       "    <tr style=\"text-align: right;\">\n",
       "      <th></th>\n",
       "      <th>line_txt</th>\n",
       "      <th>author_labels</th>\n",
       "      <th>cls_token</th>\n",
       "    </tr>\n",
       "  </thead>\n",
       "  <tbody>\n",
       "    <tr>\n",
       "      <th>0</th>\n",
       "      <td>δαίμονι δʼ οἷος ἔησθα, τὸ ἐργάζεσθαι ἄμεινον,</td>\n",
       "      <td>0</td>\n",
       "      <td>tf.Tensor(\\n[-4.03999180e-01 -4.44073975e-01  ...</td>\n",
       "    </tr>\n",
       "    <tr>\n",
       "      <th>1</th>\n",
       "      <td>ὦ πέπον, οὐ μὲν γὰρ τοι Ἄρης θανάτοιο τελευτὴν</td>\n",
       "      <td>0</td>\n",
       "      <td>tf.Tensor(\\n[ 3.42775553e-01 -4.48708475e-01  ...</td>\n",
       "    </tr>\n",
       "    <tr>\n",
       "      <th>2</th>\n",
       "      <td>οἳ δή τοι τὰ μὲν ἄλλα θεοῖς ἐναλίγκιοι ἦσαν,</td>\n",
       "      <td>0</td>\n",
       "      <td>tf.Tensor(\\n[-1.01096046e+00 -4.58268285e-01 -...</td>\n",
       "    </tr>\n",
       "    <tr>\n",
       "      <th>3</th>\n",
       "      <td>ἡνίοχοι βεβαῶτες ἐφίεσαν ὠκέας ἵππους</td>\n",
       "      <td>0</td>\n",
       "      <td>tf.Tensor(\\n[-1.78759539e+00  6.87804341e-01 -...</td>\n",
       "    </tr>\n",
       "    <tr>\n",
       "      <th>4</th>\n",
       "      <td>ἡ δὲ κακὴ βουλὴ τῷ βουλεύσαντι κακίστη.</td>\n",
       "      <td>0</td>\n",
       "      <td>tf.Tensor(\\n[-3.02882195e-01 -8.28379333e-01  ...</td>\n",
       "    </tr>\n",
       "    <tr>\n",
       "      <th>...</th>\n",
       "      <td>...</td>\n",
       "      <td>...</td>\n",
       "      <td>...</td>\n",
       "    </tr>\n",
       "    <tr>\n",
       "      <th>29995</th>\n",
       "      <td>Κρισαίων ἄλοχοι καλλίζωνοί τε θύγατρες</td>\n",
       "      <td>2</td>\n",
       "      <td>tf.Tensor(\\n[-5.40540814e-01  8.87787491e-02  ...</td>\n",
       "    </tr>\n",
       "    <tr>\n",
       "      <th>29996</th>\n",
       "      <td>ἀμφὶς θυμὸν ἔχοντες. ὃ μὲν νημερτέα φωνὴν</td>\n",
       "      <td>2</td>\n",
       "      <td>tf.Tensor(\\n[ 2.32343629e-01 -4.14683819e-02  ...</td>\n",
       "    </tr>\n",
       "    <tr>\n",
       "      <th>29997</th>\n",
       "      <td>ἐγκρύψαι μεμαώς· Λητοῦς δʼ ἐρικυδέος υἱὸν</td>\n",
       "      <td>2</td>\n",
       "      <td>tf.Tensor(\\n[-1.3245641  -0.5897638  -0.377123...</td>\n",
       "    </tr>\n",
       "    <tr>\n",
       "      <th>29998</th>\n",
       "      <td>τόφρα οἱ ἐλπὶς ἔθελγε μέγαν νόον ἀχνυμένης περ·</td>\n",
       "      <td>2</td>\n",
       "      <td>tf.Tensor(\\n[-5.21369755e-01  2.16294110e-01  ...</td>\n",
       "    </tr>\n",
       "    <tr>\n",
       "      <th>29999</th>\n",
       "      <td>ὅστις νόσφιν ἐμεῖο λαβὼν ἀέκουσαν ἀνάγκῃ</td>\n",
       "      <td>2</td>\n",
       "      <td>tf.Tensor(\\n[-9.56738710e-01 -5.63370585e-01 -...</td>\n",
       "    </tr>\n",
       "  </tbody>\n",
       "</table>\n",
       "<p>30000 rows × 3 columns</p>\n",
       "</div>"
      ],
      "text/plain": [
       "                                              line_txt  author_labels  \\\n",
       "0        δαίμονι δʼ οἷος ἔησθα, τὸ ἐργάζεσθαι ἄμεινον,              0   \n",
       "1       ὦ πέπον, οὐ μὲν γὰρ τοι Ἄρης θανάτοιο τελευτὴν              0   \n",
       "2         οἳ δή τοι τὰ μὲν ἄλλα θεοῖς ἐναλίγκιοι ἦσαν,              0   \n",
       "3                ἡνίοχοι βεβαῶτες ἐφίεσαν ὠκέας ἵππους              0   \n",
       "4              ἡ δὲ κακὴ βουλὴ τῷ βουλεύσαντι κακίστη.              0   \n",
       "...                                                ...            ...   \n",
       "29995           Κρισαίων ἄλοχοι καλλίζωνοί τε θύγατρες              2   \n",
       "29996        ἀμφὶς θυμὸν ἔχοντες. ὃ μὲν νημερτέα φωνὴν              2   \n",
       "29997        ἐγκρύψαι μεμαώς· Λητοῦς δʼ ἐρικυδέος υἱὸν              2   \n",
       "29998  τόφρα οἱ ἐλπὶς ἔθελγε μέγαν νόον ἀχνυμένης περ·              2   \n",
       "29999         ὅστις νόσφιν ἐμεῖο λαβὼν ἀέκουσαν ἀνάγκῃ              2   \n",
       "\n",
       "                                               cls_token  \n",
       "0      tf.Tensor(\\n[-4.03999180e-01 -4.44073975e-01  ...  \n",
       "1      tf.Tensor(\\n[ 3.42775553e-01 -4.48708475e-01  ...  \n",
       "2      tf.Tensor(\\n[-1.01096046e+00 -4.58268285e-01 -...  \n",
       "3      tf.Tensor(\\n[-1.78759539e+00  6.87804341e-01 -...  \n",
       "4      tf.Tensor(\\n[-3.02882195e-01 -8.28379333e-01  ...  \n",
       "...                                                  ...  \n",
       "29995  tf.Tensor(\\n[-5.40540814e-01  8.87787491e-02  ...  \n",
       "29996  tf.Tensor(\\n[ 2.32343629e-01 -4.14683819e-02  ...  \n",
       "29997  tf.Tensor(\\n[-1.3245641  -0.5897638  -0.377123...  \n",
       "29998  tf.Tensor(\\n[-5.21369755e-01  2.16294110e-01  ...  \n",
       "29999  tf.Tensor(\\n[-9.56738710e-01 -5.63370585e-01 -...  \n",
       "\n",
       "[30000 rows x 3 columns]"
      ]
     },
     "execution_count": 4,
     "metadata": {},
     "output_type": "execute_result"
    }
   ],
   "source": [
    "#Limit number of rows for experimentation\n",
    "df = pd.read_csv('../data/author_10000_cls.csv')\n",
    "num_rows = len(df)\n",
    "df = df[:num_rows]\n",
    "df"
   ]
  },
  {
   "cell_type": "code",
   "execution_count": 5,
   "id": "6fbd792d-6676-4c01-8841-dbbff92f6ff6",
   "metadata": {},
   "outputs": [
    {
     "data": {
      "text/plain": [
       "author_labels\n",
       "0    10000\n",
       "1    10000\n",
       "2    10000\n",
       "Name: count, dtype: int64"
      ]
     },
     "execution_count": 5,
     "metadata": {},
     "output_type": "execute_result"
    }
   ],
   "source": [
    "df['author_labels'].value_counts()"
   ]
  },
  {
   "cell_type": "code",
   "execution_count": 6,
   "id": "b48e6e87-4419-4246-922c-ab83b86c3425",
   "metadata": {},
   "outputs": [],
   "source": [
    "n_classes = df['author_labels'].nunique()"
   ]
  },
  {
   "cell_type": "code",
   "execution_count": 7,
   "id": "332b9675-73c0-4c2a-aaa6-da7862f555d1",
   "metadata": {},
   "outputs": [],
   "source": [
    "def turn_str_to_tensor(tensor_str):\n",
    "\n",
    "    numbers = re.findall(r\"[-+]?\\d*\\.\\d+e[+-]?\\d+|[-+]?\\d*\\.\\d+|[-+]?\\d+\", tensor_str)\n",
    "    tensor_values = list(map(float, numbers))\n",
    "    tensor = tf.constant(tensor_values, dtype=tf.float32)[:-2]\n",
    "    \n",
    "    # Reshape the tensor to the desired shape if needed (e.g., 768 in this case)\n",
    "    tensor = tf.reshape(tensor, [768])\n",
    "    return torch.tensor(np.array(tensor), dtype=torch.float32)"
   ]
  },
  {
   "cell_type": "code",
   "execution_count": 8,
   "id": "bab501a5-f34e-46e9-ba16-b1dfa185bfa0",
   "metadata": {},
   "outputs": [
    {
     "data": {
      "text/plain": [
       "tensor([[-0.4040, -0.4441,  0.7041,  ..., -0.4026, -0.2111,  0.6380],\n",
       "        [ 0.3428, -0.4487,  0.4991,  ...,  0.0481,  0.6765, -0.2236],\n",
       "        [-1.0110, -0.4583, -0.5113,  ...,  0.2417,  0.9868, -0.0115],\n",
       "        ...,\n",
       "        [-1.3246, -0.5898, -0.3771,  ..., -0.1805,  1.0422, -0.6755],\n",
       "        [-0.5214,  0.2163,  0.6009,  ...,  1.2751, -0.5999, -0.1707],\n",
       "        [-0.9567, -0.5634, -0.7843,  ...,  1.0162,  0.8442, -0.1959]])"
      ]
     },
     "execution_count": 8,
     "metadata": {},
     "output_type": "execute_result"
    }
   ],
   "source": [
    "# Load the text lines\n",
    "\n",
    "embeddings = df['cls_token']\n",
    "\n",
    "#Turn EagerTensors list to Normal Tensors list\n",
    "embeddings_pytorch = [turn_str_to_tensor(e) for e in embeddings]\n",
    "\n",
    "# Convert list of tensors to a single tensor\n",
    "embeddings_tensor = torch.stack(embeddings_pytorch).squeeze(1)  # Adjust dimensions as needed\n",
    "\n",
    "embeddings_tensor"
   ]
  },
  {
   "cell_type": "code",
   "execution_count": 9,
   "id": "6bd18ba9-ad03-441b-ae16-6c57b6299035",
   "metadata": {},
   "outputs": [
    {
     "data": {
      "text/plain": [
       "torch.Size([30000, 768])"
      ]
     },
     "execution_count": 9,
     "metadata": {},
     "output_type": "execute_result"
    }
   ],
   "source": [
    "embeddings_tensor.shape"
   ]
  },
  {
   "cell_type": "code",
   "execution_count": 10,
   "id": "9ffebf5c-56d3-4a3b-85d9-2f8d7609f250",
   "metadata": {},
   "outputs": [],
   "source": [
    "#Initialize Dataset\n",
    "embeddings = embeddings_tensor \n",
    "\n",
    "# Instantiate the custom dataset\n",
    "dataset = CustomDataset(embeddings)"
   ]
  },
  {
   "cell_type": "markdown",
   "id": "8a466ebf-7433-4603-ab37-84204a728102",
   "metadata": {},
   "source": [
    "# Training the SGAN Model"
   ]
  },
  {
   "cell_type": "code",
   "execution_count": 11,
   "id": "77893c09-9853-4b6d-9f70-a404daeba950",
   "metadata": {},
   "outputs": [
    {
     "name": "stdout",
     "output_type": "stream",
     "text": [
      "torch.Size([7500, 768])\n",
      "(7500,)\n"
     ]
    }
   ],
   "source": [
    "X = embeddings_tensor\n",
    "y = df['author_labels'].to_numpy()\n",
    "\n",
    "X_train, X_test, y_train, y_test = train_test_split(X, y, test_size=0.25, random_state=6)\n",
    "print(X_test.shape)\n",
    "print(y_test.shape)"
   ]
  },
  {
   "cell_type": "code",
   "execution_count": 12,
   "id": "a09372a2",
   "metadata": {},
   "outputs": [
    {
     "data": {
      "text/plain": [
       "tensor([[ 0.3495, -0.1538,  0.3692,  ...,  1.0807, -0.7592, -1.1573],\n",
       "        [-0.0646, -0.1576,  0.3196,  ...,  1.3880,  0.0664,  0.6178],\n",
       "        [-0.7930, -0.3935,  0.9363,  ...,  1.0103, -0.4008,  0.3502],\n",
       "        ...,\n",
       "        [-0.4339,  0.5769,  0.0076,  ...,  1.1630,  1.2759,  1.4522],\n",
       "        [-0.9528, -0.2041,  0.8846,  ...,  0.4398,  0.6778,  0.9783],\n",
       "        [-0.9127,  0.2011,  0.3811,  ...,  0.3338,  0.1968, -1.0321]])"
      ]
     },
     "execution_count": 12,
     "metadata": {},
     "output_type": "execute_result"
    }
   ],
   "source": [
    "X_train"
   ]
  },
  {
   "cell_type": "markdown",
   "id": "6a7e334f-ae89-444d-a951-7fc68392ec8b",
   "metadata": {},
   "source": [
    "The next code block contains all the helper functions and the training script. The main functions to look at are the \n",
    "define_discriminator, define_generator, and define_gan functions. They contain the model architecture for the discriminator and generator functions."
   ]
  },
  {
   "cell_type": "code",
   "execution_count": 13,
   "id": "ab96ffce-c405-4993-afac-b5322c7f30d6",
   "metadata": {},
   "outputs": [],
   "source": [
    "lr = 3e-4\n",
    "n_samples = 2000\n",
    "n_epochs = 2\n",
    "loss_var_threshold = 0.001\n",
    "\n",
    "# define the standalone supervised and unsupervised discriminator models\n",
    "def define_discriminator(units = 100, in_shape=(MAX_LENGTH,), n_classes=df['author_labels'].nunique(), activation = 'relu'):\n",
    "    \n",
    "  # Embedding input\n",
    "  in_image = Input(shape=in_shape)\n",
    "\n",
    "  # downsample\n",
    "  fe = Dense(units=units, activation=activation)(in_image)\n",
    "  fe = LeakyReLU(alpha=0.2)(fe)\n",
    "\n",
    "  # downsample\n",
    "  fe = Dense(units=units, activation=activation)(in_image)\n",
    "  fe = LeakyReLU(alpha=0.2)(fe)\n",
    "    \n",
    "  # dropout\n",
    "  fe = Dropout(0.2)(fe)\n",
    "\n",
    "  # output layer nodes\n",
    "  fe = Dense(n_classes)(fe)\n",
    "    \n",
    "  # supervised output\n",
    "  c_out_layer = Activation('softmax')(fe)\n",
    "    \n",
    "  # define and compile supervised discriminator model\n",
    "  c_model = Model(in_image, c_out_layer, name = \"supervised-discriminator\")\n",
    "  c_model.compile(loss='sparse_categorical_crossentropy', optimizer=Adam(learning_rate=lr, beta_1=0.5), metrics=['accuracy'])\n",
    "    \n",
    "  # unsupervised output\n",
    "  d_out_layer = Dense(units = n_classes + 1, activation = 'softmax')(fe)\n",
    "    \n",
    "  # define and compile unsupervised discriminator model\n",
    "  d_model = Model(in_image, d_out_layer, name = 'discriminator-fake')\n",
    "  d_model.compile(loss='sparse_categorical_crossentropy', optimizer=Adam(learning_rate=lr, beta_1=0.5), metrics = ['accuracy'])\n",
    "  d_model.trainable = True\n",
    "  c_model.trainable = True\n",
    "    \n",
    "  return d_model, c_model\n",
    "\n",
    "# define the standalone generator model\n",
    "def define_generator(latent_dim, units = 200, n_outputs=MAX_LENGTH):\n",
    "\tmodel = Sequential(name = 'generator')\n",
    "\tmodel.add(Dense(units, activation='sigmoid', kernel_initializer='he_uniform', input_dim=latent_dim))\n",
    "\tmodel.add(Dense(int(units/2), activation='sigmoid'))\n",
    "\tmodel.add(Dense(n_outputs, activation='tanh'))\n",
    "\treturn model\n",
    "\n",
    "# define the combined generator and discriminator model, for updating the generator\n",
    "def define_gan(generator, discriminator):\n",
    "    # Ensure the discriminator's parameters are not trainable in the combined model\n",
    "    discriminator.trainable = False\n",
    "    \n",
    "    # Create a new input layer for the GAN (noise sample)\n",
    "    gan_input = Input(shape=(latent_dim,))\n",
    "    \n",
    "    # Output of the generator\n",
    "    generator_output = generator(gan_input)\n",
    "    \n",
    "    # Output of the discriminator (takes generator's output as input)\n",
    "    gan_output = discriminator(generator_output)\n",
    "    \n",
    "    # Define the GAN model\n",
    "    gan = Model(gan_input, gan_output, name = 'gan-model')\n",
    "    \n",
    "    # Compile the GAN model\n",
    "    optimizer = Adam(learning_rate=lr)\n",
    "    gan.compile(optimizer=optimizer, loss='sparse_categorical_crossentropy')\n",
    "    \n",
    "    return gan\n",
    "\n",
    "\n",
    "# load the embeddings and classifications\n",
    "def load_real_samples(X,y):\n",
    "\tprint(X.shape, y.shape)\n",
    "\treturn [X, y]\n",
    "\n",
    "# select a supervised subset of the dataset, ensures classes are balanced\n",
    "def select_supervised_samples(dataset, n_samples=n_samples, n_classes=df['author_labels'].nunique()):\n",
    "    X, y = dataset\n",
    "    n_per_class = int(n_samples / n_classes)\n",
    "    X_samples = []\n",
    "    y_samples = []\n",
    "\n",
    "    \n",
    "    for class_index in range(n_classes):\n",
    "        \n",
    "        # Find the indices of all samples belonging to the current class\n",
    "        class_indices = np.where(y == class_index)[0]\n",
    "        \n",
    "        # Randomly choose n_per_class indices for this class\n",
    "        selected_indices = np.random.choice(class_indices, n_per_class, replace=False)\n",
    "        # Append the selected samples to the lists\n",
    "        X_samples.append(X[selected_indices])\n",
    "        y_samples.append(y[selected_indices])\n",
    "    \n",
    "    # Concatenate all selected samples\n",
    "    X_samples = np.concatenate(X_samples, axis=0)\n",
    "    y_samples = np.concatenate(y_samples, axis=0)\n",
    "    return X_samples, y_samples\n",
    "\n",
    "    \n",
    "def generate_real_samples(dataset, n_samples = n_samples):\n",
    "    features, labels = dataset\n",
    "    # Generate random indices\n",
    "    indices = np.random.choice(features.shape[0], n_samples, replace=False)\n",
    "    # Select a random subset of features and labels using the indices\n",
    "    X = features[indices]\n",
    "    labels = labels[indices]\n",
    "    return X, labels\n",
    "\n",
    "def generate_real_samples_multiclass(dataset, n_samples = n_samples):\n",
    "    features, labels = dataset\n",
    "    # Generate random indices\n",
    "    indices = np.random.choice(features.shape[0], n_samples, replace=False)\n",
    "    # Select a random subset of features and labels using the indices\n",
    "    X = features[indices]\n",
    "    labels = labels[indices]\n",
    "    # Generate class labels (assuming you want all ones for real samples)\n",
    "    y = np.ones((n_samples, 1))\n",
    "    return [X, labels], y\n",
    "\n",
    "\n",
    "# generate points in latent space as input for the generator\n",
    "def generate_latent_points(latent_dim, n_samples):\n",
    "\t# generate points in the latent space\n",
    "\tz_input = randn(latent_dim * n_samples)\n",
    "\t# reshape into a batch of inputs for the network\n",
    "\tz_input = z_input.reshape(n_samples, latent_dim)\n",
    "\treturn z_input\n",
    "\n",
    "# use the generator to generate n fake examples, with class labels\n",
    "def generate_fake_samples(generator, latent_dim, n_samples):\n",
    "    \n",
    "\t# generate points in latent space\n",
    "\tz_input = generate_latent_points(latent_dim, n_samples)\n",
    "    \n",
    "\t# predict outputs\n",
    "\timages = generator.predict(z_input)\n",
    "\t# create class labels\n",
    "\ty = np.ones((n_samples, 1)) * n_classes\n",
    "\treturn images, y\n",
    "\n",
    "# generate samples and save as a plot and save the model\n",
    "def summarize_performance(step, g_model, latent_dim, dataset, acc_list, n_samples=100):\n",
    "    \n",
    "\t# prepare fake examples\n",
    "\tX, _ = generate_fake_samples(g_model, latent_dim, n_samples)\n",
    "    \n",
    "\t# evaluate the classifier model\n",
    "\t_, acc = d_model.evaluate(X, np.ones(len(X)) * df['author_labels'].nunique(), verbose=0)\n",
    "\tacc_list.append(acc)\n",
    "\tprint('Classifier Accuracy With Fake Data: %.3f%%' % (acc * 100))\n",
    "\n",
    "def train_multiclass_classification_model(c_model, n_epochs=n_epochs, n_batch=100):\n",
    "    \"\"\"\n",
    "    Trains only c model since there are no fake samples associated with it\n",
    "    \"\"\"\n",
    "\n",
    "    def plot_acc_history(history, title, xlabel = 'Epoch', ylabel = 'Accuracy'):\n",
    "        plt.figure(figsize=(8, 4))\n",
    "        plt.plot(history.history['accuracy'], label='Training Accuracy')\n",
    "        plt.plot(history.history['val_accuracy'], label='Validation Accuracy')\n",
    "        plt.title(title)\n",
    "        plt.ylabel('Accuracy')\n",
    "        plt.xlabel('Epoch')\n",
    "        plt.legend(loc='upper right')\n",
    "        plt.savefig(f'{title}.png', dpi = 500, bbox_inches = 'tight')\n",
    "        plt.show()\n",
    "\n",
    "    def plot_loss_history(history, title, xlabel = 'Epoch', ylabel = 'Loss'):\n",
    "        plt.figure(figsize=(8, 4))\n",
    "        plt.plot(history.history['loss'], label='Training Loss')\n",
    "        plt.plot(history.history['val_loss'], label='Validation Loss')\n",
    "        plt.title('Model Loss Progression')\n",
    "        plt.ylabel('Loss')\n",
    "        plt.xlabel('Epoch')\n",
    "        plt.legend(loc='upper right')\n",
    "        plt.savefig(f'{title}.png', dpi = 500, bbox_inches = 'tight')\n",
    "        plt.show()\n",
    "\n",
    "     # select supervised dataset\n",
    "    X_sup, y_sup = select_supervised_samples([X_train, y_train], len(X_train)/2)\n",
    "\n",
    "    indices = np.arange(X_sup.shape[0])\n",
    "    np.random.shuffle(indices)\n",
    "    \n",
    "    # Shuffle selected samples\n",
    "    X_sup, y_sup = X_sup[indices], y_sup[indices]\n",
    "    \n",
    "    print(X_sup.shape, y_sup.shape)\n",
    "    \n",
    "    \n",
    "    print('n_epochs=%d, batch_size=%d' % (n_epochs, n_batch))\n",
    "\n",
    "    c_history = c_model.fit(X_sup, y_sup, epochs=n_epochs, batch_size=n_batch, validation_split=0.1)\n",
    "\n",
    "    plot_acc_history(c_history, 'Accuracy of Multiclass Classification')\n",
    "    plot_loss_history(c_history, 'Loss of Multiclass Classification')\n",
    "\n",
    "    return c_model\n",
    "\n",
    "# train the generator and discriminator\n",
    "def train(g_model, d_model, gan_model, dataset, latent_dim, acc_list, n_epochs = n_epochs, n_batch = 100):\n",
    "\n",
    "    def performance_graph(acc = True, batch_per_epo = int(dataset[0].shape[0] / n_batch)):\n",
    "        plt.figure(figsize=(8, 4))\n",
    "        steps = [i for i in range(len(d_losses))]\n",
    "        if acc:\n",
    "            plt.title('Accuracy of the Model')\n",
    "            plt.plot(steps, d_accs, label = 'Multiclass Discriminator with Fake Data')\n",
    "\n",
    "        else:\n",
    "            plt.plot(steps, d_losses, label = 'Multiclass Discriminator with Fake Data')\n",
    "            plt.plot(steps, g_losses, label = 'GAN Model')\n",
    "            plt.title('Losses of the Different Models')\n",
    "\n",
    "        plt.legend()\n",
    "\n",
    "        plt.xlabel('Epoch')\n",
    "        if acc:\n",
    "            plt.ylabel('Accuracy')\n",
    "        else:\n",
    "            plt.ylabel('Loss')\n",
    "\n",
    "        plt.savefig(f'performance_graph_acc{int(acc)}.png', dpi = 500, bbox_inches = 'tight')\n",
    "        plt.show()\n",
    "\n",
    "    print(f'Latent dimensions: {latent_dim}\\n-------------')\n",
    "    print(f'Num epochs: {n_epochs}\\n-------------')\n",
    "    print(f'Num batches: {n_batch}\\n-------------')\n",
    "    \n",
    "    # Initialize lists to track losses\n",
    "    d_losses, d_accs, g_losses = [], [], []\n",
    "\n",
    "    loss_variance_threshold = loss_var_threshold  # Set a threshold for the variance (for custom stopping)\n",
    "    \n",
    "    min_epochs = 5  # Set a minimum number of epochs to prevent stopping too early\n",
    "    \n",
    "    # select supervised dataset\n",
    "    X_sup, y_sup = select_supervised_samples([X_train, y_train], len(X_train)/2)\n",
    "\n",
    "    indices = np.arange(X_sup.shape[0])\n",
    "    np.random.shuffle(indices)\n",
    "    \n",
    "    # Shuffle selected samples\n",
    "    X_sup, y_sup = X_sup[indices], y_sup[indices]\n",
    "    \n",
    "    print(X_sup.shape, y_sup.shape)\n",
    "    \n",
    "    # calculate the number of batches per training epoch\n",
    "    bat_per_epo = int(dataset[0].shape[0] / n_batch)\n",
    "    \n",
    "    # calculate the number of training iterations\n",
    "    n_steps = bat_per_epo * n_epochs\n",
    "    \n",
    "    print('n_epochs=%d, batch_size=%d, b/e=%d, steps=%d' % (n_epochs, n_batch, bat_per_epo, n_steps))\n",
    "\n",
    "    # manually enumerate epochs\n",
    "    for i in range(n_steps):\n",
    "        \n",
    "        \n",
    "        # update unsupervised discriminator (d) on real samples\n",
    "        X_real, y_real = generate_real_samples(dataset, n_batch)\n",
    "        d_loss1, d_acc1 = d_model.train_on_batch(X_real, y_real)  # Capture loss and accuracy\n",
    "        \n",
    "        # update unsupervised discriminator (d) on fake samples\n",
    "        X_fake, y_fake = generate_fake_samples(g_model, latent_dim, n_batch)\n",
    "        d_loss2, d_acc2 = d_model.train_on_batch(X_fake, y_fake)  # Capture loss and accuracy\n",
    "\n",
    "        \n",
    "        # update generator (g)\n",
    "        X_gan, y_gan = generate_latent_points(latent_dim, n_batch), ones((n_batch, 1))\n",
    "        g_loss = gan_model.train_on_batch(X_gan, y_gan)\n",
    "\n",
    "        print('>%d, d(loss on real and fake)[%.3f,%.3f], d(acc on real and fake)[%.3f,%.3f], g(loss)[%.3f]' % (i+1, d_loss1, d_loss2, d_acc1 * 100, d_acc2 * 100, g_loss))\n",
    "\n",
    "    \n",
    "        # evaluate the model performance every so often\n",
    "        if (i+1) % (bat_per_epo) == 0:\n",
    "            # At the end of each epoch in training loop:\n",
    "            d_losses.append((d_loss1 + d_loss2) / 2)\n",
    "            g_losses.append(g_loss)\n",
    "            d_accs.append((d_acc1 + d_acc1) / 2)\n",
    "        \n",
    "\n",
    "    performance_graph(acc =  True)\n",
    "    performance_graph(acc =  False)\n",
    "\n"
   ]
  },
  {
   "cell_type": "code",
   "execution_count": 14,
   "id": "bc0360e4-9037-4078-8f13-180764bf15c5",
   "metadata": {},
   "outputs": [],
   "source": [
    "def def_models(latent_dim):\n",
    "    d_model, c_model = define_discriminator()\n",
    "    g_model = define_generator(latent_dim, units = latent_dim)\n",
    "    gan_model = define_gan(g_model, d_model)\n",
    "    d_model.trainable = True\n",
    "    c_model.trainable = True\n",
    "    gan_model.trainable = True\n",
    "    g_model.trainable = True\n",
    "    return d_model, c_model, g_model, gan_model\n",
    "\n",
    "def train_script(latent_dim, n_epochs, n_batch, train_dataset, acc_list=[], c = True):\n",
    "    d_model, c_model, g_model, gan_model = def_models(latent_dim)\n",
    "\n",
    "    if c:\n",
    "        train_multiclass_classification_model(c_model, n_epochs = n_epochs, n_batch = n_batch)\n",
    "        return c_model\n",
    "    else:\n",
    "        \n",
    "        train(g_model, d_model, gan_model, train_dataset, latent_dim, acc_list, n_epochs=n_epochs, n_batch=n_batch)\n",
    "        return c_model, d_model, g_model, gan_model\n"
   ]
  },
  {
   "cell_type": "markdown",
   "id": "217f2a7f",
   "metadata": {},
   "source": [
    "### Generating Predictions and Evaluating Model Performance"
   ]
  },
  {
   "cell_type": "markdown",
   "id": "03aeeef8",
   "metadata": {},
   "source": [
    "### Retraining the Best Models from Grid Search\n",
    "\n",
    "Grid Search Results: \n",
    "* Best dimensions for Baseline Classifier Model: latent: 400, epoch: 10, batch: 500\n",
    "* Best dimensions for the Discriminator Classifier Model: latent: 500, epoch: 10, batch: 1000\n"
   ]
  },
  {
   "cell_type": "markdown",
   "id": "f9b3f962",
   "metadata": {},
   "source": [
    "In order to standardize model architecture, we will use the hyperparameters that yielded the best discriminator model to construct the baseline model. Aligning the architectures and hyperparameters used to construct the baseline and discriminator model will allow appropriate performance comparisons. "
   ]
  },
  {
   "cell_type": "markdown",
   "id": "c686211c-33dc-477d-8c73-6bb71460978b",
   "metadata": {},
   "source": [
    "The following diagrams are our model architectures."
   ]
  },
  {
   "cell_type": "code",
   "execution_count": 15,
   "id": "26821394-2b68-428e-b68f-089580a3e351",
   "metadata": {},
   "outputs": [
    {
     "name": "stderr",
     "output_type": "stream",
     "text": [
      "/Users/thossain64/anaconda3/lib/python3.11/site-packages/keras/src/layers/activations/leaky_relu.py:41: UserWarning: Argument `alpha` is deprecated. Use `negative_slope` instead.\n",
      "  warnings.warn(\n",
      "/Users/thossain64/anaconda3/lib/python3.11/site-packages/keras/src/layers/core/dense.py:88: UserWarning: Do not pass an `input_shape`/`input_dim` argument to a layer. When using Sequential models, prefer using an `Input(shape)` object as the first layer in the model instead.\n",
      "  super().__init__(activity_regularizer=activity_regularizer, **kwargs)\n"
     ]
    },
    {
     "data": {
      "text/html": [
       "<pre style=\"white-space:pre;overflow-x:auto;line-height:normal;font-family:Menlo,'DejaVu Sans Mono',consolas,'Courier New',monospace\"><span style=\"font-weight: bold\">Model: \"discriminator-fake\"</span>\n",
       "</pre>\n"
      ],
      "text/plain": [
       "\u001b[1mModel: \"discriminator-fake\"\u001b[0m\n"
      ]
     },
     "metadata": {},
     "output_type": "display_data"
    },
    {
     "data": {
      "text/html": [
       "<pre style=\"white-space:pre;overflow-x:auto;line-height:normal;font-family:Menlo,'DejaVu Sans Mono',consolas,'Courier New',monospace\">┏━━━━━━━━━━━━━━━━━━━━━━━━━━━━━━━━━┳━━━━━━━━━━━━━━━━━━━━━━━━┳━━━━━━━━━━━━━━━┓\n",
       "┃<span style=\"font-weight: bold\"> Layer (type)                    </span>┃<span style=\"font-weight: bold\"> Output Shape           </span>┃<span style=\"font-weight: bold\">       Param # </span>┃\n",
       "┡━━━━━━━━━━━━━━━━━━━━━━━━━━━━━━━━━╇━━━━━━━━━━━━━━━━━━━━━━━━╇━━━━━━━━━━━━━━━┩\n",
       "│ input_layer (<span style=\"color: #0087ff; text-decoration-color: #0087ff\">InputLayer</span>)        │ (<span style=\"color: #00d7ff; text-decoration-color: #00d7ff\">None</span>, <span style=\"color: #00af00; text-decoration-color: #00af00\">768</span>)            │             <span style=\"color: #00af00; text-decoration-color: #00af00\">0</span> │\n",
       "├─────────────────────────────────┼────────────────────────┼───────────────┤\n",
       "│ dense_1 (<span style=\"color: #0087ff; text-decoration-color: #0087ff\">Dense</span>)                 │ (<span style=\"color: #00d7ff; text-decoration-color: #00d7ff\">None</span>, <span style=\"color: #00af00; text-decoration-color: #00af00\">100</span>)            │        <span style=\"color: #00af00; text-decoration-color: #00af00\">76,900</span> │\n",
       "├─────────────────────────────────┼────────────────────────┼───────────────┤\n",
       "│ leaky_re_lu_1 (<span style=\"color: #0087ff; text-decoration-color: #0087ff\">LeakyReLU</span>)       │ (<span style=\"color: #00d7ff; text-decoration-color: #00d7ff\">None</span>, <span style=\"color: #00af00; text-decoration-color: #00af00\">100</span>)            │             <span style=\"color: #00af00; text-decoration-color: #00af00\">0</span> │\n",
       "├─────────────────────────────────┼────────────────────────┼───────────────┤\n",
       "│ dropout (<span style=\"color: #0087ff; text-decoration-color: #0087ff\">Dropout</span>)               │ (<span style=\"color: #00d7ff; text-decoration-color: #00d7ff\">None</span>, <span style=\"color: #00af00; text-decoration-color: #00af00\">100</span>)            │             <span style=\"color: #00af00; text-decoration-color: #00af00\">0</span> │\n",
       "├─────────────────────────────────┼────────────────────────┼───────────────┤\n",
       "│ dense_2 (<span style=\"color: #0087ff; text-decoration-color: #0087ff\">Dense</span>)                 │ (<span style=\"color: #00d7ff; text-decoration-color: #00d7ff\">None</span>, <span style=\"color: #00af00; text-decoration-color: #00af00\">3</span>)              │           <span style=\"color: #00af00; text-decoration-color: #00af00\">303</span> │\n",
       "├─────────────────────────────────┼────────────────────────┼───────────────┤\n",
       "│ dense_3 (<span style=\"color: #0087ff; text-decoration-color: #0087ff\">Dense</span>)                 │ (<span style=\"color: #00d7ff; text-decoration-color: #00d7ff\">None</span>, <span style=\"color: #00af00; text-decoration-color: #00af00\">4</span>)              │            <span style=\"color: #00af00; text-decoration-color: #00af00\">16</span> │\n",
       "└─────────────────────────────────┴────────────────────────┴───────────────┘\n",
       "</pre>\n"
      ],
      "text/plain": [
       "┏━━━━━━━━━━━━━━━━━━━━━━━━━━━━━━━━━┳━━━━━━━━━━━━━━━━━━━━━━━━┳━━━━━━━━━━━━━━━┓\n",
       "┃\u001b[1m \u001b[0m\u001b[1mLayer (type)                   \u001b[0m\u001b[1m \u001b[0m┃\u001b[1m \u001b[0m\u001b[1mOutput Shape          \u001b[0m\u001b[1m \u001b[0m┃\u001b[1m \u001b[0m\u001b[1m      Param #\u001b[0m\u001b[1m \u001b[0m┃\n",
       "┡━━━━━━━━━━━━━━━━━━━━━━━━━━━━━━━━━╇━━━━━━━━━━━━━━━━━━━━━━━━╇━━━━━━━━━━━━━━━┩\n",
       "│ input_layer (\u001b[38;5;33mInputLayer\u001b[0m)        │ (\u001b[38;5;45mNone\u001b[0m, \u001b[38;5;34m768\u001b[0m)            │             \u001b[38;5;34m0\u001b[0m │\n",
       "├─────────────────────────────────┼────────────────────────┼───────────────┤\n",
       "│ dense_1 (\u001b[38;5;33mDense\u001b[0m)                 │ (\u001b[38;5;45mNone\u001b[0m, \u001b[38;5;34m100\u001b[0m)            │        \u001b[38;5;34m76,900\u001b[0m │\n",
       "├─────────────────────────────────┼────────────────────────┼───────────────┤\n",
       "│ leaky_re_lu_1 (\u001b[38;5;33mLeakyReLU\u001b[0m)       │ (\u001b[38;5;45mNone\u001b[0m, \u001b[38;5;34m100\u001b[0m)            │             \u001b[38;5;34m0\u001b[0m │\n",
       "├─────────────────────────────────┼────────────────────────┼───────────────┤\n",
       "│ dropout (\u001b[38;5;33mDropout\u001b[0m)               │ (\u001b[38;5;45mNone\u001b[0m, \u001b[38;5;34m100\u001b[0m)            │             \u001b[38;5;34m0\u001b[0m │\n",
       "├─────────────────────────────────┼────────────────────────┼───────────────┤\n",
       "│ dense_2 (\u001b[38;5;33mDense\u001b[0m)                 │ (\u001b[38;5;45mNone\u001b[0m, \u001b[38;5;34m3\u001b[0m)              │           \u001b[38;5;34m303\u001b[0m │\n",
       "├─────────────────────────────────┼────────────────────────┼───────────────┤\n",
       "│ dense_3 (\u001b[38;5;33mDense\u001b[0m)                 │ (\u001b[38;5;45mNone\u001b[0m, \u001b[38;5;34m4\u001b[0m)              │            \u001b[38;5;34m16\u001b[0m │\n",
       "└─────────────────────────────────┴────────────────────────┴───────────────┘\n"
      ]
     },
     "metadata": {},
     "output_type": "display_data"
    },
    {
     "data": {
      "text/html": [
       "<pre style=\"white-space:pre;overflow-x:auto;line-height:normal;font-family:Menlo,'DejaVu Sans Mono',consolas,'Courier New',monospace\"><span style=\"font-weight: bold\"> Total params: </span><span style=\"color: #00af00; text-decoration-color: #00af00\">77,219</span> (301.64 KB)\n",
       "</pre>\n"
      ],
      "text/plain": [
       "\u001b[1m Total params: \u001b[0m\u001b[38;5;34m77,219\u001b[0m (301.64 KB)\n"
      ]
     },
     "metadata": {},
     "output_type": "display_data"
    },
    {
     "data": {
      "text/html": [
       "<pre style=\"white-space:pre;overflow-x:auto;line-height:normal;font-family:Menlo,'DejaVu Sans Mono',consolas,'Courier New',monospace\"><span style=\"font-weight: bold\"> Trainable params: </span><span style=\"color: #00af00; text-decoration-color: #00af00\">77,219</span> (301.64 KB)\n",
       "</pre>\n"
      ],
      "text/plain": [
       "\u001b[1m Trainable params: \u001b[0m\u001b[38;5;34m77,219\u001b[0m (301.64 KB)\n"
      ]
     },
     "metadata": {},
     "output_type": "display_data"
    },
    {
     "data": {
      "text/html": [
       "<pre style=\"white-space:pre;overflow-x:auto;line-height:normal;font-family:Menlo,'DejaVu Sans Mono',consolas,'Courier New',monospace\"><span style=\"font-weight: bold\"> Non-trainable params: </span><span style=\"color: #00af00; text-decoration-color: #00af00\">0</span> (0.00 B)\n",
       "</pre>\n"
      ],
      "text/plain": [
       "\u001b[1m Non-trainable params: \u001b[0m\u001b[38;5;34m0\u001b[0m (0.00 B)\n"
      ]
     },
     "metadata": {},
     "output_type": "display_data"
    }
   ],
   "source": [
    "d_model, c_model, g_model, gan_model = def_models(400)\n",
    "d_model.summary()"
   ]
  },
  {
   "cell_type": "code",
   "execution_count": 16,
   "id": "2cda6ec5-b17f-465c-8ce2-8c81f1583290",
   "metadata": {},
   "outputs": [
    {
     "data": {
      "text/html": [
       "<pre style=\"white-space:pre;overflow-x:auto;line-height:normal;font-family:Menlo,'DejaVu Sans Mono',consolas,'Courier New',monospace\"><span style=\"font-weight: bold\">Model: \"supervised-discriminator\"</span>\n",
       "</pre>\n"
      ],
      "text/plain": [
       "\u001b[1mModel: \"supervised-discriminator\"\u001b[0m\n"
      ]
     },
     "metadata": {},
     "output_type": "display_data"
    },
    {
     "data": {
      "text/html": [
       "<pre style=\"white-space:pre;overflow-x:auto;line-height:normal;font-family:Menlo,'DejaVu Sans Mono',consolas,'Courier New',monospace\">┏━━━━━━━━━━━━━━━━━━━━━━━━━━━━━━━━━┳━━━━━━━━━━━━━━━━━━━━━━━━┳━━━━━━━━━━━━━━━┓\n",
       "┃<span style=\"font-weight: bold\"> Layer (type)                    </span>┃<span style=\"font-weight: bold\"> Output Shape           </span>┃<span style=\"font-weight: bold\">       Param # </span>┃\n",
       "┡━━━━━━━━━━━━━━━━━━━━━━━━━━━━━━━━━╇━━━━━━━━━━━━━━━━━━━━━━━━╇━━━━━━━━━━━━━━━┩\n",
       "│ input_layer (<span style=\"color: #0087ff; text-decoration-color: #0087ff\">InputLayer</span>)        │ (<span style=\"color: #00d7ff; text-decoration-color: #00d7ff\">None</span>, <span style=\"color: #00af00; text-decoration-color: #00af00\">768</span>)            │             <span style=\"color: #00af00; text-decoration-color: #00af00\">0</span> │\n",
       "├─────────────────────────────────┼────────────────────────┼───────────────┤\n",
       "│ dense_1 (<span style=\"color: #0087ff; text-decoration-color: #0087ff\">Dense</span>)                 │ (<span style=\"color: #00d7ff; text-decoration-color: #00d7ff\">None</span>, <span style=\"color: #00af00; text-decoration-color: #00af00\">100</span>)            │        <span style=\"color: #00af00; text-decoration-color: #00af00\">76,900</span> │\n",
       "├─────────────────────────────────┼────────────────────────┼───────────────┤\n",
       "│ leaky_re_lu_1 (<span style=\"color: #0087ff; text-decoration-color: #0087ff\">LeakyReLU</span>)       │ (<span style=\"color: #00d7ff; text-decoration-color: #00d7ff\">None</span>, <span style=\"color: #00af00; text-decoration-color: #00af00\">100</span>)            │             <span style=\"color: #00af00; text-decoration-color: #00af00\">0</span> │\n",
       "├─────────────────────────────────┼────────────────────────┼───────────────┤\n",
       "│ dropout (<span style=\"color: #0087ff; text-decoration-color: #0087ff\">Dropout</span>)               │ (<span style=\"color: #00d7ff; text-decoration-color: #00d7ff\">None</span>, <span style=\"color: #00af00; text-decoration-color: #00af00\">100</span>)            │             <span style=\"color: #00af00; text-decoration-color: #00af00\">0</span> │\n",
       "├─────────────────────────────────┼────────────────────────┼───────────────┤\n",
       "│ dense_2 (<span style=\"color: #0087ff; text-decoration-color: #0087ff\">Dense</span>)                 │ (<span style=\"color: #00d7ff; text-decoration-color: #00d7ff\">None</span>, <span style=\"color: #00af00; text-decoration-color: #00af00\">3</span>)              │           <span style=\"color: #00af00; text-decoration-color: #00af00\">303</span> │\n",
       "├─────────────────────────────────┼────────────────────────┼───────────────┤\n",
       "│ activation (<span style=\"color: #0087ff; text-decoration-color: #0087ff\">Activation</span>)         │ (<span style=\"color: #00d7ff; text-decoration-color: #00d7ff\">None</span>, <span style=\"color: #00af00; text-decoration-color: #00af00\">3</span>)              │             <span style=\"color: #00af00; text-decoration-color: #00af00\">0</span> │\n",
       "└─────────────────────────────────┴────────────────────────┴───────────────┘\n",
       "</pre>\n"
      ],
      "text/plain": [
       "┏━━━━━━━━━━━━━━━━━━━━━━━━━━━━━━━━━┳━━━━━━━━━━━━━━━━━━━━━━━━┳━━━━━━━━━━━━━━━┓\n",
       "┃\u001b[1m \u001b[0m\u001b[1mLayer (type)                   \u001b[0m\u001b[1m \u001b[0m┃\u001b[1m \u001b[0m\u001b[1mOutput Shape          \u001b[0m\u001b[1m \u001b[0m┃\u001b[1m \u001b[0m\u001b[1m      Param #\u001b[0m\u001b[1m \u001b[0m┃\n",
       "┡━━━━━━━━━━━━━━━━━━━━━━━━━━━━━━━━━╇━━━━━━━━━━━━━━━━━━━━━━━━╇━━━━━━━━━━━━━━━┩\n",
       "│ input_layer (\u001b[38;5;33mInputLayer\u001b[0m)        │ (\u001b[38;5;45mNone\u001b[0m, \u001b[38;5;34m768\u001b[0m)            │             \u001b[38;5;34m0\u001b[0m │\n",
       "├─────────────────────────────────┼────────────────────────┼───────────────┤\n",
       "│ dense_1 (\u001b[38;5;33mDense\u001b[0m)                 │ (\u001b[38;5;45mNone\u001b[0m, \u001b[38;5;34m100\u001b[0m)            │        \u001b[38;5;34m76,900\u001b[0m │\n",
       "├─────────────────────────────────┼────────────────────────┼───────────────┤\n",
       "│ leaky_re_lu_1 (\u001b[38;5;33mLeakyReLU\u001b[0m)       │ (\u001b[38;5;45mNone\u001b[0m, \u001b[38;5;34m100\u001b[0m)            │             \u001b[38;5;34m0\u001b[0m │\n",
       "├─────────────────────────────────┼────────────────────────┼───────────────┤\n",
       "│ dropout (\u001b[38;5;33mDropout\u001b[0m)               │ (\u001b[38;5;45mNone\u001b[0m, \u001b[38;5;34m100\u001b[0m)            │             \u001b[38;5;34m0\u001b[0m │\n",
       "├─────────────────────────────────┼────────────────────────┼───────────────┤\n",
       "│ dense_2 (\u001b[38;5;33mDense\u001b[0m)                 │ (\u001b[38;5;45mNone\u001b[0m, \u001b[38;5;34m3\u001b[0m)              │           \u001b[38;5;34m303\u001b[0m │\n",
       "├─────────────────────────────────┼────────────────────────┼───────────────┤\n",
       "│ activation (\u001b[38;5;33mActivation\u001b[0m)         │ (\u001b[38;5;45mNone\u001b[0m, \u001b[38;5;34m3\u001b[0m)              │             \u001b[38;5;34m0\u001b[0m │\n",
       "└─────────────────────────────────┴────────────────────────┴───────────────┘\n"
      ]
     },
     "metadata": {},
     "output_type": "display_data"
    },
    {
     "data": {
      "text/html": [
       "<pre style=\"white-space:pre;overflow-x:auto;line-height:normal;font-family:Menlo,'DejaVu Sans Mono',consolas,'Courier New',monospace\"><span style=\"font-weight: bold\"> Total params: </span><span style=\"color: #00af00; text-decoration-color: #00af00\">77,203</span> (301.57 KB)\n",
       "</pre>\n"
      ],
      "text/plain": [
       "\u001b[1m Total params: \u001b[0m\u001b[38;5;34m77,203\u001b[0m (301.57 KB)\n"
      ]
     },
     "metadata": {},
     "output_type": "display_data"
    },
    {
     "data": {
      "text/html": [
       "<pre style=\"white-space:pre;overflow-x:auto;line-height:normal;font-family:Menlo,'DejaVu Sans Mono',consolas,'Courier New',monospace\"><span style=\"font-weight: bold\"> Trainable params: </span><span style=\"color: #00af00; text-decoration-color: #00af00\">77,203</span> (301.57 KB)\n",
       "</pre>\n"
      ],
      "text/plain": [
       "\u001b[1m Trainable params: \u001b[0m\u001b[38;5;34m77,203\u001b[0m (301.57 KB)\n"
      ]
     },
     "metadata": {},
     "output_type": "display_data"
    },
    {
     "data": {
      "text/html": [
       "<pre style=\"white-space:pre;overflow-x:auto;line-height:normal;font-family:Menlo,'DejaVu Sans Mono',consolas,'Courier New',monospace\"><span style=\"font-weight: bold\"> Non-trainable params: </span><span style=\"color: #00af00; text-decoration-color: #00af00\">0</span> (0.00 B)\n",
       "</pre>\n"
      ],
      "text/plain": [
       "\u001b[1m Non-trainable params: \u001b[0m\u001b[38;5;34m0\u001b[0m (0.00 B)\n"
      ]
     },
     "metadata": {},
     "output_type": "display_data"
    }
   ],
   "source": [
    "c_model.summary()"
   ]
  },
  {
   "cell_type": "code",
   "execution_count": 17,
   "id": "c9f16878-469e-460b-8fd7-892a9d482143",
   "metadata": {},
   "outputs": [
    {
     "data": {
      "text/html": [
       "<pre style=\"white-space:pre;overflow-x:auto;line-height:normal;font-family:Menlo,'DejaVu Sans Mono',consolas,'Courier New',monospace\"><span style=\"font-weight: bold\">Model: \"gan-model\"</span>\n",
       "</pre>\n"
      ],
      "text/plain": [
       "\u001b[1mModel: \"gan-model\"\u001b[0m\n"
      ]
     },
     "metadata": {},
     "output_type": "display_data"
    },
    {
     "data": {
      "text/html": [
       "<pre style=\"white-space:pre;overflow-x:auto;line-height:normal;font-family:Menlo,'DejaVu Sans Mono',consolas,'Courier New',monospace\">┏━━━━━━━━━━━━━━━━━━━━━━━━━━━━━━━━━┳━━━━━━━━━━━━━━━━━━━━━━━━┳━━━━━━━━━━━━━━━┓\n",
       "┃<span style=\"font-weight: bold\"> Layer (type)                    </span>┃<span style=\"font-weight: bold\"> Output Shape           </span>┃<span style=\"font-weight: bold\">       Param # </span>┃\n",
       "┡━━━━━━━━━━━━━━━━━━━━━━━━━━━━━━━━━╇━━━━━━━━━━━━━━━━━━━━━━━━╇━━━━━━━━━━━━━━━┩\n",
       "│ input_layer_2 (<span style=\"color: #0087ff; text-decoration-color: #0087ff\">InputLayer</span>)      │ (<span style=\"color: #00d7ff; text-decoration-color: #00d7ff\">None</span>, <span style=\"color: #00af00; text-decoration-color: #00af00\">400</span>)            │             <span style=\"color: #00af00; text-decoration-color: #00af00\">0</span> │\n",
       "├─────────────────────────────────┼────────────────────────┼───────────────┤\n",
       "│ generator (<span style=\"color: #0087ff; text-decoration-color: #0087ff\">Sequential</span>)          │ (<span style=\"color: #00d7ff; text-decoration-color: #00d7ff\">None</span>, <span style=\"color: #00af00; text-decoration-color: #00af00\">768</span>)            │       <span style=\"color: #00af00; text-decoration-color: #00af00\">394,968</span> │\n",
       "├─────────────────────────────────┼────────────────────────┼───────────────┤\n",
       "│ discriminator-fake (<span style=\"color: #0087ff; text-decoration-color: #0087ff\">Functional</span>) │ (<span style=\"color: #00d7ff; text-decoration-color: #00d7ff\">None</span>, <span style=\"color: #00af00; text-decoration-color: #00af00\">4</span>)              │        <span style=\"color: #00af00; text-decoration-color: #00af00\">77,219</span> │\n",
       "└─────────────────────────────────┴────────────────────────┴───────────────┘\n",
       "</pre>\n"
      ],
      "text/plain": [
       "┏━━━━━━━━━━━━━━━━━━━━━━━━━━━━━━━━━┳━━━━━━━━━━━━━━━━━━━━━━━━┳━━━━━━━━━━━━━━━┓\n",
       "┃\u001b[1m \u001b[0m\u001b[1mLayer (type)                   \u001b[0m\u001b[1m \u001b[0m┃\u001b[1m \u001b[0m\u001b[1mOutput Shape          \u001b[0m\u001b[1m \u001b[0m┃\u001b[1m \u001b[0m\u001b[1m      Param #\u001b[0m\u001b[1m \u001b[0m┃\n",
       "┡━━━━━━━━━━━━━━━━━━━━━━━━━━━━━━━━━╇━━━━━━━━━━━━━━━━━━━━━━━━╇━━━━━━━━━━━━━━━┩\n",
       "│ input_layer_2 (\u001b[38;5;33mInputLayer\u001b[0m)      │ (\u001b[38;5;45mNone\u001b[0m, \u001b[38;5;34m400\u001b[0m)            │             \u001b[38;5;34m0\u001b[0m │\n",
       "├─────────────────────────────────┼────────────────────────┼───────────────┤\n",
       "│ generator (\u001b[38;5;33mSequential\u001b[0m)          │ (\u001b[38;5;45mNone\u001b[0m, \u001b[38;5;34m768\u001b[0m)            │       \u001b[38;5;34m394,968\u001b[0m │\n",
       "├─────────────────────────────────┼────────────────────────┼───────────────┤\n",
       "│ discriminator-fake (\u001b[38;5;33mFunctional\u001b[0m) │ (\u001b[38;5;45mNone\u001b[0m, \u001b[38;5;34m4\u001b[0m)              │        \u001b[38;5;34m77,219\u001b[0m │\n",
       "└─────────────────────────────────┴────────────────────────┴───────────────┘\n"
      ]
     },
     "metadata": {},
     "output_type": "display_data"
    },
    {
     "data": {
      "text/html": [
       "<pre style=\"white-space:pre;overflow-x:auto;line-height:normal;font-family:Menlo,'DejaVu Sans Mono',consolas,'Courier New',monospace\"><span style=\"font-weight: bold\"> Total params: </span><span style=\"color: #00af00; text-decoration-color: #00af00\">472,187</span> (1.80 MB)\n",
       "</pre>\n"
      ],
      "text/plain": [
       "\u001b[1m Total params: \u001b[0m\u001b[38;5;34m472,187\u001b[0m (1.80 MB)\n"
      ]
     },
     "metadata": {},
     "output_type": "display_data"
    },
    {
     "data": {
      "text/html": [
       "<pre style=\"white-space:pre;overflow-x:auto;line-height:normal;font-family:Menlo,'DejaVu Sans Mono',consolas,'Courier New',monospace\"><span style=\"font-weight: bold\"> Trainable params: </span><span style=\"color: #00af00; text-decoration-color: #00af00\">472,187</span> (1.80 MB)\n",
       "</pre>\n"
      ],
      "text/plain": [
       "\u001b[1m Trainable params: \u001b[0m\u001b[38;5;34m472,187\u001b[0m (1.80 MB)\n"
      ]
     },
     "metadata": {},
     "output_type": "display_data"
    },
    {
     "data": {
      "text/html": [
       "<pre style=\"white-space:pre;overflow-x:auto;line-height:normal;font-family:Menlo,'DejaVu Sans Mono',consolas,'Courier New',monospace\"><span style=\"font-weight: bold\"> Non-trainable params: </span><span style=\"color: #00af00; text-decoration-color: #00af00\">0</span> (0.00 B)\n",
       "</pre>\n"
      ],
      "text/plain": [
       "\u001b[1m Non-trainable params: \u001b[0m\u001b[38;5;34m0\u001b[0m (0.00 B)\n"
      ]
     },
     "metadata": {},
     "output_type": "display_data"
    }
   ],
   "source": [
    "gan_model.summary()"
   ]
  },
  {
   "cell_type": "code",
   "execution_count": 18,
   "id": "5b955cb7-8711-4941-841e-a686943aa57b",
   "metadata": {},
   "outputs": [
    {
     "data": {
      "text/html": [
       "<pre style=\"white-space:pre;overflow-x:auto;line-height:normal;font-family:Menlo,'DejaVu Sans Mono',consolas,'Courier New',monospace\"><span style=\"font-weight: bold\">Model: \"generator\"</span>\n",
       "</pre>\n"
      ],
      "text/plain": [
       "\u001b[1mModel: \"generator\"\u001b[0m\n"
      ]
     },
     "metadata": {},
     "output_type": "display_data"
    },
    {
     "data": {
      "text/html": [
       "<pre style=\"white-space:pre;overflow-x:auto;line-height:normal;font-family:Menlo,'DejaVu Sans Mono',consolas,'Courier New',monospace\">┏━━━━━━━━━━━━━━━━━━━━━━━━━━━━━━━━━┳━━━━━━━━━━━━━━━━━━━━━━━━┳━━━━━━━━━━━━━━━┓\n",
       "┃<span style=\"font-weight: bold\"> Layer (type)                    </span>┃<span style=\"font-weight: bold\"> Output Shape           </span>┃<span style=\"font-weight: bold\">       Param # </span>┃\n",
       "┡━━━━━━━━━━━━━━━━━━━━━━━━━━━━━━━━━╇━━━━━━━━━━━━━━━━━━━━━━━━╇━━━━━━━━━━━━━━━┩\n",
       "│ dense_4 (<span style=\"color: #0087ff; text-decoration-color: #0087ff\">Dense</span>)                 │ (<span style=\"color: #00d7ff; text-decoration-color: #00d7ff\">None</span>, <span style=\"color: #00af00; text-decoration-color: #00af00\">400</span>)            │       <span style=\"color: #00af00; text-decoration-color: #00af00\">160,400</span> │\n",
       "├─────────────────────────────────┼────────────────────────┼───────────────┤\n",
       "│ dense_5 (<span style=\"color: #0087ff; text-decoration-color: #0087ff\">Dense</span>)                 │ (<span style=\"color: #00d7ff; text-decoration-color: #00d7ff\">None</span>, <span style=\"color: #00af00; text-decoration-color: #00af00\">200</span>)            │        <span style=\"color: #00af00; text-decoration-color: #00af00\">80,200</span> │\n",
       "├─────────────────────────────────┼────────────────────────┼───────────────┤\n",
       "│ dense_6 (<span style=\"color: #0087ff; text-decoration-color: #0087ff\">Dense</span>)                 │ (<span style=\"color: #00d7ff; text-decoration-color: #00d7ff\">None</span>, <span style=\"color: #00af00; text-decoration-color: #00af00\">768</span>)            │       <span style=\"color: #00af00; text-decoration-color: #00af00\">154,368</span> │\n",
       "└─────────────────────────────────┴────────────────────────┴───────────────┘\n",
       "</pre>\n"
      ],
      "text/plain": [
       "┏━━━━━━━━━━━━━━━━━━━━━━━━━━━━━━━━━┳━━━━━━━━━━━━━━━━━━━━━━━━┳━━━━━━━━━━━━━━━┓\n",
       "┃\u001b[1m \u001b[0m\u001b[1mLayer (type)                   \u001b[0m\u001b[1m \u001b[0m┃\u001b[1m \u001b[0m\u001b[1mOutput Shape          \u001b[0m\u001b[1m \u001b[0m┃\u001b[1m \u001b[0m\u001b[1m      Param #\u001b[0m\u001b[1m \u001b[0m┃\n",
       "┡━━━━━━━━━━━━━━━━━━━━━━━━━━━━━━━━━╇━━━━━━━━━━━━━━━━━━━━━━━━╇━━━━━━━━━━━━━━━┩\n",
       "│ dense_4 (\u001b[38;5;33mDense\u001b[0m)                 │ (\u001b[38;5;45mNone\u001b[0m, \u001b[38;5;34m400\u001b[0m)            │       \u001b[38;5;34m160,400\u001b[0m │\n",
       "├─────────────────────────────────┼────────────────────────┼───────────────┤\n",
       "│ dense_5 (\u001b[38;5;33mDense\u001b[0m)                 │ (\u001b[38;5;45mNone\u001b[0m, \u001b[38;5;34m200\u001b[0m)            │        \u001b[38;5;34m80,200\u001b[0m │\n",
       "├─────────────────────────────────┼────────────────────────┼───────────────┤\n",
       "│ dense_6 (\u001b[38;5;33mDense\u001b[0m)                 │ (\u001b[38;5;45mNone\u001b[0m, \u001b[38;5;34m768\u001b[0m)            │       \u001b[38;5;34m154,368\u001b[0m │\n",
       "└─────────────────────────────────┴────────────────────────┴───────────────┘\n"
      ]
     },
     "metadata": {},
     "output_type": "display_data"
    },
    {
     "data": {
      "text/html": [
       "<pre style=\"white-space:pre;overflow-x:auto;line-height:normal;font-family:Menlo,'DejaVu Sans Mono',consolas,'Courier New',monospace\"><span style=\"font-weight: bold\"> Total params: </span><span style=\"color: #00af00; text-decoration-color: #00af00\">394,968</span> (1.51 MB)\n",
       "</pre>\n"
      ],
      "text/plain": [
       "\u001b[1m Total params: \u001b[0m\u001b[38;5;34m394,968\u001b[0m (1.51 MB)\n"
      ]
     },
     "metadata": {},
     "output_type": "display_data"
    },
    {
     "data": {
      "text/html": [
       "<pre style=\"white-space:pre;overflow-x:auto;line-height:normal;font-family:Menlo,'DejaVu Sans Mono',consolas,'Courier New',monospace\"><span style=\"font-weight: bold\"> Trainable params: </span><span style=\"color: #00af00; text-decoration-color: #00af00\">394,968</span> (1.51 MB)\n",
       "</pre>\n"
      ],
      "text/plain": [
       "\u001b[1m Trainable params: \u001b[0m\u001b[38;5;34m394,968\u001b[0m (1.51 MB)\n"
      ]
     },
     "metadata": {},
     "output_type": "display_data"
    },
    {
     "data": {
      "text/html": [
       "<pre style=\"white-space:pre;overflow-x:auto;line-height:normal;font-family:Menlo,'DejaVu Sans Mono',consolas,'Courier New',monospace\"><span style=\"font-weight: bold\"> Non-trainable params: </span><span style=\"color: #00af00; text-decoration-color: #00af00\">0</span> (0.00 B)\n",
       "</pre>\n"
      ],
      "text/plain": [
       "\u001b[1m Non-trainable params: \u001b[0m\u001b[38;5;34m0\u001b[0m (0.00 B)\n"
      ]
     },
     "metadata": {},
     "output_type": "display_data"
    }
   ],
   "source": [
    "g_model.summary()"
   ]
  },
  {
   "cell_type": "markdown",
   "id": "75306616-247f-49d2-b81b-64cfb4962516",
   "metadata": {},
   "source": [
    "Below is the script to train our models."
   ]
  },
  {
   "cell_type": "code",
   "execution_count": 19,
   "id": "4e31d4fd",
   "metadata": {},
   "outputs": [
    {
     "name": "stdout",
     "output_type": "stream",
     "text": [
      "torch.Size([22500, 768]) (22500,)\n",
      "(11250, 768) (11250,)\n",
      "n_epochs=10, batch_size=1000\n",
      "Epoch 1/10\n",
      "\u001b[1m11/11\u001b[0m \u001b[32m━━━━━━━━━━━━━━━━━━━━\u001b[0m\u001b[37m\u001b[0m \u001b[1m1s\u001b[0m 19ms/step - accuracy: 0.3354 - loss: 1.3600 - val_accuracy: 0.3938 - val_loss: 1.1302\n",
      "Epoch 2/10\n",
      "\u001b[1m11/11\u001b[0m \u001b[32m━━━━━━━━━━━━━━━━━━━━\u001b[0m\u001b[37m\u001b[0m \u001b[1m0s\u001b[0m 6ms/step - accuracy: 0.3861 - loss: 1.1875 - val_accuracy: 0.4116 - val_loss: 1.0975\n",
      "Epoch 3/10\n",
      "\u001b[1m11/11\u001b[0m \u001b[32m━━━━━━━━━━━━━━━━━━━━\u001b[0m\u001b[37m\u001b[0m \u001b[1m0s\u001b[0m 6ms/step - accuracy: 0.4262 - loss: 1.1071 - val_accuracy: 0.4427 - val_loss: 1.0705\n",
      "Epoch 4/10\n",
      "\u001b[1m11/11\u001b[0m \u001b[32m━━━━━━━━━━━━━━━━━━━━\u001b[0m\u001b[37m\u001b[0m \u001b[1m0s\u001b[0m 6ms/step - accuracy: 0.4657 - loss: 1.0532 - val_accuracy: 0.4498 - val_loss: 1.0394\n",
      "Epoch 5/10\n",
      "\u001b[1m11/11\u001b[0m \u001b[32m━━━━━━━━━━━━━━━━━━━━\u001b[0m\u001b[37m\u001b[0m \u001b[1m0s\u001b[0m 6ms/step - accuracy: 0.4837 - loss: 1.0205 - val_accuracy: 0.4569 - val_loss: 1.0369\n",
      "Epoch 6/10\n",
      "\u001b[1m11/11\u001b[0m \u001b[32m━━━━━━━━━━━━━━━━━━━━\u001b[0m\u001b[37m\u001b[0m \u001b[1m0s\u001b[0m 6ms/step - accuracy: 0.5027 - loss: 0.9946 - val_accuracy: 0.4942 - val_loss: 1.0057\n",
      "Epoch 7/10\n",
      "\u001b[1m11/11\u001b[0m \u001b[32m━━━━━━━━━━━━━━━━━━━━\u001b[0m\u001b[37m\u001b[0m \u001b[1m0s\u001b[0m 6ms/step - accuracy: 0.5192 - loss: 0.9743 - val_accuracy: 0.5120 - val_loss: 0.9917\n",
      "Epoch 8/10\n",
      "\u001b[1m11/11\u001b[0m \u001b[32m━━━━━━━━━━━━━━━━━━━━\u001b[0m\u001b[37m\u001b[0m \u001b[1m0s\u001b[0m 6ms/step - accuracy: 0.5427 - loss: 0.9498 - val_accuracy: 0.5316 - val_loss: 0.9777\n",
      "Epoch 9/10\n",
      "\u001b[1m11/11\u001b[0m \u001b[32m━━━━━━━━━━━━━━━━━━━━\u001b[0m\u001b[37m\u001b[0m \u001b[1m0s\u001b[0m 6ms/step - accuracy: 0.5629 - loss: 0.9295 - val_accuracy: 0.5422 - val_loss: 0.9692\n",
      "Epoch 10/10\n",
      "\u001b[1m11/11\u001b[0m \u001b[32m━━━━━━━━━━━━━━━━━━━━\u001b[0m\u001b[37m\u001b[0m \u001b[1m0s\u001b[0m 6ms/step - accuracy: 0.5755 - loss: 0.9116 - val_accuracy: 0.5138 - val_loss: 0.9720\n"
     ]
    },
    {
     "data": {
      "image/png": "[encoded data removed]",
      "text/plain": [
       "<Figure size 800x400 with 1 Axes>"
      ]
     },
     "metadata": {},
     "output_type": "display_data"
    },
    {
     "data": {
      "image/png": "[encoded data removed]",
      "text/plain": [
       "<Figure size 800x400 with 1 Axes>"
      ]
     },
     "metadata": {},
     "output_type": "display_data"
    },
    {
     "name": "stdout",
     "output_type": "stream",
     "text": [
      "torch.Size([22500, 768]) (22500,)\n",
      "(11250, 768) (11250,)\n",
      "n_epochs=10, batch_size=1000\n",
      "Epoch 1/10\n",
      "\u001b[1m11/11\u001b[0m \u001b[32m━━━━━━━━━━━━━━━━━━━━\u001b[0m\u001b[37m\u001b[0m \u001b[1m1s\u001b[0m 19ms/step - accuracy: 0.3355 - loss: 1.3653 - val_accuracy: 0.3769 - val_loss: 1.1268\n",
      "Epoch 2/10\n",
      "\u001b[1m11/11\u001b[0m \u001b[32m━━━━━━━━━━━━━━━━━━━━\u001b[0m\u001b[37m\u001b[0m \u001b[1m0s\u001b[0m 6ms/step - accuracy: 0.3829 - loss: 1.1767 - val_accuracy: 0.4222 - val_loss: 1.0718\n",
      "Epoch 3/10\n",
      "\u001b[1m11/11\u001b[0m \u001b[32m━━━━━━━━━━━━━━━━━━━━\u001b[0m\u001b[37m\u001b[0m \u001b[1m0s\u001b[0m 6ms/step - accuracy: 0.4339 - loss: 1.0977 - val_accuracy: 0.4427 - val_loss: 1.0486\n",
      "Epoch 4/10\n",
      "\u001b[1m11/11\u001b[0m \u001b[32m━━━━━━━━━━━━━━━━━━━━\u001b[0m\u001b[37m\u001b[0m \u001b[1m0s\u001b[0m 6ms/step - accuracy: 0.4640 - loss: 1.0457 - val_accuracy: 0.4747 - val_loss: 1.0323\n",
      "Epoch 5/10\n",
      "\u001b[1m11/11\u001b[0m \u001b[32m━━━━━━━━━━━━━━━━━━━━\u001b[0m\u001b[37m\u001b[0m \u001b[1m0s\u001b[0m 6ms/step - accuracy: 0.4932 - loss: 1.0109 - val_accuracy: 0.4907 - val_loss: 1.0145\n",
      "Epoch 6/10\n",
      "\u001b[1m11/11\u001b[0m \u001b[32m━━━━━━━━━━━━━━━━━━━━\u001b[0m\u001b[37m\u001b[0m \u001b[1m0s\u001b[0m 6ms/step - accuracy: 0.5122 - loss: 0.9865 - val_accuracy: 0.5022 - val_loss: 0.9989\n",
      "Epoch 7/10\n",
      "\u001b[1m11/11\u001b[0m \u001b[32m━━━━━━━━━━━━━━━━━━━━\u001b[0m\u001b[37m\u001b[0m \u001b[1m0s\u001b[0m 6ms/step - accuracy: 0.5382 - loss: 0.9597 - val_accuracy: 0.5200 - val_loss: 0.9839\n",
      "Epoch 8/10\n",
      "\u001b[1m11/11\u001b[0m \u001b[32m━━━━━━━━━━━━━━━━━━━━\u001b[0m\u001b[37m\u001b[0m \u001b[1m0s\u001b[0m 6ms/step - accuracy: 0.5506 - loss: 0.9433 - val_accuracy: 0.5298 - val_loss: 0.9736\n",
      "Epoch 9/10\n",
      "\u001b[1m11/11\u001b[0m \u001b[32m━━━━━━━━━━━━━━━━━━━━\u001b[0m\u001b[37m\u001b[0m \u001b[1m0s\u001b[0m 6ms/step - accuracy: 0.5727 - loss: 0.9213 - val_accuracy: 0.5502 - val_loss: 0.9620\n",
      "Epoch 10/10\n",
      "\u001b[1m11/11\u001b[0m \u001b[32m━━━━━━━━━━━━━━━━━━━━\u001b[0m\u001b[37m\u001b[0m \u001b[1m0s\u001b[0m 7ms/step - accuracy: 0.5786 - loss: 0.9049 - val_accuracy: 0.5582 - val_loss: 0.9520\n"
     ]
    },
    {
     "data": {
      "image/png": "[encoded data removed]",
      "text/plain": [
       "<Figure size 800x400 with 1 Axes>"
      ]
     },
     "metadata": {},
     "output_type": "display_data"
    },
    {
     "data": {
      "image/png": "[encoded data removed]",
      "text/plain": [
       "<Figure size 800x400 with 1 Axes>"
      ]
     },
     "metadata": {},
     "output_type": "display_data"
    },
    {
     "name": "stdout",
     "output_type": "stream",
     "text": [
      "Latent dimensions: 500\n",
      "-------------\n",
      "Num epochs: 10\n",
      "-------------\n",
      "Num batches: 1000\n",
      "-------------\n",
      "(11250, 768) (11250,)\n",
      "n_epochs=10, batch_size=1000, b/e=22, steps=220\n",
      "\u001b[1m32/32\u001b[0m \u001b[32m━━━━━━━━━━━━━━━━━━━━\u001b[0m\u001b[37m\u001b[0m \u001b[1m0s\u001b[0m 2ms/step\n",
      ">1, d(loss on real and fake)[1.600,1.572], d(acc on real and fake)[29.600,18.100], g(loss)[1.548]\n",
      "WARNING:tensorflow:5 out of the last 114 calls to <function TensorFlowTrainer.make_train_function.<locals>.one_step_on_iterator at 0x1b0c814e0> triggered tf.function retracing. Tracing is expensive and the excessive number of tracings could be due to (1) creating @tf.function repeatedly in a loop, (2) passing tensors with different shapes, (3) passing Python objects instead of tensors. For (1), please define your @tf.function outside of the loop. For (2), @tf.function has reduce_retracing=True option that can avoid unnecessary retracing. For (3), please refer to https://www.tensorflow.org/guide/function#controlling_retracing and https://www.tensorflow.org/api_docs/python/tf/function for  more details.\n",
      "\u001b[1m32/32\u001b[0m \u001b[32m━━━━━━━━━━━━━━━━━━━━\u001b[0m\u001b[37m\u001b[0m \u001b[1m0s\u001b[0m 1ms/step \n",
      "WARNING:tensorflow:6 out of the last 115 calls to <function TensorFlowTrainer.make_train_function.<locals>.one_step_on_iterator at 0x1b0c814e0> triggered tf.function retracing. Tracing is expensive and the excessive number of tracings could be due to (1) creating @tf.function repeatedly in a loop, (2) passing tensors with different shapes, (3) passing Python objects instead of tensors. For (1), please define your @tf.function outside of the loop. For (2), @tf.function has reduce_retracing=True option that can avoid unnecessary retracing. For (3), please refer to https://www.tensorflow.org/guide/function#controlling_retracing and https://www.tensorflow.org/api_docs/python/tf/function for  more details.\n",
      ">2, d(loss on real and fake)[1.552,1.428], d(acc on real and fake)[22.600,17.050], g(loss)[1.154]\n",
      "\u001b[1m32/32\u001b[0m \u001b[32m━━━━━━━━━━━━━━━━━━━━\u001b[0m\u001b[37m\u001b[0m \u001b[1m0s\u001b[0m 1ms/step \n",
      ">3, d(loss on real and fake)[1.431,1.376], d(acc on real and fake)[20.820,17.350], g(loss)[0.953]\n",
      "\u001b[1m32/32\u001b[0m \u001b[32m━━━━━━━━━━━━━━━━━━━━\u001b[0m\u001b[37m\u001b[0m \u001b[1m0s\u001b[0m 1ms/step \n",
      ">4, d(loss on real and fake)[1.382,1.358], d(acc on real and fake)[19.957,17.462], g(loss)[0.827]\n",
      "\u001b[1m32/32\u001b[0m \u001b[32m━━━━━━━━━━━━━━━━━━━━\u001b[0m\u001b[37m\u001b[0m \u001b[1m0s\u001b[0m 1ms/step \n",
      ">5, d(loss on real and fake)[1.364,1.354], d(acc on real and fake)[19.444,17.500], g(loss)[0.741]\n",
      "\u001b[1m32/32\u001b[0m \u001b[32m━━━━━━━━━━━━━━━━━━━━\u001b[0m\u001b[37m\u001b[0m \u001b[1m0s\u001b[0m 1ms/step \n",
      ">6, d(loss on real and fake)[1.358,1.357], d(acc on real and fake)[19.236,17.633], g(loss)[0.677]\n",
      "\u001b[1m32/32\u001b[0m \u001b[32m━━━━━━━━━━━━━━━━━━━━\u001b[0m\u001b[37m\u001b[0m \u001b[1m0s\u001b[0m 2ms/step \n",
      ">7, d(loss on real and fake)[1.357,1.361], d(acc on real and fake)[19.269,17.893], g(loss)[0.626]\n",
      "\u001b[1m32/32\u001b[0m \u001b[32m━━━━━━━━━━━━━━━━━━━━\u001b[0m\u001b[37m\u001b[0m \u001b[1m0s\u001b[0m 1ms/step \n",
      ">8, d(loss on real and fake)[1.362,1.369], d(acc on real and fake)[19.040,17.850], g(loss)[0.585]\n",
      "\u001b[1m32/32\u001b[0m \u001b[32m━━━━━━━━━━━━━━━━━━━━\u001b[0m\u001b[37m\u001b[0m \u001b[1m0s\u001b[0m 1ms/step \n",
      ">9, d(loss on real and fake)[1.368,1.377], d(acc on real and fake)[18.918,17.867], g(loss)[0.551]\n",
      "\u001b[1m32/32\u001b[0m \u001b[32m━━━━━━━━━━━━━━━━━━━━\u001b[0m\u001b[37m\u001b[0m \u001b[1m0s\u001b[0m 1ms/step \n",
      ">10, d(loss on real and fake)[1.375,1.386], d(acc on real and fake)[18.826,17.885], g(loss)[0.523]\n",
      "\u001b[1m32/32\u001b[0m \u001b[32m━━━━━━━━━━━━━━━━━━━━\u001b[0m\u001b[37m\u001b[0m \u001b[1m0s\u001b[0m 1ms/step \n",
      ">11, d(loss on real and fake)[1.383,1.394], d(acc on real and fake)[18.871,18.014], g(loss)[0.499]\n",
      "\u001b[1m32/32\u001b[0m \u001b[32m━━━━━━━━━━━━━━━━━━━━\u001b[0m\u001b[37m\u001b[0m \u001b[1m0s\u001b[0m 1ms/step \n",
      ">12, d(loss on real and fake)[1.391,1.401], d(acc on real and fake)[18.835,18.050], g(loss)[0.478]\n",
      "\u001b[1m32/32\u001b[0m \u001b[32m━━━━━━━━━━━━━━━━━━━━\u001b[0m\u001b[37m\u001b[0m \u001b[1m0s\u001b[0m 1ms/step \n",
      ">13, d(loss on real and fake)[1.398,1.408], d(acc on real and fake)[18.856,18.131], g(loss)[0.460]\n",
      "\u001b[1m32/32\u001b[0m \u001b[32m━━━━━━━━━━━━━━━━━━━━\u001b[0m\u001b[37m\u001b[0m \u001b[1m0s\u001b[0m 1ms/step \n",
      ">14, d(loss on real and fake)[1.405,1.416], d(acc on real and fake)[18.852,18.179], g(loss)[0.444]\n",
      "\u001b[1m32/32\u001b[0m \u001b[32m━━━━━━━━━━━━━━━━━━━━\u001b[0m\u001b[37m\u001b[0m \u001b[1m0s\u001b[0m 1ms/step \n",
      ">15, d(loss on real and fake)[1.411,1.421], d(acc on real and fake)[18.938,18.307], g(loss)[0.431]\n",
      "\u001b[1m32/32\u001b[0m \u001b[32m━━━━━━━━━━━━━━━━━━━━\u001b[0m\u001b[37m\u001b[0m \u001b[1m0s\u001b[0m 1ms/step \n",
      ">16, d(loss on real and fake)[1.417,1.426], d(acc on real and fake)[18.916,18.325], g(loss)[0.418]\n",
      "\u001b[1m32/32\u001b[0m \u001b[32m━━━━━━━━━━━━━━━━━━━━\u001b[0m\u001b[37m\u001b[0m \u001b[1m0s\u001b[0m 1ms/step \n",
      ">17, d(loss on real and fake)[1.421,1.429], d(acc on real and fake)[18.958,18.400], g(loss)[0.408]\n",
      "\u001b[1m32/32\u001b[0m \u001b[32m━━━━━━━━━━━━━━━━━━━━\u001b[0m\u001b[37m\u001b[0m \u001b[1m0s\u001b[0m 1ms/step \n",
      ">18, d(loss on real and fake)[1.426,1.433], d(acc on real and fake)[18.886,18.361], g(loss)[0.398]\n",
      "\u001b[1m32/32\u001b[0m \u001b[32m━━━━━━━━━━━━━━━━━━━━\u001b[0m\u001b[37m\u001b[0m \u001b[1m0s\u001b[0m 1ms/step \n",
      ">19, d(loss on real and fake)[1.429,1.436], d(acc on real and fake)[18.932,18.434], g(loss)[0.390]\n",
      "\u001b[1m32/32\u001b[0m \u001b[32m━━━━━━━━━━━━━━━━━━━━\u001b[0m\u001b[37m\u001b[0m \u001b[1m0s\u001b[0m 1ms/step \n",
      ">20, d(loss on real and fake)[1.431,1.437], d(acc on real and fake)[19.000,18.525], g(loss)[0.383]\n",
      "\u001b[1m32/32\u001b[0m \u001b[32m━━━━━━━━━━━━━━━━━━━━\u001b[0m\u001b[37m\u001b[0m \u001b[1m0s\u001b[0m 1ms/step \n",
      ">21, d(loss on real and fake)[1.431,1.436], d(acc on real and fake)[19.068,18.614], g(loss)[0.378]\n",
      "\u001b[1m32/32\u001b[0m \u001b[32m━━━━━━━━━━━━━━━━━━━━\u001b[0m\u001b[37m\u001b[0m \u001b[1m0s\u001b[0m 1ms/step \n",
      ">22, d(loss on real and fake)[1.432,1.435], d(acc on real and fake)[19.067,18.634], g(loss)[0.373]\n",
      "\u001b[1m32/32\u001b[0m \u001b[32m━━━━━━━━━━━━━━━━━━━━\u001b[0m\u001b[37m\u001b[0m \u001b[1m0s\u001b[0m 1ms/step \n",
      ">23, d(loss on real and fake)[1.431,1.433], d(acc on real and fake)[19.107,18.691], g(loss)[0.370]\n",
      "\u001b[1m32/32\u001b[0m \u001b[32m━━━━━━━━━━━━━━━━━━━━\u001b[0m\u001b[37m\u001b[0m \u001b[1m0s\u001b[0m 1ms/step \n",
      ">24, d(loss on real and fake)[1.428,1.430], d(acc on real and fake)[19.217,18.817], g(loss)[0.366]\n",
      "\u001b[1m32/32\u001b[0m \u001b[32m━━━━━━━━━━━━━━━━━━━━\u001b[0m\u001b[37m\u001b[0m \u001b[1m0s\u001b[0m 1ms/step \n",
      ">25, d(loss on real and fake)[1.425,1.427], d(acc on real and fake)[19.276,18.890], g(loss)[0.364]\n",
      "\u001b[1m32/32\u001b[0m \u001b[32m━━━━━━━━━━━━━━━━━━━━\u001b[0m\u001b[37m\u001b[0m \u001b[1m0s\u001b[0m 1ms/step \n",
      ">26, d(loss on real and fake)[1.422,1.423], d(acc on real and fake)[19.406,19.033], g(loss)[0.362]\n",
      "\u001b[1m32/32\u001b[0m \u001b[32m━━━━━━━━━━━━━━━━━━━━\u001b[0m\u001b[37m\u001b[0m \u001b[1m0s\u001b[0m 1ms/step \n",
      ">27, d(loss on real and fake)[1.420,1.421], d(acc on real and fake)[19.396,19.037], g(loss)[0.360]\n",
      "\u001b[1m32/32\u001b[0m \u001b[32m━━━━━━━━━━━━━━━━━━━━\u001b[0m\u001b[37m\u001b[0m \u001b[1m0s\u001b[0m 1ms/step \n",
      ">28, d(loss on real and fake)[1.417,1.418], d(acc on real and fake)[19.405,19.059], g(loss)[0.359]\n",
      "\u001b[1m32/32\u001b[0m \u001b[32m━━━━━━━━━━━━━━━━━━━━\u001b[0m\u001b[37m\u001b[0m \u001b[1m0s\u001b[0m 1ms/step \n",
      ">29, d(loss on real and fake)[1.414,1.415], d(acc on real and fake)[19.461,19.128], g(loss)[0.357]\n",
      "\u001b[1m32/32\u001b[0m \u001b[32m━━━━━━━━━━━━━━━━━━━━\u001b[0m\u001b[37m\u001b[0m \u001b[1m0s\u001b[0m 1ms/step \n",
      ">30, d(loss on real and fake)[1.411,1.411], d(acc on real and fake)[19.546,19.220], g(loss)[0.357]\n",
      "\u001b[1m32/32\u001b[0m \u001b[32m━━━━━━━━━━━━━━━━━━━━\u001b[0m\u001b[37m\u001b[0m \u001b[1m0s\u001b[0m 1ms/step \n",
      ">31, d(loss on real and fake)[1.407,1.408], d(acc on real and fake)[19.616,19.302], g(loss)[0.356]\n",
      "\u001b[1m32/32\u001b[0m \u001b[32m━━━━━━━━━━━━━━━━━━━━\u001b[0m\u001b[37m\u001b[0m \u001b[1m0s\u001b[0m 2ms/step \n",
      ">32, d(loss on real and fake)[1.404,1.404], d(acc on real and fake)[19.676,19.378], g(loss)[0.356]\n",
      "\u001b[1m32/32\u001b[0m \u001b[32m━━━━━━━━━━━━━━━━━━━━\u001b[0m\u001b[37m\u001b[0m \u001b[1m0s\u001b[0m 1ms/step \n",
      ">33, d(loss on real and fake)[1.400,1.399], d(acc on real and fake)[19.726,19.432], g(loss)[0.357]\n",
      "\u001b[1m32/32\u001b[0m \u001b[32m━━━━━━━━━━━━━━━━━━━━\u001b[0m\u001b[37m\u001b[0m \u001b[1m0s\u001b[0m 1ms/step \n",
      ">34, d(loss on real and fake)[1.396,1.394], d(acc on real and fake)[19.761,19.479], g(loss)[0.358]\n",
      "\u001b[1m32/32\u001b[0m \u001b[32m━━━━━━━━━━━━━━━━━━━━\u001b[0m\u001b[37m\u001b[0m \u001b[1m0s\u001b[0m 1ms/step \n",
      ">35, d(loss on real and fake)[1.391,1.389], d(acc on real and fake)[19.796,19.520], g(loss)[0.360]\n",
      "\u001b[1m32/32\u001b[0m \u001b[32m━━━━━━━━━━━━━━━━━━━━\u001b[0m\u001b[37m\u001b[0m \u001b[1m0s\u001b[0m 1ms/step \n",
      ">36, d(loss on real and fake)[1.386,1.383], d(acc on real and fake)[19.868,19.606], g(loss)[0.363]\n",
      "\u001b[1m32/32\u001b[0m \u001b[32m━━━━━━━━━━━━━━━━━━━━\u001b[0m\u001b[37m\u001b[0m \u001b[1m0s\u001b[0m 1ms/step \n",
      ">37, d(loss on real and fake)[1.380,1.378], d(acc on real and fake)[19.927,19.678], g(loss)[0.366]\n",
      "\u001b[1m32/32\u001b[0m \u001b[32m━━━━━━━━━━━━━━━━━━━━\u001b[0m\u001b[37m\u001b[0m \u001b[1m0s\u001b[0m 1ms/step \n",
      ">38, d(loss on real and fake)[1.375,1.372], d(acc on real and fake)[19.992,19.754], g(loss)[0.370]\n",
      "\u001b[1m32/32\u001b[0m \u001b[32m━━━━━━━━━━━━━━━━━━━━\u001b[0m\u001b[37m\u001b[0m \u001b[1m0s\u001b[0m 1ms/step \n",
      ">39, d(loss on real and fake)[1.369,1.366], d(acc on real and fake)[20.032,19.814], g(loss)[0.374]\n",
      "\u001b[1m32/32\u001b[0m \u001b[32m━━━━━━━━━━━━━━━━━━━━\u001b[0m\u001b[37m\u001b[0m \u001b[1m0s\u001b[0m 1ms/step \n",
      ">40, d(loss on real and fake)[1.363,1.359], d(acc on real and fake)[20.122,19.915], g(loss)[0.378]\n",
      "\u001b[1m32/32\u001b[0m \u001b[32m━━━━━━━━━━━━━━━━━━━━\u001b[0m\u001b[37m\u001b[0m \u001b[1m0s\u001b[0m 1ms/step \n",
      ">41, d(loss on real and fake)[1.357,1.353], d(acc on real and fake)[20.232,20.039], g(loss)[0.382]\n",
      "\u001b[1m32/32\u001b[0m \u001b[32m━━━━━━━━━━━━━━━━━━━━\u001b[0m\u001b[37m\u001b[0m \u001b[1m0s\u001b[0m 1ms/step \n",
      ">42, d(loss on real and fake)[1.351,1.347], d(acc on real and fake)[20.337,20.168], g(loss)[0.386]\n",
      "\u001b[1m32/32\u001b[0m \u001b[32m━━━━━━━━━━━━━━━━━━━━\u001b[0m\u001b[37m\u001b[0m \u001b[1m0s\u001b[0m 2ms/step\n",
      ">43, d(loss on real and fake)[1.345,1.342], d(acc on real and fake)[20.392,20.233], g(loss)[0.390]\n",
      "\u001b[1m32/32\u001b[0m \u001b[32m━━━━━━━━━━━━━━━━━━━━\u001b[0m\u001b[37m\u001b[0m \u001b[1m0s\u001b[0m 2ms/step\n",
      ">44, d(loss on real and fake)[1.339,1.336], d(acc on real and fake)[20.514,20.334], g(loss)[0.394]\n",
      "\u001b[1m32/32\u001b[0m \u001b[32m━━━━━━━━━━━━━━━━━━━━\u001b[0m\u001b[37m\u001b[0m \u001b[1m0s\u001b[0m 1ms/step \n",
      ">45, d(loss on real and fake)[1.334,1.331], d(acc on real and fake)[20.629,20.454], g(loss)[0.398]\n",
      "\u001b[1m32/32\u001b[0m \u001b[32m━━━━━━━━━━━━━━━━━━━━\u001b[0m\u001b[37m\u001b[0m \u001b[1m0s\u001b[0m 1ms/step \n",
      ">46, d(loss on real and fake)[1.329,1.326], d(acc on real and fake)[20.696,20.532], g(loss)[0.401]\n",
      "\u001b[1m32/32\u001b[0m \u001b[32m━━━━━━━━━━━━━━━━━━━━\u001b[0m\u001b[37m\u001b[0m \u001b[1m0s\u001b[0m 1ms/step \n",
      ">47, d(loss on real and fake)[1.324,1.321], d(acc on real and fake)[20.796,20.636], g(loss)[0.405]\n",
      "\u001b[1m32/32\u001b[0m \u001b[32m━━━━━━━━━━━━━━━━━━━━\u001b[0m\u001b[37m\u001b[0m \u001b[1m0s\u001b[0m 1ms/step \n",
      ">48, d(loss on real and fake)[1.319,1.316], d(acc on real and fake)[20.887,20.741], g(loss)[0.409]\n",
      "\u001b[1m32/32\u001b[0m \u001b[32m━━━━━━━━━━━━━━━━━━━━\u001b[0m\u001b[37m\u001b[0m \u001b[1m0s\u001b[0m 1ms/step \n",
      ">49, d(loss on real and fake)[1.314,1.311], d(acc on real and fake)[20.992,20.852], g(loss)[0.413]\n",
      "\u001b[1m32/32\u001b[0m \u001b[32m━━━━━━━━━━━━━━━━━━━━\u001b[0m\u001b[37m\u001b[0m \u001b[1m0s\u001b[0m 1ms/step \n",
      ">50, d(loss on real and fake)[1.309,1.305], d(acc on real and fake)[21.108,21.006], g(loss)[0.418]\n",
      "\u001b[1m32/32\u001b[0m \u001b[32m━━━━━━━━━━━━━━━━━━━━\u001b[0m\u001b[37m\u001b[0m \u001b[1m0s\u001b[0m 1ms/step \n",
      ">51, d(loss on real and fake)[1.303,1.299], d(acc on real and fake)[21.262,21.231], g(loss)[0.424]\n",
      "\u001b[1m32/32\u001b[0m \u001b[32m━━━━━━━━━━━━━━━━━━━━\u001b[0m\u001b[37m\u001b[0m \u001b[1m0s\u001b[0m 1ms/step \n",
      ">52, d(loss on real and fake)[1.298,1.294], d(acc on real and fake)[21.462,21.468], g(loss)[0.430]\n",
      "\u001b[1m32/32\u001b[0m \u001b[32m━━━━━━━━━━━━━━━━━━━━\u001b[0m\u001b[37m\u001b[0m \u001b[1m0s\u001b[0m 1ms/step \n",
      ">53, d(loss on real and fake)[1.292,1.288], d(acc on real and fake)[21.703,21.725], g(loss)[0.436]\n",
      "\u001b[1m32/32\u001b[0m \u001b[32m━━━━━━━━━━━━━━━━━━━━\u001b[0m\u001b[37m\u001b[0m \u001b[1m0s\u001b[0m 1ms/step \n",
      ">54, d(loss on real and fake)[1.286,1.282], d(acc on real and fake)[21.987,22.012], g(loss)[0.442]\n",
      "\u001b[1m32/32\u001b[0m \u001b[32m━━━━━━━━━━━━━━━━━━━━\u001b[0m\u001b[37m\u001b[0m \u001b[1m0s\u001b[0m 1ms/step \n",
      ">55, d(loss on real and fake)[1.280,1.276], d(acc on real and fake)[22.237,22.265], g(loss)[0.448]\n",
      "\u001b[1m32/32\u001b[0m \u001b[32m━━━━━━━━━━━━━━━━━━━━\u001b[0m\u001b[37m\u001b[0m \u001b[1m0s\u001b[0m 1ms/step \n",
      ">56, d(loss on real and fake)[1.274,1.271], d(acc on real and fake)[22.493,22.545], g(loss)[0.454]\n",
      "\u001b[1m32/32\u001b[0m \u001b[32m━━━━━━━━━━━━━━━━━━━━\u001b[0m\u001b[37m\u001b[0m \u001b[1m0s\u001b[0m 1ms/step \n",
      ">57, d(loss on real and fake)[1.269,1.265], d(acc on real and fake)[22.780,22.854], g(loss)[0.461]\n",
      "\u001b[1m32/32\u001b[0m \u001b[32m━━━━━━━━━━━━━━━━━━━━\u001b[0m\u001b[37m\u001b[0m \u001b[1m0s\u001b[0m 1ms/step \n",
      ">58, d(loss on real and fake)[1.263,1.259], d(acc on real and fake)[23.080,23.278], g(loss)[0.470]\n",
      "\u001b[1m32/32\u001b[0m \u001b[32m━━━━━━━━━━━━━━━━━━━━\u001b[0m\u001b[37m\u001b[0m \u001b[1m0s\u001b[0m 1ms/step \n",
      ">59, d(loss on real and fake)[1.257,1.253], d(acc on real and fake)[23.484,23.753], g(loss)[0.479]\n",
      "\u001b[1m32/32\u001b[0m \u001b[32m━━━━━━━━━━━━━━━━━━━━\u001b[0m\u001b[37m\u001b[0m \u001b[1m0s\u001b[0m 1ms/step \n",
      ">60, d(loss on real and fake)[1.251,1.247], d(acc on real and fake)[23.963,24.242], g(loss)[0.487]\n",
      "\u001b[1m32/32\u001b[0m \u001b[32m━━━━━━━━━━━━━━━━━━━━\u001b[0m\u001b[37m\u001b[0m \u001b[1m0s\u001b[0m 1ms/step \n",
      ">61, d(loss on real and fake)[1.245,1.241], d(acc on real and fake)[24.422,24.693], g(loss)[0.495]\n",
      "\u001b[1m32/32\u001b[0m \u001b[32m━━━━━━━━━━━━━━━━━━━━\u001b[0m\u001b[37m\u001b[0m \u001b[1m0s\u001b[0m 1ms/step \n",
      ">62, d(loss on real and fake)[1.240,1.235], d(acc on real and fake)[24.877,25.182], g(loss)[0.504]\n",
      "\u001b[1m32/32\u001b[0m \u001b[32m━━━━━━━━━━━━━━━━━━━━\u001b[0m\u001b[37m\u001b[0m \u001b[1m0s\u001b[0m 1ms/step \n",
      ">63, d(loss on real and fake)[1.234,1.230], d(acc on real and fake)[25.354,25.623], g(loss)[0.512]\n",
      "\u001b[1m32/32\u001b[0m \u001b[32m━━━━━━━━━━━━━━━━━━━━\u001b[0m\u001b[37m\u001b[0m \u001b[1m0s\u001b[0m 1ms/step \n",
      ">64, d(loss on real and fake)[1.228,1.224], d(acc on real and fake)[25.794,26.074], g(loss)[0.519]\n",
      "\u001b[1m32/32\u001b[0m \u001b[32m━━━━━━━━━━━━━━━━━━━━\u001b[0m\u001b[37m\u001b[0m \u001b[1m0s\u001b[0m 1ms/step \n",
      ">65, d(loss on real and fake)[1.223,1.219], d(acc on real and fake)[26.229,26.471], g(loss)[0.527]\n",
      "\u001b[1m32/32\u001b[0m \u001b[32m━━━━━━━━━━━━━━━━━━━━\u001b[0m\u001b[37m\u001b[0m \u001b[1m0s\u001b[0m 2ms/step \n",
      ">66, d(loss on real and fake)[1.218,1.214], d(acc on real and fake)[26.624,26.861], g(loss)[0.535]\n",
      "\u001b[1m32/32\u001b[0m \u001b[32m━━━━━━━━━━━━━━━━━━━━\u001b[0m\u001b[37m\u001b[0m \u001b[1m0s\u001b[0m 1ms/step \n",
      ">67, d(loss on real and fake)[1.213,1.208], d(acc on real and fake)[27.021,27.278], g(loss)[0.543]\n",
      "\u001b[1m32/32\u001b[0m \u001b[32m━━━━━━━━━━━━━━━━━━━━\u001b[0m\u001b[37m\u001b[0m \u001b[1m0s\u001b[0m 1ms/step \n",
      ">68, d(loss on real and fake)[1.208,1.203], d(acc on real and fake)[27.418,27.684], g(loss)[0.550]\n",
      "\u001b[1m32/32\u001b[0m \u001b[32m━━━━━━━━━━━━━━━━━━━━\u001b[0m\u001b[37m\u001b[0m \u001b[1m0s\u001b[0m 1ms/step \n",
      ">69, d(loss on real and fake)[1.202,1.199], d(acc on real and fake)[27.839,28.057], g(loss)[0.557]\n",
      "\u001b[1m32/32\u001b[0m \u001b[32m━━━━━━━━━━━━━━━━━━━━\u001b[0m\u001b[37m\u001b[0m \u001b[1m0s\u001b[0m 1ms/step \n",
      ">70, d(loss on real and fake)[1.198,1.194], d(acc on real and fake)[28.194,28.392], g(loss)[0.563]\n",
      "\u001b[1m32/32\u001b[0m \u001b[32m━━━━━━━━━━━━━━━━━━━━\u001b[0m\u001b[37m\u001b[0m \u001b[1m0s\u001b[0m 1ms/step \n",
      ">71, d(loss on real and fake)[1.193,1.190], d(acc on real and fake)[28.527,28.703], g(loss)[0.569]\n",
      "\u001b[1m32/32\u001b[0m \u001b[32m━━━━━━━━━━━━━━━━━━━━\u001b[0m\u001b[37m\u001b[0m \u001b[1m0s\u001b[0m 1ms/step \n",
      ">72, d(loss on real and fake)[1.189,1.185], d(acc on real and fake)[28.830,28.989], g(loss)[0.575]\n",
      "\u001b[1m32/32\u001b[0m \u001b[32m━━━━━━━━━━━━━━━━━━━━\u001b[0m\u001b[37m\u001b[0m \u001b[1m0s\u001b[0m 1ms/step \n",
      ">73, d(loss on real and fake)[1.185,1.181], d(acc on real and fake)[29.122,29.316], g(loss)[0.581]\n",
      "\u001b[1m32/32\u001b[0m \u001b[32m━━━━━━━━━━━━━━━━━━━━\u001b[0m\u001b[37m\u001b[0m \u001b[1m0s\u001b[0m 1ms/step \n",
      ">74, d(loss on real and fake)[1.181,1.177], d(acc on real and fake)[29.438,29.602], g(loss)[0.586]\n",
      "\u001b[1m32/32\u001b[0m \u001b[32m━━━━━━━━━━━━━━━━━━━━\u001b[0m\u001b[37m\u001b[0m \u001b[1m0s\u001b[0m 1ms/step \n",
      ">75, d(loss on real and fake)[1.177,1.174], d(acc on real and fake)[29.732,29.889], g(loss)[0.591]\n",
      "\u001b[1m32/32\u001b[0m \u001b[32m━━━━━━━━━━━━━━━━━━━━\u001b[0m\u001b[37m\u001b[0m \u001b[1m0s\u001b[0m 2ms/step\n",
      ">76, d(loss on real and fake)[1.173,1.170], d(acc on real and fake)[30.011,30.160], g(loss)[0.595]\n",
      "\u001b[1m32/32\u001b[0m \u001b[32m━━━━━━━━━━━━━━━━━━━━\u001b[0m\u001b[37m\u001b[0m \u001b[1m0s\u001b[0m 1ms/step \n",
      ">77, d(loss on real and fake)[1.169,1.166], d(acc on real and fake)[30.278,30.408], g(loss)[0.600]\n",
      "\u001b[1m32/32\u001b[0m \u001b[32m━━━━━━━━━━━━━━━━━━━━\u001b[0m\u001b[37m\u001b[0m \u001b[1m0s\u001b[0m 1ms/step \n",
      ">78, d(loss on real and fake)[1.165,1.162], d(acc on real and fake)[30.539,30.657], g(loss)[0.604]\n",
      "\u001b[1m32/32\u001b[0m \u001b[32m━━━━━━━━━━━━━━━━━━━━\u001b[0m\u001b[37m\u001b[0m \u001b[1m0s\u001b[0m 1ms/step \n",
      ">79, d(loss on real and fake)[1.162,1.159], d(acc on real and fake)[30.766,30.882], g(loss)[0.608]\n",
      "\u001b[1m32/32\u001b[0m \u001b[32m━━━━━━━━━━━━━━━━━━━━\u001b[0m\u001b[37m\u001b[0m \u001b[1m0s\u001b[0m 1ms/step \n",
      ">80, d(loss on real and fake)[1.158,1.155], d(acc on real and fake)[30.999,31.121], g(loss)[0.611]\n",
      "\u001b[1m32/32\u001b[0m \u001b[32m━━━━━━━━━━━━━━━━━━━━\u001b[0m\u001b[37m\u001b[0m \u001b[1m0s\u001b[0m 1ms/step \n",
      ">81, d(loss on real and fake)[1.155,1.152], d(acc on real and fake)[31.222,31.319], g(loss)[0.615]\n",
      "\u001b[1m32/32\u001b[0m \u001b[32m━━━━━━━━━━━━━━━━━━━━\u001b[0m\u001b[37m\u001b[0m \u001b[1m0s\u001b[0m 1ms/step \n",
      ">82, d(loss on real and fake)[1.151,1.148], d(acc on real and fake)[31.443,31.543], g(loss)[0.619]\n",
      "\u001b[1m32/32\u001b[0m \u001b[32m━━━━━━━━━━━━━━━━━━━━\u001b[0m\u001b[37m\u001b[0m \u001b[1m0s\u001b[0m 1ms/step \n",
      ">83, d(loss on real and fake)[1.148,1.145], d(acc on real and fake)[31.659,31.761], g(loss)[0.622]\n",
      "\u001b[1m32/32\u001b[0m \u001b[32m━━━━━━━━━━━━━━━━━━━━\u001b[0m\u001b[37m\u001b[0m \u001b[1m0s\u001b[0m 1ms/step \n",
      ">84, d(loss on real and fake)[1.145,1.142], d(acc on real and fake)[31.871,32.034], g(loss)[0.626]\n",
      "\u001b[1m32/32\u001b[0m \u001b[32m━━━━━━━━━━━━━━━━━━━━\u001b[0m\u001b[37m\u001b[0m \u001b[1m0s\u001b[0m 1ms/step \n",
      ">85, d(loss on real and fake)[1.141,1.139], d(acc on real and fake)[32.149,32.331], g(loss)[0.630]\n",
      "\u001b[1m32/32\u001b[0m \u001b[32m━━━━━━━━━━━━━━━━━━━━\u001b[0m\u001b[37m\u001b[0m \u001b[1m0s\u001b[0m 1ms/step \n",
      ">86, d(loss on real and fake)[1.138,1.135], d(acc on real and fake)[32.434,32.634], g(loss)[0.633]\n",
      "\u001b[1m32/32\u001b[0m \u001b[32m━━━━━━━━━━━━━━━━━━━━\u001b[0m\u001b[37m\u001b[0m \u001b[1m0s\u001b[0m 1ms/step \n",
      ">87, d(loss on real and fake)[1.135,1.132], d(acc on real and fake)[32.736,32.956], g(loss)[0.637]\n",
      "\u001b[1m32/32\u001b[0m \u001b[32m━━━━━━━━━━━━━━━━━━━━\u001b[0m\u001b[37m\u001b[0m \u001b[1m0s\u001b[0m 2ms/step \n",
      ">88, d(loss on real and fake)[1.132,1.129], d(acc on real and fake)[33.048,33.283], g(loss)[0.641]\n",
      "\u001b[1m32/32\u001b[0m \u001b[32m━━━━━━━━━━━━━━━━━━━━\u001b[0m\u001b[37m\u001b[0m \u001b[1m0s\u001b[0m 1ms/step \n",
      ">89, d(loss on real and fake)[1.128,1.125], d(acc on real and fake)[33.386,33.582], g(loss)[0.644]\n",
      "\u001b[1m32/32\u001b[0m \u001b[32m━━━━━━━━━━━━━━━━━━━━\u001b[0m\u001b[37m\u001b[0m \u001b[1m0s\u001b[0m 1ms/step \n",
      ">90, d(loss on real and fake)[1.125,1.122], d(acc on real and fake)[33.666,33.875], g(loss)[0.647]\n",
      "\u001b[1m32/32\u001b[0m \u001b[32m━━━━━━━━━━━━━━━━━━━━\u001b[0m\u001b[37m\u001b[0m \u001b[1m0s\u001b[0m 1ms/step \n",
      ">91, d(loss on real and fake)[1.122,1.119], d(acc on real and fake)[33.967,34.155], g(loss)[0.650]\n",
      "\u001b[1m32/32\u001b[0m \u001b[32m━━━━━━━━━━━━━━━━━━━━\u001b[0m\u001b[37m\u001b[0m \u001b[1m0s\u001b[0m 1ms/step \n",
      ">92, d(loss on real and fake)[1.119,1.117], d(acc on real and fake)[34.232,34.407], g(loss)[0.653]\n",
      "\u001b[1m32/32\u001b[0m \u001b[32m━━━━━━━━━━━━━━━━━━━━\u001b[0m\u001b[37m\u001b[0m \u001b[1m0s\u001b[0m 1ms/step \n",
      ">93, d(loss on real and fake)[1.116,1.114], d(acc on real and fake)[34.489,34.647], g(loss)[0.655]\n",
      "\u001b[1m32/32\u001b[0m \u001b[32m━━━━━━━━━━━━━━━━━━━━\u001b[0m\u001b[37m\u001b[0m \u001b[1m0s\u001b[0m 1ms/step \n",
      ">94, d(loss on real and fake)[1.113,1.111], d(acc on real and fake)[34.729,34.894], g(loss)[0.658]\n",
      "\u001b[1m32/32\u001b[0m \u001b[32m━━━━━━━━━━━━━━━━━━━━\u001b[0m\u001b[37m\u001b[0m \u001b[1m0s\u001b[0m 1ms/step \n",
      ">95, d(loss on real and fake)[1.111,1.108], d(acc on real and fake)[34.963,35.136], g(loss)[0.660]\n",
      "\u001b[1m32/32\u001b[0m \u001b[32m━━━━━━━━━━━━━━━━━━━━\u001b[0m\u001b[37m\u001b[0m \u001b[1m0s\u001b[0m 1ms/step \n",
      ">96, d(loss on real and fake)[1.108,1.106], d(acc on real and fake)[35.202,35.383], g(loss)[0.663]\n",
      "\u001b[1m32/32\u001b[0m \u001b[32m━━━━━━━━━━━━━━━━━━━━\u001b[0m\u001b[37m\u001b[0m \u001b[1m0s\u001b[0m 2ms/step \n",
      ">97, d(loss on real and fake)[1.105,1.103], d(acc on real and fake)[35.468,35.651], g(loss)[0.665]\n",
      "\u001b[1m32/32\u001b[0m \u001b[32m━━━━━━━━━━━━━━━━━━━━\u001b[0m\u001b[37m\u001b[0m \u001b[1m0s\u001b[0m 1ms/step \n",
      ">98, d(loss on real and fake)[1.103,1.100], d(acc on real and fake)[35.725,35.929], g(loss)[0.668]\n",
      "\u001b[1m32/32\u001b[0m \u001b[32m━━━━━━━━━━━━━━━━━━━━\u001b[0m\u001b[37m\u001b[0m \u001b[1m0s\u001b[0m 1ms/step \n",
      ">99, d(loss on real and fake)[1.100,1.098], d(acc on real and fake)[36.003,36.210], g(loss)[0.670]\n",
      "\u001b[1m32/32\u001b[0m \u001b[32m━━━━━━━━━━━━━━━━━━━━\u001b[0m\u001b[37m\u001b[0m \u001b[1m0s\u001b[0m 1ms/step \n",
      ">100, d(loss on real and fake)[1.097,1.095], d(acc on real and fake)[36.297,36.500], g(loss)[0.672]\n",
      "\u001b[1m32/32\u001b[0m \u001b[32m━━━━━━━━━━━━━━━━━━━━\u001b[0m\u001b[37m\u001b[0m \u001b[1m0s\u001b[0m 1ms/step \n",
      ">101, d(loss on real and fake)[1.095,1.093], d(acc on real and fake)[36.570,36.767], g(loss)[0.675]\n",
      "\u001b[1m32/32\u001b[0m \u001b[32m━━━━━━━━━━━━━━━━━━━━\u001b[0m\u001b[37m\u001b[0m \u001b[1m0s\u001b[0m 1ms/step \n",
      ">102, d(loss on real and fake)[1.092,1.090], d(acc on real and fake)[36.853,37.034], g(loss)[0.677]\n",
      "\u001b[1m32/32\u001b[0m \u001b[32m━━━━━━━━━━━━━━━━━━━━\u001b[0m\u001b[37m\u001b[0m \u001b[1m0s\u001b[0m 1ms/step \n",
      ">103, d(loss on real and fake)[1.090,1.088], d(acc on real and fake)[37.089,37.264], g(loss)[0.679]\n",
      "\u001b[1m32/32\u001b[0m \u001b[32m━━━━━━━━━━━━━━━━━━━━\u001b[0m\u001b[37m\u001b[0m \u001b[1m0s\u001b[0m 1ms/step \n",
      ">104, d(loss on real and fake)[1.087,1.085], d(acc on real and fake)[37.329,37.509], g(loss)[0.681]\n",
      "\u001b[1m32/32\u001b[0m \u001b[32m━━━━━━━━━━━━━━━━━━━━\u001b[0m\u001b[37m\u001b[0m \u001b[1m0s\u001b[0m 1ms/step \n",
      ">105, d(loss on real and fake)[1.085,1.083], d(acc on real and fake)[37.573,37.769], g(loss)[0.683]\n",
      "\u001b[1m32/32\u001b[0m \u001b[32m━━━━━━━━━━━━━━━━━━━━\u001b[0m\u001b[37m\u001b[0m \u001b[1m0s\u001b[0m 1ms/step \n",
      ">106, d(loss on real and fake)[1.082,1.080], d(acc on real and fake)[37.845,38.053], g(loss)[0.686]\n",
      "\u001b[1m32/32\u001b[0m \u001b[32m━━━━━━━━━━━━━━━━━━━━\u001b[0m\u001b[37m\u001b[0m \u001b[1m0s\u001b[0m 1ms/step \n",
      ">107, d(loss on real and fake)[1.080,1.078], d(acc on real and fake)[38.123,38.342], g(loss)[0.688]\n",
      "\u001b[1m32/32\u001b[0m \u001b[32m━━━━━━━━━━━━━━━━━━━━\u001b[0m\u001b[37m\u001b[0m \u001b[1m0s\u001b[0m 1ms/step \n",
      ">108, d(loss on real and fake)[1.077,1.075], d(acc on real and fake)[38.406,38.606], g(loss)[0.691]\n",
      "\u001b[1m32/32\u001b[0m \u001b[32m━━━━━━━━━━━━━━━━━━━━\u001b[0m\u001b[37m\u001b[0m \u001b[1m0s\u001b[0m 1ms/step \n",
      ">109, d(loss on real and fake)[1.075,1.073], d(acc on real and fake)[38.662,38.877], g(loss)[0.693]\n",
      "\u001b[1m32/32\u001b[0m \u001b[32m━━━━━━━━━━━━━━━━━━━━\u001b[0m\u001b[37m\u001b[0m \u001b[1m0s\u001b[0m 3ms/step\n",
      ">110, d(loss on real and fake)[1.072,1.070], d(acc on real and fake)[38.933,39.151], g(loss)[0.696]\n",
      "\u001b[1m32/32\u001b[0m \u001b[32m━━━━━━━━━━━━━━━━━━━━\u001b[0m\u001b[37m\u001b[0m \u001b[1m0s\u001b[0m 2ms/step\n",
      ">111, d(loss on real and fake)[1.070,1.068], d(acc on real and fake)[39.217,39.422], g(loss)[0.698]\n",
      "\u001b[1m32/32\u001b[0m \u001b[32m━━━━━━━━━━━━━━━━━━━━\u001b[0m\u001b[37m\u001b[0m \u001b[1m0s\u001b[0m 2ms/step\n",
      ">112, d(loss on real and fake)[1.068,1.065], d(acc on real and fake)[39.487,39.686], g(loss)[0.701]\n",
      "\u001b[1m32/32\u001b[0m \u001b[32m━━━━━━━━━━━━━━━━━━━━\u001b[0m\u001b[37m\u001b[0m \u001b[1m0s\u001b[0m 2ms/step \n",
      ">113, d(loss on real and fake)[1.065,1.063], d(acc on real and fake)[39.735,39.927], g(loss)[0.703]\n",
      "\u001b[1m32/32\u001b[0m \u001b[32m━━━━━━━━━━━━━━━━━━━━\u001b[0m\u001b[37m\u001b[0m \u001b[1m0s\u001b[0m 1ms/step \n",
      ">114, d(loss on real and fake)[1.063,1.061], d(acc on real and fake)[39.981,40.165], g(loss)[0.706]\n",
      "\u001b[1m32/32\u001b[0m \u001b[32m━━━━━━━━━━━━━━━━━━━━\u001b[0m\u001b[37m\u001b[0m \u001b[1m0s\u001b[0m 2ms/step \n",
      ">115, d(loss on real and fake)[1.061,1.059], d(acc on real and fake)[40.220,40.401], g(loss)[0.708]\n",
      "\u001b[1m32/32\u001b[0m \u001b[32m━━━━━━━━━━━━━━━━━━━━\u001b[0m\u001b[37m\u001b[0m \u001b[1m0s\u001b[0m 2ms/step \n",
      ">116, d(loss on real and fake)[1.059,1.057], d(acc on real and fake)[40.448,40.617], g(loss)[0.710]\n",
      "\u001b[1m32/32\u001b[0m \u001b[32m━━━━━━━━━━━━━━━━━━━━\u001b[0m\u001b[37m\u001b[0m \u001b[1m0s\u001b[0m 2ms/step \n",
      ">117, d(loss on real and fake)[1.056,1.055], d(acc on real and fake)[40.663,40.824], g(loss)[0.712]\n",
      "\u001b[1m32/32\u001b[0m \u001b[32m━━━━━━━━━━━━━━━━━━━━\u001b[0m\u001b[37m\u001b[0m \u001b[1m0s\u001b[0m 2ms/step \n",
      ">118, d(loss on real and fake)[1.054,1.052], d(acc on real and fake)[40.880,41.047], g(loss)[0.714]\n",
      "\u001b[1m32/32\u001b[0m \u001b[32m━━━━━━━━━━━━━━━━━━━━\u001b[0m\u001b[37m\u001b[0m \u001b[1m0s\u001b[0m 2ms/step \n",
      ">119, d(loss on real and fake)[1.052,1.050], d(acc on real and fake)[41.092,41.259], g(loss)[0.717]\n",
      "\u001b[1m32/32\u001b[0m \u001b[32m━━━━━━━━━━━━━━━━━━━━\u001b[0m\u001b[37m\u001b[0m \u001b[1m0s\u001b[0m 2ms/step\n",
      ">120, d(loss on real and fake)[1.050,1.048], d(acc on real and fake)[41.295,41.461], g(loss)[0.719]\n",
      "\u001b[1m32/32\u001b[0m \u001b[32m━━━━━━━━━━━━━━━━━━━━\u001b[0m\u001b[37m\u001b[0m \u001b[1m0s\u001b[0m 2ms/step\n",
      ">121, d(loss on real and fake)[1.048,1.046], d(acc on real and fake)[41.502,41.671], g(loss)[0.721]\n",
      "\u001b[1m32/32\u001b[0m \u001b[32m━━━━━━━━━━━━━━━━━━━━\u001b[0m\u001b[37m\u001b[0m \u001b[1m0s\u001b[0m 2ms/step\n",
      ">122, d(loss on real and fake)[1.046,1.044], d(acc on real and fake)[41.717,41.914], g(loss)[0.724]\n",
      "\u001b[1m32/32\u001b[0m \u001b[32m━━━━━━━━━━━━━━━━━━━━\u001b[0m\u001b[37m\u001b[0m \u001b[1m0s\u001b[0m 2ms/step\n",
      ">123, d(loss on real and fake)[1.044,1.042], d(acc on real and fake)[41.954,42.154], g(loss)[0.727]\n",
      "\u001b[1m32/32\u001b[0m \u001b[32m━━━━━━━━━━━━━━━━━━━━\u001b[0m\u001b[37m\u001b[0m \u001b[1m0s\u001b[0m 2ms/step\n",
      ">124, d(loss on real and fake)[1.042,1.040], d(acc on real and fake)[42.195,42.394], g(loss)[0.730]\n",
      "\u001b[1m32/32\u001b[0m \u001b[32m━━━━━━━━━━━━━━━━━━━━\u001b[0m\u001b[37m\u001b[0m \u001b[1m0s\u001b[0m 3ms/step\n",
      ">125, d(loss on real and fake)[1.039,1.037], d(acc on real and fake)[42.440,42.633], g(loss)[0.733]\n",
      "\u001b[1m32/32\u001b[0m \u001b[32m━━━━━━━━━━━━━━━━━━━━\u001b[0m\u001b[37m\u001b[0m \u001b[1m0s\u001b[0m 6ms/step\n",
      ">126, d(loss on real and fake)[1.037,1.035], d(acc on real and fake)[42.672,42.863], g(loss)[0.735]\n",
      "\u001b[1m32/32\u001b[0m \u001b[32m━━━━━━━━━━━━━━━━━━━━\u001b[0m\u001b[37m\u001b[0m \u001b[1m0s\u001b[0m 2ms/step\n",
      ">127, d(loss on real and fake)[1.035,1.033], d(acc on real and fake)[42.902,43.088], g(loss)[0.738]\n",
      "\u001b[1m32/32\u001b[0m \u001b[32m━━━━━━━━━━━━━━━━━━━━\u001b[0m\u001b[37m\u001b[0m \u001b[1m0s\u001b[0m 2ms/step\n",
      ">128, d(loss on real and fake)[1.033,1.031], d(acc on real and fake)[43.128,43.307], g(loss)[0.741]\n",
      "\u001b[1m32/32\u001b[0m \u001b[32m━━━━━━━━━━━━━━━━━━━━\u001b[0m\u001b[37m\u001b[0m \u001b[1m0s\u001b[0m 2ms/step\n",
      ">129, d(loss on real and fake)[1.031,1.029], d(acc on real and fake)[43.348,43.524], g(loss)[0.743]\n",
      "\u001b[1m32/32\u001b[0m \u001b[32m━━━━━━━━━━━━━━━━━━━━\u001b[0m\u001b[37m\u001b[0m \u001b[1m0s\u001b[0m 2ms/step\n",
      ">130, d(loss on real and fake)[1.028,1.027], d(acc on real and fake)[43.561,43.732], g(loss)[0.746]\n",
      "\u001b[1m32/32\u001b[0m \u001b[32m━━━━━━━━━━━━━━━━━━━━\u001b[0m\u001b[37m\u001b[0m \u001b[1m0s\u001b[0m 2ms/step\n",
      ">131, d(loss on real and fake)[1.027,1.025], d(acc on real and fake)[43.760,43.926], g(loss)[0.748]\n",
      "\u001b[1m32/32\u001b[0m \u001b[32m━━━━━━━━━━━━━━━━━━━━\u001b[0m\u001b[37m\u001b[0m \u001b[1m0s\u001b[0m 2ms/step\n",
      ">132, d(loss on real and fake)[1.025,1.023], d(acc on real and fake)[43.959,44.111], g(loss)[0.750]\n",
      "\u001b[1m32/32\u001b[0m \u001b[32m━━━━━━━━━━━━━━━━━━━━\u001b[0m\u001b[37m\u001b[0m \u001b[1m0s\u001b[0m 2ms/step\n",
      ">133, d(loss on real and fake)[1.023,1.021], d(acc on real and fake)[44.153,44.297], g(loss)[0.752]\n",
      "\u001b[1m32/32\u001b[0m \u001b[32m━━━━━━━━━━━━━━━━━━━━\u001b[0m\u001b[37m\u001b[0m \u001b[1m0s\u001b[0m 4ms/step\n",
      ">134, d(loss on real and fake)[1.021,1.019], d(acc on real and fake)[44.330,44.472], g(loss)[0.754]\n",
      "\u001b[1m32/32\u001b[0m \u001b[32m━━━━━━━━━━━━━━━━━━━━\u001b[0m\u001b[37m\u001b[0m \u001b[1m0s\u001b[0m 2ms/step\n",
      ">135, d(loss on real and fake)[1.019,1.017], d(acc on real and fake)[44.508,44.642], g(loss)[0.755]\n",
      "\u001b[1m32/32\u001b[0m \u001b[32m━━━━━━━━━━━━━━━━━━━━\u001b[0m\u001b[37m\u001b[0m \u001b[1m0s\u001b[0m 3ms/step\n",
      ">136, d(loss on real and fake)[1.017,1.016], d(acc on real and fake)[44.673,44.806], g(loss)[0.757]\n",
      "\u001b[1m32/32\u001b[0m \u001b[32m━━━━━━━━━━━━━━━━━━━━\u001b[0m\u001b[37m\u001b[0m \u001b[1m0s\u001b[0m 2ms/step\n",
      ">137, d(loss on real and fake)[1.016,1.014], d(acc on real and fake)[44.842,44.961], g(loss)[0.759]\n",
      "\u001b[1m32/32\u001b[0m \u001b[32m━━━━━━━━━━━━━━━━━━━━\u001b[0m\u001b[37m\u001b[0m \u001b[1m0s\u001b[0m 2ms/step\n",
      ">138, d(loss on real and fake)[1.014,1.013], d(acc on real and fake)[44.997,45.116], g(loss)[0.760]\n",
      "\u001b[1m32/32\u001b[0m \u001b[32m━━━━━━━━━━━━━━━━━━━━\u001b[0m\u001b[37m\u001b[0m \u001b[1m0s\u001b[0m 2ms/step\n",
      ">139, d(loss on real and fake)[1.013,1.011], d(acc on real and fake)[45.149,45.282], g(loss)[0.762]\n",
      "\u001b[1m32/32\u001b[0m \u001b[32m━━━━━━━━━━━━━━━━━━━━\u001b[0m\u001b[37m\u001b[0m \u001b[1m0s\u001b[0m 2ms/step\n",
      ">140, d(loss on real and fake)[1.011,1.009], d(acc on real and fake)[45.309,45.431], g(loss)[0.763]\n",
      "\u001b[1m32/32\u001b[0m \u001b[32m━━━━━━━━━━━━━━━━━━━━\u001b[0m\u001b[37m\u001b[0m \u001b[1m0s\u001b[0m 2ms/step\n",
      ">141, d(loss on real and fake)[1.009,1.008], d(acc on real and fake)[45.470,45.598], g(loss)[0.764]\n",
      "\u001b[1m32/32\u001b[0m \u001b[32m━━━━━━━━━━━━━━━━━━━━\u001b[0m\u001b[37m\u001b[0m \u001b[1m0s\u001b[0m 2ms/step\n",
      ">142, d(loss on real and fake)[1.008,1.006], d(acc on real and fake)[45.628,45.743], g(loss)[0.766]\n",
      "\u001b[1m32/32\u001b[0m \u001b[32m━━━━━━━━━━━━━━━━━━━━\u001b[0m\u001b[37m\u001b[0m \u001b[1m0s\u001b[0m 2ms/step\n",
      ">143, d(loss on real and fake)[1.006,1.005], d(acc on real and fake)[45.778,45.901], g(loss)[0.767]\n",
      "\u001b[1m32/32\u001b[0m \u001b[32m━━━━━━━━━━━━━━━━━━━━\u001b[0m\u001b[37m\u001b[0m \u001b[1m0s\u001b[0m 2ms/step\n",
      ">144, d(loss on real and fake)[1.005,1.003], d(acc on real and fake)[45.934,46.052], g(loss)[0.768]\n",
      "\u001b[1m32/32\u001b[0m \u001b[32m━━━━━━━━━━━━━━━━━━━━\u001b[0m\u001b[37m\u001b[0m \u001b[1m0s\u001b[0m 3ms/step\n",
      ">145, d(loss on real and fake)[1.003,1.002], d(acc on real and fake)[46.081,46.202], g(loss)[0.769]\n",
      "\u001b[1m32/32\u001b[0m \u001b[32m━━━━━━━━━━━━━━━━━━━━\u001b[0m\u001b[37m\u001b[0m \u001b[1m0s\u001b[0m 2ms/step\n",
      ">146, d(loss on real and fake)[1.002,1.000], d(acc on real and fake)[46.222,46.352], g(loss)[0.771]\n",
      "\u001b[1m32/32\u001b[0m \u001b[32m━━━━━━━━━━━━━━━━━━━━\u001b[0m\u001b[37m\u001b[0m \u001b[1m0s\u001b[0m 2ms/step\n",
      ">147, d(loss on real and fake)[1.000,0.999], d(acc on real and fake)[46.383,46.509], g(loss)[0.772]\n",
      "\u001b[1m32/32\u001b[0m \u001b[32m━━━━━━━━━━━━━━━━━━━━\u001b[0m\u001b[37m\u001b[0m \u001b[1m0s\u001b[0m 2ms/step\n",
      ">148, d(loss on real and fake)[0.999,0.997], d(acc on real and fake)[46.540,46.663], g(loss)[0.773]\n",
      "\u001b[1m32/32\u001b[0m \u001b[32m━━━━━━━━━━━━━━━━━━━━\u001b[0m\u001b[37m\u001b[0m \u001b[1m0s\u001b[0m 2ms/step\n",
      ">149, d(loss on real and fake)[0.997,0.996], d(acc on real and fake)[46.691,46.808], g(loss)[0.774]\n",
      "\u001b[1m32/32\u001b[0m \u001b[32m━━━━━━━━━━━━━━━━━━━━\u001b[0m\u001b[37m\u001b[0m \u001b[1m0s\u001b[0m 2ms/step\n",
      ">150, d(loss on real and fake)[0.996,0.995], d(acc on real and fake)[46.827,46.939], g(loss)[0.775]\n",
      "\u001b[1m32/32\u001b[0m \u001b[32m━━━━━━━━━━━━━━━━━━━━\u001b[0m\u001b[37m\u001b[0m \u001b[1m0s\u001b[0m 2ms/step\n",
      ">151, d(loss on real and fake)[0.995,0.993], d(acc on real and fake)[46.964,47.076], g(loss)[0.776]\n",
      "\u001b[1m32/32\u001b[0m \u001b[32m━━━━━━━━━━━━━━━━━━━━\u001b[0m\u001b[37m\u001b[0m \u001b[1m0s\u001b[0m 2ms/step\n",
      ">152, d(loss on real and fake)[0.993,0.992], d(acc on real and fake)[47.100,47.214], g(loss)[0.777]\n",
      "\u001b[1m32/32\u001b[0m \u001b[32m━━━━━━━━━━━━━━━━━━━━\u001b[0m\u001b[37m\u001b[0m \u001b[1m0s\u001b[0m 2ms/step\n",
      ">153, d(loss on real and fake)[0.992,0.991], d(acc on real and fake)[47.238,47.343], g(loss)[0.777]\n",
      "\u001b[1m32/32\u001b[0m \u001b[32m━━━━━━━━━━━━━━━━━━━━\u001b[0m\u001b[37m\u001b[0m \u001b[1m0s\u001b[0m 2ms/step\n",
      ">154, d(loss on real and fake)[0.991,0.989], d(acc on real and fake)[47.376,47.495], g(loss)[0.778]\n",
      "\u001b[1m32/32\u001b[0m \u001b[32m━━━━━━━━━━━━━━━━━━━━\u001b[0m\u001b[37m\u001b[0m \u001b[1m0s\u001b[0m 2ms/step\n",
      ">155, d(loss on real and fake)[0.989,0.988], d(acc on real and fake)[47.521,47.627], g(loss)[0.779]\n",
      "\u001b[1m32/32\u001b[0m \u001b[32m━━━━━━━━━━━━━━━━━━━━\u001b[0m\u001b[37m\u001b[0m \u001b[1m0s\u001b[0m 2ms/step\n",
      ">156, d(loss on real and fake)[0.988,0.987], d(acc on real and fake)[47.659,47.756], g(loss)[0.780]\n",
      "\u001b[1m32/32\u001b[0m \u001b[32m━━━━━━━━━━━━━━━━━━━━\u001b[0m\u001b[37m\u001b[0m \u001b[1m0s\u001b[0m 2ms/step \n",
      ">157, d(loss on real and fake)[0.987,0.986], d(acc on real and fake)[47.779,47.862], g(loss)[0.780]\n",
      "\u001b[1m32/32\u001b[0m \u001b[32m━━━━━━━━━━━━━━━━━━━━\u001b[0m\u001b[37m\u001b[0m \u001b[1m0s\u001b[0m 2ms/step\n",
      ">158, d(loss on real and fake)[0.986,0.984], d(acc on real and fake)[47.876,47.952], g(loss)[0.781]\n",
      "\u001b[1m32/32\u001b[0m \u001b[32m━━━━━━━━━━━━━━━━━━━━\u001b[0m\u001b[37m\u001b[0m \u001b[1m0s\u001b[0m 2ms/step \n",
      ">159, d(loss on real and fake)[0.984,0.983], d(acc on real and fake)[47.971,48.026], g(loss)[0.781]\n",
      "\u001b[1m32/32\u001b[0m \u001b[32m━━━━━━━━━━━━━━━━━━━━\u001b[0m\u001b[37m\u001b[0m \u001b[1m0s\u001b[0m 2ms/step\n",
      ">160, d(loss on real and fake)[0.983,0.982], d(acc on real and fake)[48.050,48.107], g(loss)[0.781]\n",
      "\u001b[1m32/32\u001b[0m \u001b[32m━━━━━━━━━━━━━━━━━━━━\u001b[0m\u001b[37m\u001b[0m \u001b[1m0s\u001b[0m 3ms/step\n",
      ">161, d(loss on real and fake)[0.982,0.981], d(acc on real and fake)[48.133,48.167], g(loss)[0.781]\n",
      "\u001b[1m32/32\u001b[0m \u001b[32m━━━━━━━━━━━━━━━━━━━━\u001b[0m\u001b[37m\u001b[0m \u001b[1m0s\u001b[0m 1ms/step \n",
      ">162, d(loss on real and fake)[0.981,0.980], d(acc on real and fake)[48.183,48.206], g(loss)[0.781]\n",
      "\u001b[1m32/32\u001b[0m \u001b[32m━━━━━━━━━━━━━━━━━━━━\u001b[0m\u001b[37m\u001b[0m \u001b[1m0s\u001b[0m 1ms/step \n",
      ">163, d(loss on real and fake)[0.980,0.979], d(acc on real and fake)[48.227,48.252], g(loss)[0.781]\n",
      "\u001b[1m32/32\u001b[0m \u001b[32m━━━━━━━━━━━━━━━━━━━━\u001b[0m\u001b[37m\u001b[0m \u001b[1m0s\u001b[0m 2ms/step \n",
      ">164, d(loss on real and fake)[0.979,0.978], d(acc on real and fake)[48.272,48.280], g(loss)[0.781]\n",
      "\u001b[1m32/32\u001b[0m \u001b[32m━━━━━━━━━━━━━━━━━━━━\u001b[0m\u001b[37m\u001b[0m \u001b[1m0s\u001b[0m 1ms/step \n",
      ">165, d(loss on real and fake)[0.978,0.977], d(acc on real and fake)[48.303,48.310], g(loss)[0.781]\n",
      "\u001b[1m32/32\u001b[0m \u001b[32m━━━━━━━━━━━━━━━━━━━━\u001b[0m\u001b[37m\u001b[0m \u001b[1m0s\u001b[0m 2ms/step\n",
      ">166, d(loss on real and fake)[0.977,0.976], d(acc on real and fake)[48.340,48.365], g(loss)[0.781]\n",
      "\u001b[1m32/32\u001b[0m \u001b[32m━━━━━━━━━━━━━━━━━━━━\u001b[0m\u001b[37m\u001b[0m \u001b[1m0s\u001b[0m 1ms/step \n",
      ">167, d(loss on real and fake)[0.976,0.975], d(acc on real and fake)[48.393,48.434], g(loss)[0.782]\n",
      "\u001b[1m32/32\u001b[0m \u001b[32m━━━━━━━━━━━━━━━━━━━━\u001b[0m\u001b[37m\u001b[0m \u001b[1m0s\u001b[0m 1ms/step \n",
      ">168, d(loss on real and fake)[0.975,0.974], d(acc on real and fake)[48.453,48.519], g(loss)[0.782]\n",
      "\u001b[1m32/32\u001b[0m \u001b[32m━━━━━━━━━━━━━━━━━━━━\u001b[0m\u001b[37m\u001b[0m \u001b[1m0s\u001b[0m 1ms/step \n",
      ">169, d(loss on real and fake)[0.974,0.973], d(acc on real and fake)[48.536,48.619], g(loss)[0.782]\n",
      "\u001b[1m32/32\u001b[0m \u001b[32m━━━━━━━━━━━━━━━━━━━━\u001b[0m\u001b[37m\u001b[0m \u001b[1m0s\u001b[0m 2ms/step \n",
      ">170, d(loss on real and fake)[0.973,0.972], d(acc on real and fake)[48.637,48.738], g(loss)[0.783]\n",
      "\u001b[1m32/32\u001b[0m \u001b[32m━━━━━━━━━━━━━━━━━━━━\u001b[0m\u001b[37m\u001b[0m \u001b[1m0s\u001b[0m 2ms/step \n",
      ">171, d(loss on real and fake)[0.972,0.971], d(acc on real and fake)[48.756,48.861], g(loss)[0.784]\n",
      "\u001b[1m32/32\u001b[0m \u001b[32m━━━━━━━━━━━━━━━━━━━━\u001b[0m\u001b[37m\u001b[0m \u001b[1m0s\u001b[0m 1ms/step \n",
      ">172, d(loss on real and fake)[0.971,0.970], d(acc on real and fake)[48.884,48.991], g(loss)[0.784]\n",
      "\u001b[1m32/32\u001b[0m \u001b[32m━━━━━━━━━━━━━━━━━━━━\u001b[0m\u001b[37m\u001b[0m \u001b[1m0s\u001b[0m 1ms/step \n",
      ">173, d(loss on real and fake)[0.970,0.969], d(acc on real and fake)[49.008,49.120], g(loss)[0.785]\n",
      "\u001b[1m32/32\u001b[0m \u001b[32m━━━━━━━━━━━━━━━━━━━━\u001b[0m\u001b[37m\u001b[0m \u001b[1m0s\u001b[0m 1ms/step \n",
      ">174, d(loss on real and fake)[0.969,0.968], d(acc on real and fake)[49.140,49.253], g(loss)[0.785]\n",
      "\u001b[1m32/32\u001b[0m \u001b[32m━━━━━━━━━━━━━━━━━━━━\u001b[0m\u001b[37m\u001b[0m \u001b[1m0s\u001b[0m 1ms/step \n",
      ">175, d(loss on real and fake)[0.968,0.967], d(acc on real and fake)[49.271,49.391], g(loss)[0.786]\n",
      "\u001b[1m32/32\u001b[0m \u001b[32m━━━━━━━━━━━━━━━━━━━━\u001b[0m\u001b[37m\u001b[0m \u001b[1m0s\u001b[0m 1ms/step \n",
      ">176, d(loss on real and fake)[0.967,0.966], d(acc on real and fake)[49.411,49.532], g(loss)[0.787]\n",
      "\u001b[1m32/32\u001b[0m \u001b[32m━━━━━━━━━━━━━━━━━━━━\u001b[0m\u001b[37m\u001b[0m \u001b[1m0s\u001b[0m 2ms/step\n",
      ">177, d(loss on real and fake)[0.966,0.965], d(acc on real and fake)[49.546,49.663], g(loss)[0.788]\n",
      "\u001b[1m32/32\u001b[0m \u001b[32m━━━━━━━━━━━━━━━━━━━━\u001b[0m\u001b[37m\u001b[0m \u001b[1m0s\u001b[0m 1ms/step \n",
      ">178, d(loss on real and fake)[0.964,0.963], d(acc on real and fake)[49.683,49.804], g(loss)[0.788]\n",
      "\u001b[1m32/32\u001b[0m \u001b[32m━━━━━━━━━━━━━━━━━━━━\u001b[0m\u001b[37m\u001b[0m \u001b[1m0s\u001b[0m 1ms/step \n",
      ">179, d(loss on real and fake)[0.963,0.962], d(acc on real and fake)[49.821,49.945], g(loss)[0.789]\n",
      "\u001b[1m32/32\u001b[0m \u001b[32m━━━━━━━━━━━━━━━━━━━━\u001b[0m\u001b[37m\u001b[0m \u001b[1m0s\u001b[0m 1ms/step \n",
      ">180, d(loss on real and fake)[0.962,0.961], d(acc on real and fake)[49.967,50.094], g(loss)[0.790]\n",
      "\u001b[1m32/32\u001b[0m \u001b[32m━━━━━━━━━━━━━━━━━━━━\u001b[0m\u001b[37m\u001b[0m \u001b[1m0s\u001b[0m 2ms/step \n",
      ">181, d(loss on real and fake)[0.961,0.960], d(acc on real and fake)[50.106,50.231], g(loss)[0.791]\n",
      "\u001b[1m32/32\u001b[0m \u001b[32m━━━━━━━━━━━━━━━━━━━━\u001b[0m\u001b[37m\u001b[0m \u001b[1m0s\u001b[0m 1ms/step \n",
      ">182, d(loss on real and fake)[0.960,0.959], d(acc on real and fake)[50.252,50.377], g(loss)[0.792]\n",
      "\u001b[1m32/32\u001b[0m \u001b[32m━━━━━━━━━━━━━━━━━━━━\u001b[0m\u001b[37m\u001b[0m \u001b[1m0s\u001b[0m 1ms/step \n",
      ">183, d(loss on real and fake)[0.959,0.958], d(acc on real and fake)[50.389,50.512], g(loss)[0.792]\n",
      "\u001b[1m32/32\u001b[0m \u001b[32m━━━━━━━━━━━━━━━━━━━━\u001b[0m\u001b[37m\u001b[0m \u001b[1m0s\u001b[0m 1ms/step \n",
      ">184, d(loss on real and fake)[0.958,0.957], d(acc on real and fake)[50.528,50.648], g(loss)[0.793]\n",
      "\u001b[1m32/32\u001b[0m \u001b[32m━━━━━━━━━━━━━━━━━━━━\u001b[0m\u001b[37m\u001b[0m \u001b[1m0s\u001b[0m 1ms/step \n",
      ">185, d(loss on real and fake)[0.957,0.956], d(acc on real and fake)[50.666,50.785], g(loss)[0.794]\n",
      "\u001b[1m32/32\u001b[0m \u001b[32m━━━━━━━━━━━━━━━━━━━━\u001b[0m\u001b[37m\u001b[0m \u001b[1m0s\u001b[0m 1ms/step \n",
      ">186, d(loss on real and fake)[0.956,0.955], d(acc on real and fake)[50.801,50.915], g(loss)[0.794]\n",
      "\u001b[1m32/32\u001b[0m \u001b[32m━━━━━━━━━━━━━━━━━━━━\u001b[0m\u001b[37m\u001b[0m \u001b[1m0s\u001b[0m 1ms/step \n",
      ">187, d(loss on real and fake)[0.955,0.954], d(acc on real and fake)[50.929,51.043], g(loss)[0.795]\n",
      "\u001b[1m32/32\u001b[0m \u001b[32m━━━━━━━━━━━━━━━━━━━━\u001b[0m\u001b[37m\u001b[0m \u001b[1m0s\u001b[0m 1ms/step \n",
      ">188, d(loss on real and fake)[0.954,0.953], d(acc on real and fake)[51.049,51.155], g(loss)[0.796]\n",
      "\u001b[1m32/32\u001b[0m \u001b[32m━━━━━━━━━━━━━━━━━━━━\u001b[0m\u001b[37m\u001b[0m \u001b[1m0s\u001b[0m 1ms/step \n",
      ">189, d(loss on real and fake)[0.953,0.952], d(acc on real and fake)[51.170,51.284], g(loss)[0.796]\n",
      "\u001b[1m32/32\u001b[0m \u001b[32m━━━━━━━━━━━━━━━━━━━━\u001b[0m\u001b[37m\u001b[0m \u001b[1m0s\u001b[0m 2ms/step \n",
      ">190, d(loss on real and fake)[0.952,0.951], d(acc on real and fake)[51.300,51.411], g(loss)[0.797]\n",
      "\u001b[1m32/32\u001b[0m \u001b[32m━━━━━━━━━━━━━━━━━━━━\u001b[0m\u001b[37m\u001b[0m \u001b[1m0s\u001b[0m 2ms/step\n",
      ">191, d(loss on real and fake)[0.951,0.950], d(acc on real and fake)[51.424,51.537], g(loss)[0.797]\n",
      "\u001b[1m32/32\u001b[0m \u001b[32m━━━━━━━━━━━━━━━━━━━━\u001b[0m\u001b[37m\u001b[0m \u001b[1m0s\u001b[0m 2ms/step \n",
      ">192, d(loss on real and fake)[0.950,0.949], d(acc on real and fake)[51.554,51.666], g(loss)[0.798]\n",
      "\u001b[1m32/32\u001b[0m \u001b[32m━━━━━━━━━━━━━━━━━━━━\u001b[0m\u001b[37m\u001b[0m \u001b[1m0s\u001b[0m 2ms/step \n",
      ">193, d(loss on real and fake)[0.949,0.948], d(acc on real and fake)[51.679,51.786], g(loss)[0.798]\n",
      "\u001b[1m32/32\u001b[0m \u001b[32m━━━━━━━━━━━━━━━━━━━━\u001b[0m\u001b[37m\u001b[0m \u001b[1m0s\u001b[0m 1ms/step \n",
      ">194, d(loss on real and fake)[0.948,0.947], d(acc on real and fake)[51.811,51.920], g(loss)[0.799]\n",
      "\u001b[1m32/32\u001b[0m \u001b[32m━━━━━━━━━━━━━━━━━━━━\u001b[0m\u001b[37m\u001b[0m \u001b[1m0s\u001b[0m 1ms/step \n",
      ">195, d(loss on real and fake)[0.947,0.946], d(acc on real and fake)[51.930,52.034], g(loss)[0.799]\n",
      "\u001b[1m32/32\u001b[0m \u001b[32m━━━━━━━━━━━━━━━━━━━━\u001b[0m\u001b[37m\u001b[0m \u001b[1m0s\u001b[0m 1ms/step \n",
      ">196, d(loss on real and fake)[0.946,0.945], d(acc on real and fake)[52.053,52.158], g(loss)[0.799]\n",
      "\u001b[1m32/32\u001b[0m \u001b[32m━━━━━━━━━━━━━━━━━━━━\u001b[0m\u001b[37m\u001b[0m \u001b[1m0s\u001b[0m 1ms/step \n",
      ">197, d(loss on real and fake)[0.945,0.944], d(acc on real and fake)[52.170,52.274], g(loss)[0.800]\n",
      "\u001b[1m32/32\u001b[0m \u001b[32m━━━━━━━━━━━━━━━━━━━━\u001b[0m\u001b[37m\u001b[0m \u001b[1m0s\u001b[0m 2ms/step \n",
      ">198, d(loss on real and fake)[0.944,0.943], d(acc on real and fake)[52.288,52.383], g(loss)[0.800]\n",
      "\u001b[1m32/32\u001b[0m \u001b[32m━━━━━━━━━━━━━━━━━━━━\u001b[0m\u001b[37m\u001b[0m \u001b[1m0s\u001b[0m 2ms/step\n",
      ">199, d(loss on real and fake)[0.943,0.942], d(acc on real and fake)[52.392,52.480], g(loss)[0.800]\n",
      "\u001b[1m32/32\u001b[0m \u001b[32m━━━━━━━━━━━━━━━━━━━━\u001b[0m\u001b[37m\u001b[0m \u001b[1m0s\u001b[0m 2ms/step\n",
      ">200, d(loss on real and fake)[0.942,0.942], d(acc on real and fake)[52.486,52.575], g(loss)[0.800]\n",
      "\u001b[1m32/32\u001b[0m \u001b[32m━━━━━━━━━━━━━━━━━━━━\u001b[0m\u001b[37m\u001b[0m \u001b[1m0s\u001b[0m 2ms/step \n",
      ">201, d(loss on real and fake)[0.941,0.941], d(acc on real and fake)[52.591,52.662], g(loss)[0.801]\n",
      "\u001b[1m32/32\u001b[0m \u001b[32m━━━━━━━━━━━━━━━━━━━━\u001b[0m\u001b[37m\u001b[0m \u001b[1m0s\u001b[0m 2ms/step \n",
      ">202, d(loss on real and fake)[0.941,0.940], d(acc on real and fake)[52.673,52.733], g(loss)[0.801]\n",
      "\u001b[1m32/32\u001b[0m \u001b[32m━━━━━━━━━━━━━━━━━━━━\u001b[0m\u001b[37m\u001b[0m \u001b[1m0s\u001b[0m 1ms/step \n",
      ">203, d(loss on real and fake)[0.940,0.939], d(acc on real and fake)[52.749,52.795], g(loss)[0.801]\n",
      "\u001b[1m32/32\u001b[0m \u001b[32m━━━━━━━━━━━━━━━━━━━━\u001b[0m\u001b[37m\u001b[0m \u001b[1m0s\u001b[0m 2ms/step \n",
      ">204, d(loss on real and fake)[0.939,0.939], d(acc on real and fake)[52.806,52.832], g(loss)[0.801]\n",
      "\u001b[1m32/32\u001b[0m \u001b[32m━━━━━━━━━━━━━━━━━━━━\u001b[0m\u001b[37m\u001b[0m \u001b[1m0s\u001b[0m 1ms/step \n",
      ">205, d(loss on real and fake)[0.939,0.938], d(acc on real and fake)[52.844,52.838], g(loss)[0.800]\n",
      "\u001b[1m32/32\u001b[0m \u001b[32m━━━━━━━━━━━━━━━━━━━━\u001b[0m\u001b[37m\u001b[0m \u001b[1m0s\u001b[0m 1ms/step \n",
      ">206, d(loss on real and fake)[0.938,0.937], d(acc on real and fake)[52.851,52.825], g(loss)[0.800]\n",
      "\u001b[1m32/32\u001b[0m \u001b[32m━━━━━━━━━━━━━━━━━━━━\u001b[0m\u001b[37m\u001b[0m \u001b[1m0s\u001b[0m 1ms/step \n",
      ">207, d(loss on real and fake)[0.937,0.937], d(acc on real and fake)[52.835,52.803], g(loss)[0.800]\n",
      "\u001b[1m32/32\u001b[0m \u001b[32m━━━━━━━━━━━━━━━━━━━━\u001b[0m\u001b[37m\u001b[0m \u001b[1m0s\u001b[0m 1ms/step \n",
      ">208, d(loss on real and fake)[0.937,0.936], d(acc on real and fake)[52.811,52.765], g(loss)[0.800]\n",
      "\u001b[1m32/32\u001b[0m \u001b[32m━━━━━━━━━━━━━━━━━━━━\u001b[0m\u001b[37m\u001b[0m \u001b[1m0s\u001b[0m 1ms/step \n",
      ">209, d(loss on real and fake)[0.936,0.936], d(acc on real and fake)[52.781,52.724], g(loss)[0.799]\n",
      "\u001b[1m32/32\u001b[0m \u001b[32m━━━━━━━━━━━━━━━━━━━━\u001b[0m\u001b[37m\u001b[0m \u001b[1m0s\u001b[0m 1ms/step \n",
      ">210, d(loss on real and fake)[0.936,0.935], d(acc on real and fake)[52.743,52.677], g(loss)[0.799]\n",
      "\u001b[1m32/32\u001b[0m \u001b[32m━━━━━━━━━━━━━━━━━━━━\u001b[0m\u001b[37m\u001b[0m \u001b[1m0s\u001b[0m 2ms/step \n",
      ">211, d(loss on real and fake)[0.935,0.935], d(acc on real and fake)[52.692,52.623], g(loss)[0.799]\n",
      "\u001b[1m32/32\u001b[0m \u001b[32m━━━━━━━━━━━━━━━━━━━━\u001b[0m\u001b[37m\u001b[0m \u001b[1m0s\u001b[0m 6ms/step\n",
      ">212, d(loss on real and fake)[0.935,0.934], d(acc on real and fake)[52.636,52.568], g(loss)[0.798]\n",
      "\u001b[1m32/32\u001b[0m \u001b[32m━━━━━━━━━━━━━━━━━━━━\u001b[0m\u001b[37m\u001b[0m \u001b[1m0s\u001b[0m 2ms/step\n",
      ">213, d(loss on real and fake)[0.934,0.934], d(acc on real and fake)[52.575,52.500], g(loss)[0.798]\n",
      "\u001b[1m32/32\u001b[0m \u001b[32m━━━━━━━━━━━━━━━━━━━━\u001b[0m\u001b[37m\u001b[0m \u001b[1m0s\u001b[0m 1ms/step \n",
      ">214, d(loss on real and fake)[0.934,0.934], d(acc on real and fake)[52.510,52.442], g(loss)[0.797]\n",
      "\u001b[1m32/32\u001b[0m \u001b[32m━━━━━━━━━━━━━━━━━━━━\u001b[0m\u001b[37m\u001b[0m \u001b[1m0s\u001b[0m 2ms/step \n",
      ">215, d(loss on real and fake)[0.934,0.933], d(acc on real and fake)[52.452,52.387], g(loss)[0.797]\n",
      "\u001b[1m32/32\u001b[0m \u001b[32m━━━━━━━━━━━━━━━━━━━━\u001b[0m\u001b[37m\u001b[0m \u001b[1m0s\u001b[0m 2ms/step \n",
      ">216, d(loss on real and fake)[0.933,0.933], d(acc on real and fake)[52.407,52.343], g(loss)[0.797]\n",
      "\u001b[1m32/32\u001b[0m \u001b[32m━━━━━━━━━━━━━━━━━━━━\u001b[0m\u001b[37m\u001b[0m \u001b[1m0s\u001b[0m 2ms/step \n",
      ">217, d(loss on real and fake)[0.933,0.932], d(acc on real and fake)[52.354,52.293], g(loss)[0.796]\n",
      "\u001b[1m32/32\u001b[0m \u001b[32m━━━━━━━━━━━━━━━━━━━━\u001b[0m\u001b[37m\u001b[0m \u001b[1m0s\u001b[0m 2ms/step\n",
      ">218, d(loss on real and fake)[0.932,0.932], d(acc on real and fake)[52.310,52.250], g(loss)[0.796]\n",
      "\u001b[1m32/32\u001b[0m \u001b[32m━━━━━━━━━━━━━━━━━━━━\u001b[0m\u001b[37m\u001b[0m \u001b[1m0s\u001b[0m 2ms/step\n",
      ">219, d(loss on real and fake)[0.932,0.931], d(acc on real and fake)[52.264,52.195], g(loss)[0.796]\n",
      "\u001b[1m32/32\u001b[0m \u001b[32m━━━━━━━━━━━━━━━━━━━━\u001b[0m\u001b[37m\u001b[0m \u001b[1m0s\u001b[0m 3ms/step\n",
      ">220, d(loss on real and fake)[0.931,0.931], d(acc on real and fake)[52.211,52.155], g(loss)[0.795]\n"
     ]
    },
    {
     "data": {
      "image/png": "[encoded data removed]",
      "text/plain": [
       "<Figure size 800x400 with 1 Axes>"
      ]
     },
     "metadata": {},
     "output_type": "display_data"
    },
    {
     "data": {
      "image/png": "[encoded data removed]",
      "text/plain": [
       "<Figure size 800x400 with 1 Axes>"
      ]
     },
     "metadata": {},
     "output_type": "display_data"
    }
   ],
   "source": [
    "tf.keras.backend.clear_session()\n",
    "latent_dim = 500\n",
    "epochs = 10\n",
    "batch_size = 1000\n",
    "dataset = load_real_samples(X_train,y_train)\n",
    "\n",
    "best_c_model = train_script(latent_dim=latent_dim, n_epochs=epochs, n_batch=batch_size, train_dataset=dataset, c = True)\n",
    "\n",
    "#to get the best discriminator model trained with fake data\n",
    "latent_dim = 500\n",
    "epochs = 10\n",
    "batch_size = 1000\n",
    "dataset = load_real_samples(X_train,y_train)\n",
    "\n",
    "best_c_model = train_script(latent_dim=latent_dim, n_epochs=epochs, n_batch=batch_size, train_dataset=dataset, c = True)\n",
    "\n",
    "_, best_d_model, best_g_model, best_gan = train_script(latent_dim=latent_dim, n_epochs=epochs, n_batch=batch_size, train_dataset=dataset, c = False)"
   ]
  },
  {
   "cell_type": "markdown",
   "id": "232790bf",
   "metadata": {},
   "source": [
    "Generating Fake Data for Model Evaluation"
   ]
  },
  {
   "cell_type": "code",
   "execution_count": 20,
   "id": "9698457f",
   "metadata": {},
   "outputs": [
    {
     "name": "stdout",
     "output_type": "stream",
     "text": [
      "\u001b[1m79/79\u001b[0m \u001b[32m━━━━━━━━━━━━━━━━━━━━\u001b[0m\u001b[37m\u001b[0m \u001b[1m1s\u001b[0m 7ms/step\n",
      "\u001b[1m235/235\u001b[0m \u001b[32m━━━━━━━━━━━━━━━━━━━━\u001b[0m\u001b[37m\u001b[0m \u001b[1m1s\u001b[0m 2ms/step\n"
     ]
    }
   ],
   "source": [
    "## Creating Fake Data\n",
    "\n",
    "n_classes = 3\n",
    "\n",
    "# Augmenting Test Data\n",
    "fake_test_tokens, fake_test_labels = generate_fake_samples(best_g_model, latent_dim=latent_dim, n_samples=int(X_test.shape[0] / n_classes))\n",
    "\n",
    "X_test_with_fakes = np.concatenate((X_test, fake_test_tokens), axis = 0)\n",
    "y_test_with_fakes = np.concatenate((y_test, fake_test_labels.flatten()), axis = 0)\n",
    "\n",
    "indices = tf.range(start=0, limit=tf.shape(X_test_with_fakes)[0], dtype=tf.int32)\n",
    "shuffled_indices = tf.random.shuffle(indices)\n",
    "\n",
    "X_test_with_fakes = tf.gather(X_test_with_fakes, shuffled_indices)\n",
    "y_test_with_fakes = tf.gather(y_test_with_fakes, shuffled_indices)\n",
    "\n",
    "\n",
    "#Augmenting Train Data\n",
    "fake_train_tokens, fake_train_labels = generate_fake_samples(best_g_model, latent_dim=latent_dim, n_samples=int(X_train.shape[0] / n_classes))\n",
    "\n",
    "X_train_with_fakes = np.concatenate((X_train, fake_train_tokens), axis=0)\n",
    "y_train_with_fakes = np.concatenate((y_train, fake_train_labels.flatten()), axis=0)\n",
    "\n",
    "indices = tf.range(start=0, limit=tf.shape(X_train_with_fakes)[0], dtype=tf.int32)\n",
    "shuffled_indices = tf.random.shuffle(indices)\n",
    "\n",
    "X_train_with_fakes = tf.gather(X_train_with_fakes, shuffled_indices)\n",
    "y_train_with_fakes = tf.gather(y_train_with_fakes, shuffled_indices)"
   ]
  },
  {
   "cell_type": "markdown",
   "id": "10104828",
   "metadata": {},
   "source": [
    "Generate Predictions from the Discriminator Classifier"
   ]
  },
  {
   "cell_type": "code",
   "execution_count": 21,
   "id": "23a26834",
   "metadata": {},
   "outputs": [
    {
     "name": "stdout",
     "output_type": "stream",
     "text": [
      "\u001b[1m313/313\u001b[0m \u001b[32m━━━━━━━━━━━━━━━━━━━━\u001b[0m\u001b[37m\u001b[0m \u001b[1m1s\u001b[0m 4ms/step\n",
      "\u001b[1m313/313\u001b[0m \u001b[32m━━━━━━━━━━━━━━━━━━━━\u001b[0m\u001b[37m\u001b[0m \u001b[1m1s\u001b[0m 1ms/step - accuracy: 0.4353 - loss: 0.8858\n",
      "\u001b[1m 40/938\u001b[0m \u001b[37m━━━━━━━━━━━━━━━━━━━━\u001b[0m \u001b[1m1s\u001b[0m 1ms/step  "
     ]
    },
    {
     "name": "stderr",
     "output_type": "stream",
     "text": [
      "/Users/thossain64/anaconda3/lib/python3.11/site-packages/sklearn/metrics/_classification.py:1469: UndefinedMetricWarning: Precision and F-score are ill-defined and being set to 0.0 in labels with no predicted samples. Use `zero_division` parameter to control this behavior.\n",
      "  _warn_prf(average, modifier, msg_start, len(result))\n",
      "/Users/thossain64/anaconda3/lib/python3.11/site-packages/sklearn/metrics/_classification.py:1469: UndefinedMetricWarning: Precision and F-score are ill-defined and being set to 0.0 in labels with no predicted samples. Use `zero_division` parameter to control this behavior.\n",
      "  _warn_prf(average, modifier, msg_start, len(result))\n",
      "/Users/thossain64/anaconda3/lib/python3.11/site-packages/sklearn/metrics/_classification.py:1469: UndefinedMetricWarning: Precision and F-score are ill-defined and being set to 0.0 in labels with no predicted samples. Use `zero_division` parameter to control this behavior.\n",
      "  _warn_prf(average, modifier, msg_start, len(result))\n"
     ]
    },
    {
     "name": "stdout",
     "output_type": "stream",
     "text": [
      "\u001b[1m938/938\u001b[0m \u001b[32m━━━━━━━━━━━━━━━━━━━━\u001b[0m\u001b[37m\u001b[0m \u001b[1m1s\u001b[0m 1ms/step\n",
      "\u001b[1m938/938\u001b[0m \u001b[32m━━━━━━━━━━━━━━━━━━━━\u001b[0m\u001b[37m\u001b[0m \u001b[1m1s\u001b[0m 1ms/step - accuracy: 0.4639 - loss: 0.8495\n"
     ]
    },
    {
     "name": "stderr",
     "output_type": "stream",
     "text": [
      "/Users/thossain64/anaconda3/lib/python3.11/site-packages/sklearn/metrics/_classification.py:1469: UndefinedMetricWarning: Precision and F-score are ill-defined and being set to 0.0 in labels with no predicted samples. Use `zero_division` parameter to control this behavior.\n",
      "  _warn_prf(average, modifier, msg_start, len(result))\n",
      "/Users/thossain64/anaconda3/lib/python3.11/site-packages/sklearn/metrics/_classification.py:1469: UndefinedMetricWarning: Precision and F-score are ill-defined and being set to 0.0 in labels with no predicted samples. Use `zero_division` parameter to control this behavior.\n",
      "  _warn_prf(average, modifier, msg_start, len(result))\n",
      "/Users/thossain64/anaconda3/lib/python3.11/site-packages/sklearn/metrics/_classification.py:1469: UndefinedMetricWarning: Precision and F-score are ill-defined and being set to 0.0 in labels with no predicted samples. Use `zero_division` parameter to control this behavior.\n",
      "  _warn_prf(average, modifier, msg_start, len(result))\n"
     ]
    }
   ],
   "source": [
    "# Test Set Predictions \n",
    "d_test_predictions = best_d_model.predict(X_test_with_fakes)\n",
    "d_test_predicted_labels = d_test_predictions.argmax(axis=1)\n",
    "d_test_loss, d_test_accuracy = best_d_model.evaluate(X_test_with_fakes, y_test_with_fakes)\n",
    "\n",
    "test_discriminator_classification_report = classification_report(y_test_with_fakes, d_test_predicted_labels, target_names=['Hesiod', 'Homer', 'Homeric Hymns', 'Generated CLS'])\n",
    "\n",
    "# Train Set Predictions\n",
    "d_train_preds = best_d_model.predict(X_train_with_fakes) \n",
    "d_train_predicted_labels = d_train_preds.argmax(axis=1)\n",
    "d_train_loss, d_train_acc = best_d_model.evaluate(X_train_with_fakes, y_train_with_fakes) # Fixed: Use evaluate method correctly\n",
    "\n",
    "train_discriminator_classification_report = classification_report(y_train_with_fakes, d_train_predicted_labels, target_names=['Hesiod', 'Homer', 'Homeric Hymns', 'Generated CLS'])\n"
   ]
  },
  {
   "cell_type": "markdown",
   "id": "ccdf6cd7",
   "metadata": {},
   "source": [
    "Generate Predictions from the Baseline Classifier"
   ]
  },
  {
   "cell_type": "code",
   "execution_count": 22,
   "id": "c413b40f",
   "metadata": {},
   "outputs": [
    {
     "name": "stdout",
     "output_type": "stream",
     "text": [
      "\u001b[1m235/235\u001b[0m \u001b[32m━━━━━━━━━━━━━━━━━━━━\u001b[0m\u001b[37m\u001b[0m \u001b[1m0s\u001b[0m 1ms/step\n",
      "\u001b[1m235/235\u001b[0m \u001b[32m━━━━━━━━━━━━━━━━━━━━\u001b[0m\u001b[37m\u001b[0m \u001b[1m0s\u001b[0m 1ms/step - accuracy: 0.5473 - loss: 0.9511\n",
      "\u001b[1m704/704\u001b[0m \u001b[32m━━━━━━━━━━━━━━━━━━━━\u001b[0m\u001b[37m\u001b[0m \u001b[1m1s\u001b[0m 1ms/step\n",
      "\u001b[1m704/704\u001b[0m \u001b[32m━━━━━━━━━━━━━━━━━━━━\u001b[0m\u001b[37m\u001b[0m \u001b[1m1s\u001b[0m 1ms/step - accuracy: 0.5917 - loss: 0.9125\n"
     ]
    }
   ],
   "source": [
    "#Test Set Predictions\n",
    "c_test_predictions = best_c_model.predict(X_test)\n",
    "c_test_predicted_labels = c_test_predictions.argmax(axis=1)\n",
    "c_test_loss, c_test_accuracy = best_c_model.evaluate(X_test, y_test)\n",
    "\n",
    "test_baseline_classification_report = classification_report(y_test, c_test_predicted_labels, target_names=['Hesiod', 'Homer', 'Homeric Hymns'])\n",
    "\n",
    "# Train Set Predictions\n",
    "c_train_predictions = best_c_model.predict(X_train)\n",
    "c_train_predicted_labels = c_train_predictions.argmax(axis=1)\n",
    "c_train_loss, c_train_accuracy = best_c_model.evaluate(X_train, y_train)\n",
    "\n",
    "train_baseline_classification_report = classification_report(y_train, c_train_predicted_labels, target_names=['Hesiod', 'Homer', 'Homeric Hymns'])"
   ]
  },
  {
   "cell_type": "code",
   "execution_count": 23,
   "id": "87808f72",
   "metadata": {},
   "outputs": [
    {
     "name": "stdout",
     "output_type": "stream",
     "text": [
      "Discriminator Testing Set Performance: 10k Balanced Dataset\n",
      "               precision    recall  f1-score   support\n",
      "\n",
      "       Hesiod       0.62      0.58      0.60      2481\n",
      "        Homer       0.30      0.67      0.42      2503\n",
      "Homeric Hymns       0.55      0.48      0.51      2516\n",
      "Generated CLS       0.00      0.00      0.00      2500\n",
      "\n",
      "     accuracy                           0.43     10000\n",
      "    macro avg       0.37      0.43      0.38     10000\n",
      " weighted avg       0.37      0.43      0.38     10000\n",
      "\n",
      "\n",
      "discriminator test loss:  0.8866323828697205\n",
      "discriminator test accuracy:  0.4318999946117401\n"
     ]
    }
   ],
   "source": [
    "print(\"Discriminator Testing Set Performance: 10k Balanced Dataset\")\n",
    "print(test_discriminator_classification_report)\n",
    "print(\"\")\n",
    "print(\"discriminator test loss: \", d_test_loss)\n",
    "print(\"discriminator test accuracy: \", d_test_accuracy)"
   ]
  },
  {
   "cell_type": "code",
   "execution_count": 24,
   "id": "6538f0af",
   "metadata": {},
   "outputs": [
    {
     "name": "stdout",
     "output_type": "stream",
     "text": [
      "Discriminator Training Set Performance: 10k Balanced Dataset\n",
      "               precision    recall  f1-score   support\n",
      "\n",
      "       Hesiod       0.69      0.64      0.66      7519\n",
      "        Homer       0.32      0.70      0.44      7497\n",
      "Homeric Hymns       0.59      0.52      0.55      7484\n",
      "Generated CLS       0.00      0.00      0.00      7500\n",
      "\n",
      "     accuracy                           0.47     30000\n",
      "    macro avg       0.40      0.47      0.41     30000\n",
      " weighted avg       0.40      0.47      0.41     30000\n",
      "\n",
      "\n",
      "discriminator train loss:  0.8500056266784668\n",
      "discriminator train accuracy:  0.4650999903678894\n"
     ]
    }
   ],
   "source": [
    "print(\"Discriminator Training Set Performance: 10k Balanced Dataset\")\n",
    "print(train_discriminator_classification_report)\n",
    "print(\"\")\n",
    "print(\"discriminator train loss: \", d_train_loss)\n",
    "print(\"discriminator train accuracy: \", d_train_acc)"
   ]
  },
  {
   "cell_type": "code",
   "execution_count": 25,
   "id": "ac3f8b29",
   "metadata": {},
   "outputs": [
    {
     "name": "stdout",
     "output_type": "stream",
     "text": [
      "Baseline Testing Set Performance: 10k Balanced Dataset\n",
      "               precision    recall  f1-score   support\n",
      "\n",
      "       Hesiod       0.57      0.57      0.57      2481\n",
      "        Homer       0.53      0.59      0.56      2503\n",
      "Homeric Hymns       0.56      0.50      0.53      2516\n",
      "\n",
      "     accuracy                           0.55      7500\n",
      "    macro avg       0.55      0.55      0.55      7500\n",
      " weighted avg       0.55      0.55      0.55      7500\n",
      "\n",
      "\n",
      "baseline test loss:  0.9496978521347046\n",
      "baseline test accuracy:  0.5537333488464355\n"
     ]
    }
   ],
   "source": [
    "print(\"Baseline Testing Set Performance: 10k Balanced Dataset\")\n",
    "print(test_baseline_classification_report)\n",
    "print(\"\")\n",
    "print(\"baseline test loss: \", c_test_loss)\n",
    "print(\"baseline test accuracy: \", c_test_accuracy)"
   ]
  },
  {
   "cell_type": "code",
   "execution_count": 26,
   "id": "566e3876",
   "metadata": {},
   "outputs": [
    {
     "name": "stdout",
     "output_type": "stream",
     "text": [
      "Baseline Training Set Performance: 10k Balanced Dataset\n",
      "               precision    recall  f1-score   support\n",
      "\n",
      "       Hesiod       0.62      0.62      0.62      7519\n",
      "        Homer       0.57      0.62      0.59      7497\n",
      "Homeric Hymns       0.60      0.54      0.57      7484\n",
      "\n",
      "     accuracy                           0.59     22500\n",
      "    macro avg       0.59      0.59      0.59     22500\n",
      " weighted avg       0.59      0.59      0.59     22500\n",
      "\n",
      "\n",
      "baseline train loss:  0.9069923758506775\n",
      "baseline train accuracy:  0.5929333567619324\n"
     ]
    }
   ],
   "source": [
    "print(\"Baseline Training Set Performance: 10k Balanced Dataset\")\n",
    "print(train_baseline_classification_report)\n",
    "print(\"\")\n",
    "print(\"baseline train loss: \", c_train_loss)\n",
    "print(\"baseline train accuracy: \", c_train_accuracy)"
   ]
  },
  {
   "cell_type": "markdown",
   "id": "46c68641",
   "metadata": {},
   "source": [
    "Data Export for Further Analysis "
   ]
  },
  {
   "cell_type": "code",
   "execution_count": 27,
   "id": "f690287f",
   "metadata": {},
   "outputs": [],
   "source": [
    "## Baseline Data Export \n",
    "\n",
    "baseline_test_predictions = pd.DataFrame({\"baseline_test_labels\": y_test, \n",
    "                                          \"baseline_test_preds\": c_test_predicted_labels})\n",
    "\n",
    "baseline_train_predictions = pd.DataFrame({\"baseline_train_labels\": y_train, \n",
    "                                          \"baseline_train_preds\": c_train_predicted_labels})\n",
    "\n",
    "baseline_train_predictions.to_csv(\"10k_baseline_train_predictions\", index=True)\n",
    "baseline_test_predictions.to_csv(\"10k_baseline_test_predictions\", index=True)\n",
    "\n",
    "X_test_numpy = X_test.numpy()\n",
    "X_train_numpy = X_train.numpy()\n",
    "\n",
    "# Convert numpy array to DataFrame\n",
    "X_test_df = pd.DataFrame(X_test_numpy)\n",
    "X_train_df = pd.DataFrame(X_train_numpy)\n",
    "\n",
    "# Save the DataFrame to a CSV file\n",
    "X_test_df.to_csv('10k_baseline_X_test.csv', index=True)\n",
    "X_train_df.to_csv('10k_baseline_X_train.csv', index=True)"
   ]
  },
  {
   "cell_type": "code",
   "execution_count": 28,
   "id": "898a7e74",
   "metadata": {},
   "outputs": [],
   "source": [
    "## Discriminator Data Export \n",
    "\n",
    "discrim_test_predictions = pd.DataFrame({\"discrim_test_labels\": y_test_with_fakes, \n",
    "                                         \"discrim_test_preds\": d_test_predicted_labels})\n",
    "\n",
    "discrim_train_predictions = pd.DataFrame({\"discrim_train_labels\": y_train_with_fakes, \n",
    "                                          \"discrim_train_preds\": d_train_predicted_labels})\n",
    "\n",
    "discrim_test_predictions.to_csv(\"10k_discrim_test_predictions\", index=True)\n",
    "discrim_train_predictions.to_csv(\"10k_discrim_train_predictions\", index=True)\n",
    "\n",
    "discrim_X_test_numpy = X_test_with_fakes.numpy()\n",
    "discrim_X_train_numpy = X_train_with_fakes.numpy()\n",
    "\n",
    "discrim_X_test_df = pd.DataFrame(discrim_X_test_numpy)\n",
    "discrim_X_train_df = pd.DataFrame(discrim_X_train_numpy)\n",
    "\n",
    "discrim_X_test_df.to_csv('10k_discrim_X_test.csv', index=True)\n",
    "discrim_X_train_df.to_csv('10k_discrim_X_train.csv', index=True)"
   ]
  },
  {
   "cell_type": "code",
   "execution_count": null,
   "id": "9c812055-693b-42e8-b716-4af8e884a48a",
   "metadata": {},
   "outputs": [],
   "source": []
  },
  {
   "cell_type": "code",
   "execution_count": null,
   "id": "9e20f0c6-2f65-45e3-a8ea-86fb8c3de850",
   "metadata": {},
   "outputs": [],
   "source": []
  }
 ],
 "metadata": {
  "kernelspec": {
   "display_name": "Python 3 (ipykernel)",
   "language": "python",
   "name": "python3"
  },
  "language_info": {
   "codemirror_mode": {
    "name": "ipython",
    "version": 3
   },
   "file_extension": ".py",
   "mimetype": "text/x-python",
   "name": "python",
   "nbconvert_exporter": "python",
   "pygments_lexer": "ipython3",
   "version": "3.11.8"
  }
 },
 "nbformat": 4,
 "nbformat_minor": 5
}
